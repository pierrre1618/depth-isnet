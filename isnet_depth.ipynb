{
  "cells": [
    {
      "cell_type": "markdown",
      "metadata": {
        "id": "3Pm8iPML-oMe"
      },
      "source": [
        "#Notebook train and inference"
      ]
    },
    {
      "cell_type": "markdown",
      "metadata": {
        "id": "bUmvebtD_Ka5"
      },
      "source": [
        "##initialisation"
      ]
    },
    {
      "cell_type": "markdown",
      "metadata": {
        "id": "OG63vsPh-4Ds"
      },
      "source": [
        "###check RAM memory and GPU type (google colab)"
      ]
    },
    {
      "cell_type": "code",
      "execution_count": 2,
      "metadata": {
        "colab": {
          "base_uri": "https://localhost:8080/"
        },
        "id": "5b5jrmn3nmdd",
        "outputId": "fc89e9f2-cfa1-4d36-f484-2adc707a006a"
      },
      "outputs": [
        {
          "output_type": "stream",
          "name": "stdout",
          "text": [
            "/bin/bash: line 1: nvidia-smi: command not found\n",
            "Your runtime has 54.8 gigabytes of available RAM\n",
            "\n",
            "You are using a high-RAM runtime!\n"
          ]
        }
      ],
      "source": [
        "from psutil import virtual_memory\n",
        "gpu_info = !nvidia-smi\n",
        "gpu_info = '\\n'.join(gpu_info)\n",
        "if gpu_info.find('failed') >= 0:\n",
        "  print('Not connected to a GPU')\n",
        "else:\n",
        "  print(gpu_info)\n",
        "ram_gb = virtual_memory().total / 1e9\n",
        "print('Your runtime has {:.1f} gigabytes of available RAM\\n'.format(ram_gb))\n",
        "\n",
        "if ram_gb < 20:\n",
        "  print('Not using a high-RAM runtime')\n",
        "else:\n",
        "  print('You are using a high-RAM runtime!')"
      ]
    },
    {
      "cell_type": "markdown",
      "metadata": {
        "id": "wJg1wSNzNBRZ"
      },
      "source": [
        "###install onnx for inference\n"
      ]
    },
    {
      "cell_type": "code",
      "execution_count": 3,
      "metadata": {
        "colab": {
          "base_uri": "https://localhost:8080/"
        },
        "id": "dIKoOb4vM5aH",
        "outputId": "a3bfda65-1ad9-4e6f-a4e9-263b3214519d"
      },
      "outputs": [
        {
          "output_type": "stream",
          "name": "stdout",
          "text": [
            "Collecting onnx\n",
            "  Downloading onnx-1.17.0-cp311-cp311-manylinux_2_17_x86_64.manylinux2014_x86_64.whl.metadata (16 kB)\n",
            "Requirement already satisfied: numpy>=1.20 in /usr/local/lib/python3.11/dist-packages (from onnx) (1.26.4)\n",
            "Requirement already satisfied: protobuf>=3.20.2 in /usr/local/lib/python3.11/dist-packages (from onnx) (4.25.6)\n",
            "Downloading onnx-1.17.0-cp311-cp311-manylinux_2_17_x86_64.manylinux2014_x86_64.whl (16.0 MB)\n",
            "\u001b[2K   \u001b[90m━━━━━━━━━━━━━━━━━━━━━━━━━━━━━━━━━━━━━━━━\u001b[0m \u001b[32m16.0/16.0 MB\u001b[0m \u001b[31m90.4 MB/s\u001b[0m eta \u001b[36m0:00:00\u001b[0m\n",
            "\u001b[?25hInstalling collected packages: onnx\n",
            "Successfully installed onnx-1.17.0\n",
            "Collecting onnxruntime\n",
            "  Downloading onnxruntime-1.20.1-cp311-cp311-manylinux_2_27_x86_64.manylinux_2_28_x86_64.whl.metadata (4.5 kB)\n",
            "Collecting coloredlogs (from onnxruntime)\n",
            "  Downloading coloredlogs-15.0.1-py2.py3-none-any.whl.metadata (12 kB)\n",
            "Requirement already satisfied: flatbuffers in /usr/local/lib/python3.11/dist-packages (from onnxruntime) (25.2.10)\n",
            "Requirement already satisfied: numpy>=1.21.6 in /usr/local/lib/python3.11/dist-packages (from onnxruntime) (1.26.4)\n",
            "Requirement already satisfied: packaging in /usr/local/lib/python3.11/dist-packages (from onnxruntime) (24.2)\n",
            "Requirement already satisfied: protobuf in /usr/local/lib/python3.11/dist-packages (from onnxruntime) (4.25.6)\n",
            "Requirement already satisfied: sympy in /usr/local/lib/python3.11/dist-packages (from onnxruntime) (1.13.1)\n",
            "Collecting humanfriendly>=9.1 (from coloredlogs->onnxruntime)\n",
            "  Downloading humanfriendly-10.0-py2.py3-none-any.whl.metadata (9.2 kB)\n",
            "Requirement already satisfied: mpmath<1.4,>=1.1.0 in /usr/local/lib/python3.11/dist-packages (from sympy->onnxruntime) (1.3.0)\n",
            "Downloading onnxruntime-1.20.1-cp311-cp311-manylinux_2_27_x86_64.manylinux_2_28_x86_64.whl (13.3 MB)\n",
            "\u001b[2K   \u001b[90m━━━━━━━━━━━━━━━━━━━━━━━━━━━━━━━━━━━━━━━━\u001b[0m \u001b[32m13.3/13.3 MB\u001b[0m \u001b[31m69.8 MB/s\u001b[0m eta \u001b[36m0:00:00\u001b[0m\n",
            "\u001b[?25hDownloading coloredlogs-15.0.1-py2.py3-none-any.whl (46 kB)\n",
            "\u001b[2K   \u001b[90m━━━━━━━━━━━━━━━━━━━━━━━━━━━━━━━━━━━━━━━━\u001b[0m \u001b[32m46.0/46.0 kB\u001b[0m \u001b[31m3.8 MB/s\u001b[0m eta \u001b[36m0:00:00\u001b[0m\n",
            "\u001b[?25hDownloading humanfriendly-10.0-py2.py3-none-any.whl (86 kB)\n",
            "\u001b[2K   \u001b[90m━━━━━━━━━━━━━━━━━━━━━━━━━━━━━━━━━━━━━━━━\u001b[0m \u001b[32m86.8/86.8 kB\u001b[0m \u001b[31m9.1 MB/s\u001b[0m eta \u001b[36m0:00:00\u001b[0m\n",
            "\u001b[?25hInstalling collected packages: humanfriendly, coloredlogs, onnxruntime\n",
            "Successfully installed coloredlogs-15.0.1 humanfriendly-10.0 onnxruntime-1.20.1\n"
          ]
        }
      ],
      "source": [
        "!pip install onnx\n",
        "!pip install onnxruntime"
      ]
    },
    {
      "cell_type": "markdown",
      "metadata": {
        "id": "rKRyMlopPITp"
      },
      "source": [
        "###choose device"
      ]
    },
    {
      "cell_type": "code",
      "execution_count": 4,
      "metadata": {
        "id": "2KHFh0jXO3vT"
      },
      "outputs": [],
      "source": [
        "import torch\n",
        "device = 'cuda' if torch.cuda.is_available() else 'cpu'"
      ]
    },
    {
      "cell_type": "markdown",
      "metadata": {
        "id": "fSxiUiRH_053"
      },
      "source": [
        "### mount to your google cloud\n",
        "the code will work without be checkpoints will not be save after the runtime deleted"
      ]
    },
    {
      "cell_type": "code",
      "execution_count": 5,
      "metadata": {
        "colab": {
          "base_uri": "https://localhost:8080/"
        },
        "id": "_HdDIf47oGxK",
        "outputId": "37aa9147-2369-4254-916a-af00f1701d5f"
      },
      "outputs": [
        {
          "output_type": "stream",
          "name": "stdout",
          "text": [
            "Mounted at /content/drive\n"
          ]
        }
      ],
      "source": [
        "from google.colab import drive\n",
        "drive.mount('/content/drive',force_remount=True)"
      ]
    },
    {
      "cell_type": "markdown",
      "source": [
        "###copy in drive folder that will contain save checkpoints"
      ],
      "metadata": {
        "id": "MIzb6Q01fvJF"
      }
    },
    {
      "cell_type": "code",
      "source": [
        "import os\n",
        "import gdown\n",
        "\n",
        "\n",
        "# Define folder IDs (from the shared links)\n",
        "folder_ids = {\n",
        "    \"isnet_depth_save\": \"12YNqjjk2eoXs1pDGgC7x7BX8x1PbZVJU\",\n",
        "    \"isnet_classic_save\": \"1gqpKalCZgtU-5F9W7p45bANFTRGDOqyr\"\n",
        "}\n",
        "\n",
        "# Define destination in Google Drive\n",
        "destination_drive_base = \"/content/drive/MyDrive\"\n",
        "\n",
        "# Loop through each folder\n",
        "for folder_name, folder_id in folder_ids.items():\n",
        "    folder_path = os.path.join(destination_drive_base, folder_name)\n",
        "\n",
        "    # Check if folder already exists\n",
        "    if os.path.exists(folder_path):\n",
        "        print(f\"Skipping {folder_name} - already exists in Google Drive.\")\n",
        "    else:\n",
        "        print(f\"Copying {folder_name} to Google Drive...\")\n",
        "        gdown.download_folder(f\"https://drive.google.com/drive/folders/{folder_id}\", output=folder_path, quiet=False)\n",
        "        print(f\"{folder_name} copied successfully!\")\n",
        "\n",
        "print(\"Process completed!\")"
      ],
      "metadata": {
        "colab": {
          "base_uri": "https://localhost:8080/"
        },
        "id": "fGjXe5Qvdosf",
        "outputId": "17a3cbee-87b0-4b2c-fad3-aec613e670a1"
      },
      "execution_count": 28,
      "outputs": [
        {
          "output_type": "stream",
          "name": "stdout",
          "text": [
            "Copying isnet_depth_save to Google Drive...\n",
            "Processing file 1PUnl6E7y5Uy3jWDbodo5aVXLlQkJlW9u isnet_depth.pth\n"
          ]
        },
        {
          "output_type": "stream",
          "name": "stderr",
          "text": [
            "Retrieving folder contents\n",
            "Retrieving folder contents completed\n",
            "Building directory structure\n",
            "Building directory structure completed\n",
            "Downloading...\n",
            "From (original): https://drive.google.com/uc?id=1PUnl6E7y5Uy3jWDbodo5aVXLlQkJlW9u\n",
            "From (redirected): https://drive.google.com/uc?id=1PUnl6E7y5Uy3jWDbodo5aVXLlQkJlW9u&confirm=t&uuid=e85877ad-8c05-43a3-b4ed-94e4137f2d43\n",
            "To: /content/drive/MyDrive/isnet_depth_save/isnet_depth.pth\n",
            "100%|██████████| 177M/177M [00:01<00:00, 95.9MB/s]\n",
            "Download completed\n",
            "Retrieving folder contents\n"
          ]
        },
        {
          "output_type": "stream",
          "name": "stdout",
          "text": [
            "isnet_depth_save copied successfully!\n",
            "Copying isnet_classic_save to Google Drive...\n",
            "Processing file 1v8NUbD-rEIEY5JANiuCaPtJUuYbZjK4S isnet_classic.pth\n"
          ]
        },
        {
          "output_type": "stream",
          "name": "stderr",
          "text": [
            "Retrieving folder contents completed\n",
            "Building directory structure\n",
            "Building directory structure completed\n",
            "Downloading...\n",
            "From (original): https://drive.google.com/uc?id=1v8NUbD-rEIEY5JANiuCaPtJUuYbZjK4S\n",
            "From (redirected): https://drive.google.com/uc?id=1v8NUbD-rEIEY5JANiuCaPtJUuYbZjK4S&confirm=t&uuid=65860a06-7207-4e68-ae1e-d174a93588b9\n",
            "To: /content/drive/MyDrive/isnet_classic_save/isnet_classic.pth\n",
            "100%|██████████| 177M/177M [00:01<00:00, 88.6MB/s]\n"
          ]
        },
        {
          "output_type": "stream",
          "name": "stdout",
          "text": [
            "isnet_classic_save copied successfully!\n",
            "Process completed!\n"
          ]
        },
        {
          "output_type": "stream",
          "name": "stderr",
          "text": [
            "Download completed\n"
          ]
        }
      ]
    },
    {
      "cell_type": "markdown",
      "metadata": {
        "id": "maHaYmUQABFL"
      },
      "source": [
        "###clone the ISNET model repository"
      ]
    },
    {
      "cell_type": "code",
      "execution_count": 7,
      "metadata": {
        "colab": {
          "base_uri": "https://localhost:8080/"
        },
        "id": "g85wzM36z3Z-",
        "outputId": "860f6e93-5471-47ec-fd0e-9a921b34187a"
      },
      "outputs": [
        {
          "output_type": "stream",
          "name": "stdout",
          "text": [
            "Cloning into 'DIS'...\n",
            "remote: Enumerating objects: 361, done.\u001b[K\n",
            "remote: Counting objects: 100% (184/184), done.\u001b[K\n",
            "remote: Compressing objects: 100% (52/52), done.\u001b[K\n",
            "remote: Total 361 (delta 159), reused 132 (delta 132), pack-reused 177 (from 1)\u001b[K\n",
            "Receiving objects: 100% (361/361), 49.60 MiB | 44.51 MiB/s, done.\n",
            "Resolving deltas: 100% (176/176), done.\n"
          ]
        }
      ],
      "source": [
        "!git clone https://github.com/xuebinqin/DIS.git"
      ]
    },
    {
      "cell_type": "markdown",
      "source": [
        "###clone the ISNET depth change file"
      ],
      "metadata": {
        "id": "lcmw1lE4k3Sy"
      }
    },
    {
      "cell_type": "code",
      "source": [
        "!git clone https://github.com/pierrre1618/depth-isnet.git"
      ],
      "metadata": {
        "colab": {
          "base_uri": "https://localhost:8080/"
        },
        "id": "QQyybsDfkB3y",
        "outputId": "fb009d26-48f9-4570-eab7-2287678b6ae3"
      },
      "execution_count": 8,
      "outputs": [
        {
          "output_type": "stream",
          "name": "stdout",
          "text": [
            "Cloning into 'depth-isnet'...\n",
            "remote: Enumerating objects: 21, done.\u001b[K\n",
            "remote: Counting objects: 100% (21/21), done.\u001b[K\n",
            "remote: Compressing objects: 100% (20/20), done.\u001b[K\n",
            "remote: Total 21 (delta 8), reused 0 (delta 0), pack-reused 0 (from 0)\u001b[K\n",
            "Receiving objects: 100% (21/21), 2.44 MiB | 6.65 MiB/s, done.\n",
            "Resolving deltas: 100% (8/8), done.\n"
          ]
        }
      ]
    },
    {
      "cell_type": "markdown",
      "metadata": {
        "id": "50cQ_HpyAMv0"
      },
      "source": [
        "###change the current directory to be inside the DIS project"
      ]
    },
    {
      "cell_type": "code",
      "execution_count": 9,
      "metadata": {
        "colab": {
          "base_uri": "https://localhost:8080/"
        },
        "id": "8jDZt6E_z9pR",
        "outputId": "8e3ccc66-9a1a-487c-9a2a-02948d66e826"
      },
      "outputs": [
        {
          "output_type": "stream",
          "name": "stdout",
          "text": [
            "/content/DIS/IS-Net\n"
          ]
        }
      ],
      "source": [
        "%cd DIS/IS-Net/"
      ]
    },
    {
      "cell_type": "markdown",
      "metadata": {
        "id": "iTKy2K1qAVfM"
      },
      "source": [
        "###download training data (training only)"
      ]
    },
    {
      "cell_type": "code",
      "execution_count": 16,
      "metadata": {
        "colab": {
          "base_uri": "https://localhost:8080/"
        },
        "id": "jBP0VbN8p-mi",
        "outputId": "69ae1090-5de0-405e-aa45-024eb71446cf"
      },
      "outputs": [
        {
          "output_type": "stream",
          "name": "stderr",
          "text": [
            "Downloading...\n",
            "From (original): https://drive.google.com/uc?export=download&id=1JWCZT4LNdmYUS3fSkxCO50bkxnbswDA-\n",
            "From (redirected): https://drive.google.com/uc?export=download&id=1JWCZT4LNdmYUS3fSkxCO50bkxnbswDA-&confirm=t&uuid=17fcc0ca-7946-40df-b165-a36e74f2a08a\n",
            "To: /content/DIS/IS-Net/DIS5K.zip\n",
            "100%|██████████| 1.10G/1.10G [00:08<00:00, 131MB/s]\n"
          ]
        },
        {
          "output_type": "stream",
          "name": "stdout",
          "text": [
            "File downloaded and unzipped successfully!\n"
          ]
        }
      ],
      "source": [
        "import zipfile\n",
        "\n",
        "# Google Drive file ID (extracted from the public link)\n",
        "file_id = \"1JWCZT4LNdmYUS3fSkxCO50bkxnbswDA-\"\n",
        "destination_path = \"DIS5K.zip\"  # Save the file as 'DIS5K.zip'\n",
        "\n",
        "# Download the file from Google Drive\n",
        "gdown.download(f\"https://drive.google.com/uc?export=download&id={file_id}\", destination_path, quiet=False)\n",
        "\n",
        "# Unzip the file\n",
        "with zipfile.ZipFile(destination_path, 'r') as zip_ref:\n",
        "    zip_ref.extractall('..')  # Extract in the DIS directory\n",
        "\n",
        "print(\"File downloaded and unzipped successfully!\")\n"
      ]
    },
    {
      "cell_type": "markdown",
      "metadata": {
        "id": "hRFzZNgaAzX9"
      },
      "source": [
        "###copy the new files inside the isnet project"
      ]
    },
    {
      "cell_type": "code",
      "execution_count": 11,
      "metadata": {
        "colab": {
          "base_uri": "https://localhost:8080/"
        },
        "id": "jQSfiI0YzoWh",
        "outputId": "f48b0607-a366-4971-957c-17c8d5ceb0b5"
      },
      "outputs": [
        {
          "output_type": "stream",
          "name": "stdout",
          "text": [
            "Copied: /content/depth-isnet/train_valid_inference_main_depth.py\n",
            "Copied: /content/depth-isnet/train_valid_inference_main.py\n",
            "Copied: /content/depth-isnet/data_loader_cache_depth.py\n",
            "Copied: /content/depth-isnet/data_loader_cache.py\n",
            "File copy process completed!\n"
          ]
        }
      ],
      "source": [
        "import shutil\n",
        "import os\n",
        "\n",
        "# Define the source directory (two levels up from the current working directory)\n",
        "source_dir = os.path.abspath(os.path.join(os.getcwd(), \"../../depth-isnet\"))\n",
        "\n",
        "# Define the specific files to copy\n",
        "source_files = [\n",
        "    os.path.join(source_dir, \"train_valid_inference_main_depth.py\"),\n",
        "    os.path.join(source_dir, \"train_valid_inference_main.py\"),\n",
        "    os.path.join(source_dir, \"data_loader_cache_depth.py\"),\n",
        "    os.path.join(source_dir, \"data_loader_cache.py\")\n",
        "]\n",
        "\n",
        "destination_dir = os.getcwd()  # Copy to the current directory\n",
        "\n",
        "# Copy the files\n",
        "for file_path in source_files:\n",
        "    if os.path.exists(file_path):\n",
        "        shutil.copy(file_path, destination_dir)\n",
        "        print(f\"Copied: {file_path}\")\n",
        "    else:\n",
        "        print(f\"Skipping (not found): {file_path}\")\n",
        "\n",
        "print(\"File copy process completed!\")\n"
      ]
    },
    {
      "cell_type": "markdown",
      "metadata": {
        "id": "6yXQITJIEh9K"
      },
      "source": [
        "###clear cache if needed (training only)"
      ]
    },
    {
      "cell_type": "code",
      "execution_count": 12,
      "metadata": {
        "id": "glKI5TWL2coc",
        "colab": {
          "base_uri": "https://localhost:8080/"
        },
        "outputId": "73d4ca7c-228c-4056-b62c-bc3db0833282"
      },
      "outputs": [
        {
          "output_type": "stream",
          "name": "stdout",
          "text": [
            "rm: cannot remove '../DIS5K-Cache/': No such file or directory\n"
          ]
        }
      ],
      "source": [
        "!rm -r ../DIS5K-Cache/"
      ]
    },
    {
      "cell_type": "markdown",
      "metadata": {
        "id": "_V4E5uyqIVOb"
      },
      "source": [
        "##training models (training only)"
      ]
    },
    {
      "cell_type": "markdown",
      "metadata": {
        "id": "8FFS8g_fEyD2"
      },
      "source": [
        "###function to initialise parameters, data and path (training only)"
      ]
    },
    {
      "cell_type": "code",
      "execution_count": 13,
      "metadata": {
        "id": "XaDf5vIeEtwO",
        "colab": {
          "base_uri": "https://localhost:8080/"
        },
        "outputId": "dfe717a7-879a-497e-ff92-172eafc84dfb"
      },
      "outputs": [
        {
          "output_type": "stream",
          "name": "stderr",
          "text": [
            "/usr/local/lib/python3.11/dist-packages/torch/nn/_reduction.py:51: UserWarning: size_average and reduce args will be deprecated, please use reduction='mean' instead.\n",
            "  warnings.warn(warning.format(ret))\n"
          ]
        }
      ],
      "source": [
        "import os\n",
        "import train_valid_inference_main_depth\n",
        "import train_valid_inference_main\n",
        "from transformers import pipeline\n",
        "import torch\n",
        "import shutil\n",
        "import zipfile\n",
        "from models import *\n",
        "\n",
        "def configure_datasets_and_hypar(restore_model_filename, save_model_path, ch_in, mode=\"train\"):\n",
        "    \"\"\"\n",
        "    Configures the training/validation datasets and hyperparameters.\n",
        "\n",
        "    Args:\n",
        "        restore_model_filename (str): Relative filename (or path) of the pretrained model weights\n",
        "                                      relative to save_model_path. Use \"\" if not.\n",
        "        save_model_path (str): Directory path where model weights will be saved.\n",
        "        ch_in (int): Number of input channels for the model.\n",
        "        mode (str): \"train\" for training mode or \"valid\" for validation/inference mode.\n",
        "\n",
        "    Returns:\n",
        "        tuple: A tuple containing (hypar, train_datasets, valid_datasets)\n",
        "    \"\"\"\n",
        "    ### --------------- STEP 1: Configuring the Train, Valid and Test datasets ---------------\n",
        "    # Define training dataset\n",
        "    dataset_tr = {\n",
        "        \"name\": \"DIS5K-TR\",\n",
        "        \"im_dir\": \"../DIS5K/DIS-TR/im\",\n",
        "        \"gt_dir\": \"../DIS5K/DIS-TR/gt\",\n",
        "        \"im_ext\": \".jpg\",\n",
        "        \"gt_ext\": \".png\",\n",
        "        \"cache_dir\": \"../DIS5K-Cache/DIS-TR\"\n",
        "    }\n",
        "\n",
        "    # Define validation dataset\n",
        "    dataset_vd = {\n",
        "        \"name\": \"DIS5K-VD\",\n",
        "        \"im_dir\": \"../DIS5K/DIS-VD/im\",\n",
        "        \"gt_dir\": \"../DIS5K/DIS-VD/gt\",\n",
        "        \"im_ext\": \".jpg\",\n",
        "        \"gt_ext\": \".png\",\n",
        "        \"cache_dir\": \"../DIS5K-Cache/DIS-VD\"\n",
        "    }\n",
        "\n",
        "    # (Optional) Additional test datasets can be defined here if needed.\n",
        "    dataset_te1 = {\n",
        "        \"name\": \"DIS5K-TE1\",\n",
        "        \"im_dir\": \"../DIS5K/DIS-TE1/im\",\n",
        "        \"gt_dir\": \"../DIS5K/DIS-TE1/gt\",\n",
        "        \"im_ext\": \".jpg\",\n",
        "        \"gt_ext\": \".png\",\n",
        "        \"cache_dir\": \"../DIS5K-Cache/DIS-TE1\"\n",
        "    }\n",
        "    dataset_te2 = {\n",
        "        \"name\": \"DIS5K-TE2\",\n",
        "        \"im_dir\": \"../DIS5K/DIS-TE2/im\",\n",
        "        \"gt_dir\": \"../DIS5K/DIS-TE2/gt\",\n",
        "        \"im_ext\": \".jpg\",\n",
        "        \"gt_ext\": \".png\",\n",
        "        \"cache_dir\": \"../DIS5K-Cache/DIS-TE2\"\n",
        "    }\n",
        "    dataset_te3 = {\n",
        "        \"name\": \"DIS5K-TE3\",\n",
        "        \"im_dir\": \"../DIS5K/DIS-TE3/im\",\n",
        "        \"gt_dir\": \"../DIS5K/DIS-TE3/gt\",\n",
        "        \"im_ext\": \".jpg\",\n",
        "        \"gt_ext\": \".png\",\n",
        "        \"cache_dir\": \"../DIS5K-Cache/DIS-TE3\"\n",
        "    }\n",
        "    dataset_te4 = {\n",
        "        \"name\": \"DIS5K-TE4\",\n",
        "        \"im_dir\": \"../DIS5K/DIS-TE4/im\",\n",
        "        \"gt_dir\": \"../DIS5K/DIS-TE4/gt\",\n",
        "        \"im_ext\": \".jpg\",\n",
        "        \"gt_ext\": \".png\",\n",
        "        \"cache_dir\": \"../DIS5K-Cache/DIS-TE4\"\n",
        "    }\n",
        "\n",
        "    # Assemble the dataset lists.\n",
        "    train_datasets = [dataset_tr]  # You can add more training datasets here.\n",
        "    valid_datasets = [dataset_vd]  # You can also include test sets if needed.\n",
        "\n",
        "    ### --------------- STEP 2: Configuring the hyperparameters ---------------\n",
        "    hypar = {}\n",
        "\n",
        "    # Set operation mode.\n",
        "    hypar[\"mode\"] = mode  # \"train\" for training, \"valid\" for validation/inference.\n",
        "    hypar[\"interm_sup\"] = False  # Intermediate feature supervision flag.\n",
        "\n",
        "    # Set model saving and restoring paths.\n",
        "    hypar[\"model_path\"] = save_model_path\n",
        "    if restore_model_filename:\n",
        "        # Compute the restore path relative to the save path.\n",
        "        hypar[\"restore_model\"] = restore_model_filename\n",
        "    else:\n",
        "        hypar[\"restore_model\"] = \"\"\n",
        "\n",
        "    # Setup based on mode.\n",
        "    if mode == \"train\":\n",
        "        hypar[\"valid_out_dir\"] = \"\"  # In training mode, leave the validation output directory empty.\n",
        "        # Optionally, extract the starting iteration from the filename if required.\n",
        "        hypar[\"start_ite\"] = 70000  # Update as needed if resuming training.\n",
        "    else:\n",
        "        hypar[\"valid_out_dir\"] = \"../your-results/\"  # Output directory for inference results.\n",
        "\n",
        "    hypar[\"gt_encoder_model\"] = \"\"\n",
        "\n",
        "    ## --- 2.2. Choose floating point precision ---\n",
        "    hypar[\"model_digit\"] = \"full\"  # Options: \"half\" or \"full\"\n",
        "    hypar[\"seed\"] = 0\n",
        "\n",
        "    ## --- 2.3. Cache data spatial size ---\n",
        "    hypar[\"cache_size\"] = [1024, 1024]  # Cached input spatial resolution.\n",
        "    hypar[\"cache_boost_train\"] = False  # Set to True to load all training data into RAM.\n",
        "    hypar[\"cache_boost_valid\"] = False  # Set to True to load all validation data into RAM.\n",
        "\n",
        "    ## --- 2.4. Data augmentation parameters ---\n",
        "    hypar[\"input_size\"] = [1024, 1024]  # Model input spatial size.\n",
        "    hypar[\"crop_size\"] = [900, 900]      # Random crop size for data augmentation.\n",
        "    hypar[\"random_flip_h\"] = 1  # Horizontal flip.\n",
        "    hypar[\"random_flip_v\"] = 1 # Vertical flip.\n",
        "\n",
        "    ## --- 2.5. Define model  ---\n",
        "    print(\"Building model with\", ch_in, \"input channels...\")\n",
        "    # Ensure that ISNetDIS is imported or defined in your project.\n",
        "    hypar[\"model\"] = ISNetDIS(in_ch=ch_in)\n",
        "    hypar[\"early_stop\"] = 20      # Early stopping patience.\n",
        "    hypar[\"model_save_fre\"] = 2000  # Frequency (in iterations) to save the model.\n",
        "\n",
        "    hypar[\"batch_size_train\"] = 6  # Batch size for training.\n",
        "    hypar[\"batch_size_valid\"] = 1  # Batch size for validation/inference.\n",
        "    print(\"Batch size (train):\", hypar[\"batch_size_train\"])\n",
        "\n",
        "    hypar[\"max_ite\"] = 100000000    # Maximum number of iterations.\n",
        "    hypar[\"max_epoch_num\"] = 10000000  # Maximum number of epochs.\n",
        "\n",
        "    return hypar, train_datasets, valid_datasets\n",
        "\n"
      ]
    },
    {
      "cell_type": "markdown",
      "metadata": {
        "id": "e_4vAf8XIeld"
      },
      "source": [
        "###train isnet_depth model"
      ]
    },
    {
      "cell_type": "code",
      "execution_count": 20,
      "metadata": {
        "collapsed": true,
        "id": "Dy0u6Z5s0Dgj",
        "colab": {
          "base_uri": "https://localhost:8080/",
          "height": 1000
        },
        "outputId": "9bb62ebf-7978-47c1-ddc4-3da53502a98f"
      },
      "outputs": [
        {
          "output_type": "stream",
          "name": "stdout",
          "text": [
            "Building model with 4 input channels...\n"
          ]
        },
        {
          "output_type": "stream",
          "name": "stderr",
          "text": [
            "Device set to use cpu\n"
          ]
        },
        {
          "output_type": "stream",
          "name": "stdout",
          "text": [
            "Batch size (train): 6\n",
            "--- create training dataloader ---\n",
            "------------------------------ train --------------------------------\n",
            "--->>> train  dataset  0 / 1   DIS5K-TR <<<---\n",
            "-im- DIS5K-TR ../DIS5K/DIS-TR/im :  3000\n",
            "-gt- DIS5K-TR ../DIS5K/DIS-TR/gt :  3000\n",
            "-depth- DIS5K-TR :  No Depth Found\n"
          ]
        },
        {
          "output_type": "stream",
          "name": "stderr",
          "text": [
            "\r  0%|          | 0/3000 [00:00<?, ?it/s]"
          ]
        },
        {
          "output_type": "stream",
          "name": "stdout",
          "text": [
            "Processing im_path: ../DIS5K/DIS-TR/im/1#Accessories#3#Eyeglasses#512172545_23d7ec5f38_o.jpg\n"
          ]
        },
        {
          "output_type": "stream",
          "name": "stderr",
          "text": [
            "/content/DIS/IS-Net/data_loader_cache_depth.py:159: UserWarning: `nn.functional.upsample` is deprecated. Use `nn.functional.interpolate` instead.\n",
            "  im_tensor = F.upsample(im_tensor, size, mode=\"bilinear\")\n",
            "/content/DIS/IS-Net/data_loader_cache_depth.py:173: UserWarning: To copy construct from a tensor, it is recommended to use sourceTensor.clone().detach() or sourceTensor.clone().detach().requires_grad_(True), rather than torch.tensor(sourceTensor).\n",
            "  gt_tensor = torch.unsqueeze(torch.tensor(gt_tensor, dtype=torch.float32),0)\n",
            "/content/DIS/IS-Net/data_loader_cache_depth.py:174: UserWarning: `nn.functional.upsample` is deprecated. Use `nn.functional.interpolate` instead.\n",
            "  gt_tensor = F.upsample(gt_tensor, size, mode=\"bilinear\")\n",
            "  0%|          | 1/3000 [00:01<1:09:17,  1.39s/it]/content/DIS/IS-Net/data_loader_cache_depth.py:159: UserWarning: `nn.functional.upsample` is deprecated. Use `nn.functional.interpolate` instead.\n",
            "  im_tensor = F.upsample(im_tensor, size, mode=\"bilinear\")\n",
            "/content/DIS/IS-Net/data_loader_cache_depth.py:173: UserWarning: To copy construct from a tensor, it is recommended to use sourceTensor.clone().detach() or sourceTensor.clone().detach().requires_grad_(True), rather than torch.tensor(sourceTensor).\n",
            "  gt_tensor = torch.unsqueeze(torch.tensor(gt_tensor, dtype=torch.float32),0)\n",
            "/content/DIS/IS-Net/data_loader_cache_depth.py:174: UserWarning: `nn.functional.upsample` is deprecated. Use `nn.functional.interpolate` instead.\n",
            "  gt_tensor = F.upsample(gt_tensor, size, mode=\"bilinear\")\n"
          ]
        },
        {
          "output_type": "stream",
          "name": "stdout",
          "text": [
            "Processing im_path: ../DIS5K/DIS-TR/im/11#Furniture#18#TableChair#IMG_20210512_194704.jpg\n"
          ]
        },
        {
          "output_type": "stream",
          "name": "stderr",
          "text": [
            "\r  0%|          | 2/3000 [00:02<58:43,  1.18s/it]  /content/DIS/IS-Net/data_loader_cache_depth.py:159: UserWarning: `nn.functional.upsample` is deprecated. Use `nn.functional.interpolate` instead.\n",
            "  im_tensor = F.upsample(im_tensor, size, mode=\"bilinear\")\n",
            "/content/DIS/IS-Net/data_loader_cache_depth.py:173: UserWarning: To copy construct from a tensor, it is recommended to use sourceTensor.clone().detach() or sourceTensor.clone().detach().requires_grad_(True), rather than torch.tensor(sourceTensor).\n",
            "  gt_tensor = torch.unsqueeze(torch.tensor(gt_tensor, dtype=torch.float32),0)\n",
            "/content/DIS/IS-Net/data_loader_cache_depth.py:174: UserWarning: `nn.functional.upsample` is deprecated. Use `nn.functional.interpolate` instead.\n",
            "  gt_tensor = F.upsample(gt_tensor, size, mode=\"bilinear\")\n"
          ]
        },
        {
          "output_type": "stream",
          "name": "stdout",
          "text": [
            "Processing im_path: ../DIS5K/DIS-TR/im/6#Automobile#6#Excavator#51092590823_ddf321e0f1_o.jpg\n"
          ]
        },
        {
          "output_type": "stream",
          "name": "stderr",
          "text": [
            "\r  0%|          | 3/3000 [00:03<50:39,  1.01s/it]/content/DIS/IS-Net/data_loader_cache_depth.py:159: UserWarning: `nn.functional.upsample` is deprecated. Use `nn.functional.interpolate` instead.\n",
            "  im_tensor = F.upsample(im_tensor, size, mode=\"bilinear\")\n",
            "/content/DIS/IS-Net/data_loader_cache_depth.py:173: UserWarning: To copy construct from a tensor, it is recommended to use sourceTensor.clone().detach() or sourceTensor.clone().detach().requires_grad_(True), rather than torch.tensor(sourceTensor).\n",
            "  gt_tensor = torch.unsqueeze(torch.tensor(gt_tensor, dtype=torch.float32),0)\n",
            "/content/DIS/IS-Net/data_loader_cache_depth.py:174: UserWarning: `nn.functional.upsample` is deprecated. Use `nn.functional.interpolate` instead.\n",
            "  gt_tensor = F.upsample(gt_tensor, size, mode=\"bilinear\")\n"
          ]
        },
        {
          "output_type": "stream",
          "name": "stdout",
          "text": [
            "Processing im_path: ../DIS5K/DIS-TR/im/20#Sports#9#RockClimbing#3258777507_f89fc6c7b0_o.jpg\n"
          ]
        },
        {
          "output_type": "stream",
          "name": "stderr",
          "text": [
            "\r  0%|          | 4/3000 [00:04<54:51,  1.10s/it]/content/DIS/IS-Net/data_loader_cache_depth.py:159: UserWarning: `nn.functional.upsample` is deprecated. Use `nn.functional.interpolate` instead.\n",
            "  im_tensor = F.upsample(im_tensor, size, mode=\"bilinear\")\n",
            "/content/DIS/IS-Net/data_loader_cache_depth.py:173: UserWarning: To copy construct from a tensor, it is recommended to use sourceTensor.clone().detach() or sourceTensor.clone().detach().requires_grad_(True), rather than torch.tensor(sourceTensor).\n",
            "  gt_tensor = torch.unsqueeze(torch.tensor(gt_tensor, dtype=torch.float32),0)\n",
            "/content/DIS/IS-Net/data_loader_cache_depth.py:174: UserWarning: `nn.functional.upsample` is deprecated. Use `nn.functional.interpolate` instead.\n",
            "  gt_tensor = F.upsample(gt_tensor, size, mode=\"bilinear\")\n"
          ]
        },
        {
          "output_type": "stream",
          "name": "stdout",
          "text": [
            "Processing im_path: ../DIS5K/DIS-TR/im/8#Electronics#7#MobileHolder#49733000851_8ecc798e67_o.jpg\n"
          ]
        },
        {
          "output_type": "stream",
          "name": "stderr",
          "text": [
            "\r  0%|          | 5/3000 [00:05<57:19,  1.15s/it]/content/DIS/IS-Net/data_loader_cache_depth.py:159: UserWarning: `nn.functional.upsample` is deprecated. Use `nn.functional.interpolate` instead.\n",
            "  im_tensor = F.upsample(im_tensor, size, mode=\"bilinear\")\n",
            "/content/DIS/IS-Net/data_loader_cache_depth.py:173: UserWarning: To copy construct from a tensor, it is recommended to use sourceTensor.clone().detach() or sourceTensor.clone().detach().requires_grad_(True), rather than torch.tensor(sourceTensor).\n",
            "  gt_tensor = torch.unsqueeze(torch.tensor(gt_tensor, dtype=torch.float32),0)\n",
            "/content/DIS/IS-Net/data_loader_cache_depth.py:174: UserWarning: `nn.functional.upsample` is deprecated. Use `nn.functional.interpolate` instead.\n",
            "  gt_tensor = F.upsample(gt_tensor, size, mode=\"bilinear\")\n"
          ]
        },
        {
          "output_type": "stream",
          "name": "stdout",
          "text": [
            "Processing im_path: ../DIS5K/DIS-TR/im/11#Furniture#2#Bench#382567966_bcdeb3ceea_o.jpg\n"
          ]
        },
        {
          "output_type": "stream",
          "name": "stderr",
          "text": [
            "\r  0%|          | 6/3000 [00:06<57:31,  1.15s/it]/content/DIS/IS-Net/data_loader_cache_depth.py:159: UserWarning: `nn.functional.upsample` is deprecated. Use `nn.functional.interpolate` instead.\n",
            "  im_tensor = F.upsample(im_tensor, size, mode=\"bilinear\")\n",
            "/content/DIS/IS-Net/data_loader_cache_depth.py:173: UserWarning: To copy construct from a tensor, it is recommended to use sourceTensor.clone().detach() or sourceTensor.clone().detach().requires_grad_(True), rather than torch.tensor(sourceTensor).\n",
            "  gt_tensor = torch.unsqueeze(torch.tensor(gt_tensor, dtype=torch.float32),0)\n",
            "/content/DIS/IS-Net/data_loader_cache_depth.py:174: UserWarning: `nn.functional.upsample` is deprecated. Use `nn.functional.interpolate` instead.\n",
            "  gt_tensor = F.upsample(gt_tensor, size, mode=\"bilinear\")\n"
          ]
        },
        {
          "output_type": "stream",
          "name": "stdout",
          "text": [
            "Processing im_path: ../DIS5K/DIS-TR/im/4#Architecture#1#Balcony#5047125890_3942f1f4de_o.jpg\n"
          ]
        },
        {
          "output_type": "stream",
          "name": "stderr",
          "text": [
            "\r  0%|          | 6/3000 [00:07<59:52,  1.20s/it]\n"
          ]
        },
        {
          "output_type": "error",
          "ename": "KeyboardInterrupt",
          "evalue": "",
          "traceback": [
            "\u001b[0;31m---------------------------------------------------------------------------\u001b[0m",
            "\u001b[0;31mKeyboardInterrupt\u001b[0m                         Traceback (most recent call last)",
            "\u001b[0;32m<ipython-input-20-056de360a95b>\u001b[0m in \u001b[0;36m<cell line: 0>\u001b[0;34m()\u001b[0m\n\u001b[1;32m     13\u001b[0m \u001b[0;34m\u001b[0m\u001b[0m\n\u001b[1;32m     14\u001b[0m \u001b[0;31m# Now call your main training/inference function.\u001b[0m\u001b[0;34m\u001b[0m\u001b[0;34m\u001b[0m\u001b[0m\n\u001b[0;32m---> 15\u001b[0;31m \u001b[0mtrain_valid_inference_main_depth\u001b[0m\u001b[0;34m.\u001b[0m\u001b[0mmain\u001b[0m\u001b[0;34m(\u001b[0m\u001b[0mdevice\u001b[0m\u001b[0;34m,\u001b[0m\u001b[0mpipe\u001b[0m\u001b[0;34m,\u001b[0m\u001b[0mtrain_datasets\u001b[0m\u001b[0;34m,\u001b[0m \u001b[0mvalid_datasets\u001b[0m\u001b[0;34m,\u001b[0m\u001b[0mhypar\u001b[0m\u001b[0;34m)\u001b[0m\u001b[0;34m\u001b[0m\u001b[0;34m\u001b[0m\u001b[0m\n\u001b[0m",
            "\u001b[0;32m/content/DIS/IS-Net/train_valid_inference_main_depth.py\u001b[0m in \u001b[0;36mmain\u001b[0;34m(device, pipe, train_datasets, valid_datasets, hypar)\u001b[0m\n\u001b[1;32m    531\u001b[0m         \u001b[0mtrain_nm_im_gt_list\u001b[0m \u001b[0;34m=\u001b[0m \u001b[0mget_im_gt_name_dict\u001b[0m\u001b[0;34m(\u001b[0m\u001b[0mtrain_datasets\u001b[0m\u001b[0;34m,\u001b[0m \u001b[0mflag\u001b[0m\u001b[0;34m=\u001b[0m\u001b[0;34m\"train\"\u001b[0m\u001b[0;34m)\u001b[0m\u001b[0;34m\u001b[0m\u001b[0;34m\u001b[0m\u001b[0m\n\u001b[1;32m    532\u001b[0m         \u001b[0;31m## build dataloader for training datasets\u001b[0m\u001b[0;34m\u001b[0m\u001b[0;34m\u001b[0m\u001b[0m\n\u001b[0;32m--> 533\u001b[0;31m         train_dataloaders, train_datasets = create_dataloaders(train_nm_im_gt_list,\n\u001b[0m\u001b[1;32m    534\u001b[0m                                                              \u001b[0mcache_size\u001b[0m \u001b[0;34m=\u001b[0m \u001b[0mhypar\u001b[0m\u001b[0;34m[\u001b[0m\u001b[0;34m\"cache_size\"\u001b[0m\u001b[0;34m]\u001b[0m\u001b[0;34m,\u001b[0m\u001b[0;34m\u001b[0m\u001b[0;34m\u001b[0m\u001b[0m\n\u001b[1;32m    535\u001b[0m                                                              \u001b[0mcache_boost\u001b[0m \u001b[0;34m=\u001b[0m \u001b[0mhypar\u001b[0m\u001b[0;34m[\u001b[0m\u001b[0;34m\"cache_boost_train\"\u001b[0m\u001b[0;34m]\u001b[0m\u001b[0;34m,\u001b[0m\u001b[0;34m\u001b[0m\u001b[0;34m\u001b[0m\u001b[0m\n",
            "\u001b[0;32m/content/DIS/IS-Net/data_loader_cache_depth.py\u001b[0m in \u001b[0;36mcreate_dataloaders\u001b[0;34m(name_im_gt_list, cache_size, cache_boost, my_transforms, batch_size, shuffle, pipe)\u001b[0m\n\u001b[1;32m    131\u001b[0m \u001b[0;34m\u001b[0m\u001b[0m\n\u001b[1;32m    132\u001b[0m     \u001b[0;32mfor\u001b[0m \u001b[0mi\u001b[0m \u001b[0;32min\u001b[0m \u001b[0mrange\u001b[0m\u001b[0;34m(\u001b[0m\u001b[0;36m0\u001b[0m\u001b[0;34m,\u001b[0m\u001b[0mlen\u001b[0m\u001b[0;34m(\u001b[0m\u001b[0mname_im_gt_list\u001b[0m\u001b[0;34m)\u001b[0m\u001b[0;34m)\u001b[0m\u001b[0;34m:\u001b[0m\u001b[0;34m\u001b[0m\u001b[0;34m\u001b[0m\u001b[0m\n\u001b[0;32m--> 133\u001b[0;31m         gos_dataset = GOSDatasetCache([name_im_gt_list[i]],\n\u001b[0m\u001b[1;32m    134\u001b[0m                                       \u001b[0mcache_size\u001b[0m \u001b[0;34m=\u001b[0m \u001b[0mcache_size\u001b[0m\u001b[0;34m,\u001b[0m\u001b[0;34m\u001b[0m\u001b[0;34m\u001b[0m\u001b[0m\n\u001b[1;32m    135\u001b[0m                                       \u001b[0mcache_path\u001b[0m \u001b[0;34m=\u001b[0m \u001b[0mname_im_gt_list\u001b[0m\u001b[0;34m[\u001b[0m\u001b[0mi\u001b[0m\u001b[0;34m]\u001b[0m\u001b[0;34m[\u001b[0m\u001b[0;34m\"cache_dir\"\u001b[0m\u001b[0;34m]\u001b[0m\u001b[0;34m,\u001b[0m\u001b[0;34m\u001b[0m\u001b[0;34m\u001b[0m\u001b[0m\n",
            "\u001b[0;32m/content/DIS/IS-Net/data_loader_cache_depth.py\u001b[0m in \u001b[0;36m__init__\u001b[0;34m(self, name_im_gt_list, cache_size, cache_path, cache_file_name, cache_boost, transform, pipe)\u001b[0m\n\u001b[1;32m    379\u001b[0m         \u001b[0mself\u001b[0m\u001b[0;34m.\u001b[0m\u001b[0mdataset\u001b[0m\u001b[0;34m[\u001b[0m\u001b[0;34m\"gts_pt_dir\"\u001b[0m\u001b[0;34m]\u001b[0m \u001b[0;34m=\u001b[0m \u001b[0;34m\"\"\u001b[0m\u001b[0;34m\u001b[0m\u001b[0;34m\u001b[0m\u001b[0m\n\u001b[1;32m    380\u001b[0m \u001b[0;34m\u001b[0m\u001b[0m\n\u001b[0;32m--> 381\u001b[0;31m         \u001b[0mself\u001b[0m\u001b[0;34m.\u001b[0m\u001b[0mdataset\u001b[0m \u001b[0;34m=\u001b[0m \u001b[0mself\u001b[0m\u001b[0;34m.\u001b[0m\u001b[0mmanage_cache\u001b[0m\u001b[0;34m(\u001b[0m\u001b[0mdataset_names\u001b[0m\u001b[0;34m)\u001b[0m\u001b[0;34m\u001b[0m\u001b[0;34m\u001b[0m\u001b[0m\n\u001b[0m\u001b[1;32m    382\u001b[0m \u001b[0;34m\u001b[0m\u001b[0m\n\u001b[1;32m    383\u001b[0m     \u001b[0;32mdef\u001b[0m \u001b[0mmanage_cache\u001b[0m\u001b[0;34m(\u001b[0m\u001b[0mself\u001b[0m\u001b[0;34m,\u001b[0m\u001b[0mdataset_names\u001b[0m\u001b[0;34m)\u001b[0m\u001b[0;34m:\u001b[0m\u001b[0;34m\u001b[0m\u001b[0;34m\u001b[0m\u001b[0m\n",
            "\u001b[0;32m/content/DIS/IS-Net/data_loader_cache_depth.py\u001b[0m in \u001b[0;36mmanage_cache\u001b[0;34m(self, dataset_names)\u001b[0m\n\u001b[1;32m    386\u001b[0m         \u001b[0mcache_folder\u001b[0m \u001b[0;34m=\u001b[0m \u001b[0mos\u001b[0m\u001b[0;34m.\u001b[0m\u001b[0mpath\u001b[0m\u001b[0;34m.\u001b[0m\u001b[0mjoin\u001b[0m\u001b[0;34m(\u001b[0m\u001b[0mself\u001b[0m\u001b[0;34m.\u001b[0m\u001b[0mcache_path\u001b[0m\u001b[0;34m,\u001b[0m \u001b[0;34m\"_\"\u001b[0m\u001b[0;34m.\u001b[0m\u001b[0mjoin\u001b[0m\u001b[0;34m(\u001b[0m\u001b[0mdataset_names\u001b[0m\u001b[0;34m)\u001b[0m\u001b[0;34m+\u001b[0m\u001b[0;34m\"_\"\u001b[0m\u001b[0;34m+\u001b[0m\u001b[0;34m\"x\"\u001b[0m\u001b[0;34m.\u001b[0m\u001b[0mjoin\u001b[0m\u001b[0;34m(\u001b[0m\u001b[0;34m[\u001b[0m\u001b[0mstr\u001b[0m\u001b[0;34m(\u001b[0m\u001b[0mx\u001b[0m\u001b[0;34m)\u001b[0m \u001b[0;32mfor\u001b[0m \u001b[0mx\u001b[0m \u001b[0;32min\u001b[0m \u001b[0mself\u001b[0m\u001b[0;34m.\u001b[0m\u001b[0mcache_size\u001b[0m\u001b[0;34m]\u001b[0m\u001b[0;34m)\u001b[0m\u001b[0;34m)\u001b[0m\u001b[0;34m\u001b[0m\u001b[0;34m\u001b[0m\u001b[0m\n\u001b[1;32m    387\u001b[0m         \u001b[0;32mif\u001b[0m \u001b[0;32mnot\u001b[0m \u001b[0mos\u001b[0m\u001b[0;34m.\u001b[0m\u001b[0mpath\u001b[0m\u001b[0;34m.\u001b[0m\u001b[0mexists\u001b[0m\u001b[0;34m(\u001b[0m\u001b[0mcache_folder\u001b[0m\u001b[0;34m)\u001b[0m\u001b[0;34m:\u001b[0m \u001b[0;31m# check if the cache files are there, if not then cache\u001b[0m\u001b[0;34m\u001b[0m\u001b[0;34m\u001b[0m\u001b[0m\n\u001b[0;32m--> 388\u001b[0;31m             \u001b[0;32mreturn\u001b[0m \u001b[0mself\u001b[0m\u001b[0;34m.\u001b[0m\u001b[0mcache\u001b[0m\u001b[0;34m(\u001b[0m\u001b[0mcache_folder\u001b[0m\u001b[0;34m)\u001b[0m\u001b[0;34m\u001b[0m\u001b[0;34m\u001b[0m\u001b[0m\n\u001b[0m\u001b[1;32m    389\u001b[0m         \u001b[0;32mreturn\u001b[0m \u001b[0mself\u001b[0m\u001b[0;34m.\u001b[0m\u001b[0mload_cache\u001b[0m\u001b[0;34m(\u001b[0m\u001b[0mcache_folder\u001b[0m\u001b[0;34m)\u001b[0m\u001b[0;34m\u001b[0m\u001b[0;34m\u001b[0m\u001b[0m\n\u001b[1;32m    390\u001b[0m \u001b[0;34m\u001b[0m\u001b[0m\n",
            "\u001b[0;32m/content/DIS/IS-Net/data_loader_cache_depth.py\u001b[0m in \u001b[0;36mcache\u001b[0;34m(self, cache_folder)\u001b[0m\n\u001b[1;32m    447\u001b[0m             \u001b[0;31m# ======= Process the Depth Image =======\u001b[0m\u001b[0;34m\u001b[0m\u001b[0;34m\u001b[0m\u001b[0m\n\u001b[1;32m    448\u001b[0m             \u001b[0;31m# Create the depth image using create_depth.\u001b[0m\u001b[0;34m\u001b[0m\u001b[0;34m\u001b[0m\u001b[0m\n\u001b[0;32m--> 449\u001b[0;31m             \u001b[0mdepth\u001b[0m \u001b[0;34m=\u001b[0m \u001b[0mself\u001b[0m\u001b[0;34m.\u001b[0m\u001b[0mcreate_depth\u001b[0m\u001b[0;34m(\u001b[0m\u001b[0mim\u001b[0m\u001b[0;34m)\u001b[0m\u001b[0;34m\u001b[0m\u001b[0;34m\u001b[0m\u001b[0m\n\u001b[0m\u001b[1;32m    450\u001b[0m             \u001b[0;31m# (Optional) If you need to preprocess depth or extract its shape:\u001b[0m\u001b[0;34m\u001b[0m\u001b[0;34m\u001b[0m\u001b[0m\n\u001b[1;32m    451\u001b[0m             \u001b[0;31m# depth, depth_shp = depth_preprocess(depth, self.cache_size)\u001b[0m\u001b[0;34m\u001b[0m\u001b[0;34m\u001b[0m\u001b[0m\n",
            "\u001b[0;32m/content/DIS/IS-Net/data_loader_cache_depth.py\u001b[0m in \u001b[0;36mcreate_depth\u001b[0;34m(self, im)\u001b[0m\n\u001b[1;32m    558\u001b[0m \u001b[0;34m\u001b[0m\u001b[0m\n\u001b[1;32m    559\u001b[0m         \u001b[0;31m# Run the depth estimation pipeline.\u001b[0m\u001b[0;34m\u001b[0m\u001b[0;34m\u001b[0m\u001b[0m\n\u001b[0;32m--> 560\u001b[0;31m         \u001b[0mresult\u001b[0m \u001b[0;34m=\u001b[0m \u001b[0mself\u001b[0m\u001b[0;34m.\u001b[0m\u001b[0mpipe\u001b[0m\u001b[0;34m(\u001b[0m\u001b[0mpil_image\u001b[0m\u001b[0;34m)\u001b[0m\u001b[0;34m\u001b[0m\u001b[0;34m\u001b[0m\u001b[0m\n\u001b[0m\u001b[1;32m    561\u001b[0m         \u001b[0;31m# The pipeline may return a list of dictionaries. Use the first one if needed.\u001b[0m\u001b[0;34m\u001b[0m\u001b[0;34m\u001b[0m\u001b[0m\n\u001b[1;32m    562\u001b[0m         \u001b[0;32mif\u001b[0m \u001b[0misinstance\u001b[0m\u001b[0;34m(\u001b[0m\u001b[0mresult\u001b[0m\u001b[0;34m,\u001b[0m \u001b[0mlist\u001b[0m\u001b[0;34m)\u001b[0m\u001b[0;34m:\u001b[0m\u001b[0;34m\u001b[0m\u001b[0;34m\u001b[0m\u001b[0m\n",
            "\u001b[0;32m/usr/local/lib/python3.11/dist-packages/transformers/pipelines/depth_estimation.py\u001b[0m in \u001b[0;36m__call__\u001b[0;34m(self, inputs, **kwargs)\u001b[0m\n\u001b[1;32m     91\u001b[0m         \u001b[0;32mif\u001b[0m \u001b[0minputs\u001b[0m \u001b[0;32mis\u001b[0m \u001b[0;32mNone\u001b[0m\u001b[0;34m:\u001b[0m\u001b[0;34m\u001b[0m\u001b[0;34m\u001b[0m\u001b[0m\n\u001b[1;32m     92\u001b[0m             \u001b[0;32mraise\u001b[0m \u001b[0mValueError\u001b[0m\u001b[0;34m(\u001b[0m\u001b[0;34m\"Cannot call the depth-estimation pipeline without an inputs argument!\"\u001b[0m\u001b[0;34m)\u001b[0m\u001b[0;34m\u001b[0m\u001b[0;34m\u001b[0m\u001b[0m\n\u001b[0;32m---> 93\u001b[0;31m         \u001b[0;32mreturn\u001b[0m \u001b[0msuper\u001b[0m\u001b[0;34m(\u001b[0m\u001b[0;34m)\u001b[0m\u001b[0;34m.\u001b[0m\u001b[0m__call__\u001b[0m\u001b[0;34m(\u001b[0m\u001b[0minputs\u001b[0m\u001b[0;34m,\u001b[0m \u001b[0;34m**\u001b[0m\u001b[0mkwargs\u001b[0m\u001b[0;34m)\u001b[0m\u001b[0;34m\u001b[0m\u001b[0;34m\u001b[0m\u001b[0m\n\u001b[0m\u001b[1;32m     94\u001b[0m \u001b[0;34m\u001b[0m\u001b[0m\n\u001b[1;32m     95\u001b[0m     \u001b[0;32mdef\u001b[0m \u001b[0m_sanitize_parameters\u001b[0m\u001b[0;34m(\u001b[0m\u001b[0mself\u001b[0m\u001b[0;34m,\u001b[0m \u001b[0mtimeout\u001b[0m\u001b[0;34m=\u001b[0m\u001b[0;32mNone\u001b[0m\u001b[0;34m,\u001b[0m \u001b[0mparameters\u001b[0m\u001b[0;34m=\u001b[0m\u001b[0;32mNone\u001b[0m\u001b[0;34m,\u001b[0m \u001b[0;34m**\u001b[0m\u001b[0mkwargs\u001b[0m\u001b[0;34m)\u001b[0m\u001b[0;34m:\u001b[0m\u001b[0;34m\u001b[0m\u001b[0;34m\u001b[0m\u001b[0m\n",
            "\u001b[0;32m/usr/local/lib/python3.11/dist-packages/transformers/pipelines/base.py\u001b[0m in \u001b[0;36m__call__\u001b[0;34m(self, inputs, num_workers, batch_size, *args, **kwargs)\u001b[0m\n\u001b[1;32m   1360\u001b[0m             )\n\u001b[1;32m   1361\u001b[0m         \u001b[0;32melse\u001b[0m\u001b[0;34m:\u001b[0m\u001b[0;34m\u001b[0m\u001b[0;34m\u001b[0m\u001b[0m\n\u001b[0;32m-> 1362\u001b[0;31m             \u001b[0;32mreturn\u001b[0m \u001b[0mself\u001b[0m\u001b[0;34m.\u001b[0m\u001b[0mrun_single\u001b[0m\u001b[0;34m(\u001b[0m\u001b[0minputs\u001b[0m\u001b[0;34m,\u001b[0m \u001b[0mpreprocess_params\u001b[0m\u001b[0;34m,\u001b[0m \u001b[0mforward_params\u001b[0m\u001b[0;34m,\u001b[0m \u001b[0mpostprocess_params\u001b[0m\u001b[0;34m)\u001b[0m\u001b[0;34m\u001b[0m\u001b[0;34m\u001b[0m\u001b[0m\n\u001b[0m\u001b[1;32m   1363\u001b[0m \u001b[0;34m\u001b[0m\u001b[0m\n\u001b[1;32m   1364\u001b[0m     \u001b[0;32mdef\u001b[0m \u001b[0mrun_multi\u001b[0m\u001b[0;34m(\u001b[0m\u001b[0mself\u001b[0m\u001b[0;34m,\u001b[0m \u001b[0minputs\u001b[0m\u001b[0;34m,\u001b[0m \u001b[0mpreprocess_params\u001b[0m\u001b[0;34m,\u001b[0m \u001b[0mforward_params\u001b[0m\u001b[0;34m,\u001b[0m \u001b[0mpostprocess_params\u001b[0m\u001b[0;34m)\u001b[0m\u001b[0;34m:\u001b[0m\u001b[0;34m\u001b[0m\u001b[0;34m\u001b[0m\u001b[0m\n",
            "\u001b[0;32m/usr/local/lib/python3.11/dist-packages/transformers/pipelines/base.py\u001b[0m in \u001b[0;36mrun_single\u001b[0;34m(self, inputs, preprocess_params, forward_params, postprocess_params)\u001b[0m\n\u001b[1;32m   1367\u001b[0m     \u001b[0;32mdef\u001b[0m \u001b[0mrun_single\u001b[0m\u001b[0;34m(\u001b[0m\u001b[0mself\u001b[0m\u001b[0;34m,\u001b[0m \u001b[0minputs\u001b[0m\u001b[0;34m,\u001b[0m \u001b[0mpreprocess_params\u001b[0m\u001b[0;34m,\u001b[0m \u001b[0mforward_params\u001b[0m\u001b[0;34m,\u001b[0m \u001b[0mpostprocess_params\u001b[0m\u001b[0;34m)\u001b[0m\u001b[0;34m:\u001b[0m\u001b[0;34m\u001b[0m\u001b[0;34m\u001b[0m\u001b[0m\n\u001b[1;32m   1368\u001b[0m         \u001b[0mmodel_inputs\u001b[0m \u001b[0;34m=\u001b[0m \u001b[0mself\u001b[0m\u001b[0;34m.\u001b[0m\u001b[0mpreprocess\u001b[0m\u001b[0;34m(\u001b[0m\u001b[0minputs\u001b[0m\u001b[0;34m,\u001b[0m \u001b[0;34m**\u001b[0m\u001b[0mpreprocess_params\u001b[0m\u001b[0;34m)\u001b[0m\u001b[0;34m\u001b[0m\u001b[0;34m\u001b[0m\u001b[0m\n\u001b[0;32m-> 1369\u001b[0;31m         \u001b[0mmodel_outputs\u001b[0m \u001b[0;34m=\u001b[0m \u001b[0mself\u001b[0m\u001b[0;34m.\u001b[0m\u001b[0mforward\u001b[0m\u001b[0;34m(\u001b[0m\u001b[0mmodel_inputs\u001b[0m\u001b[0;34m,\u001b[0m \u001b[0;34m**\u001b[0m\u001b[0mforward_params\u001b[0m\u001b[0;34m)\u001b[0m\u001b[0;34m\u001b[0m\u001b[0;34m\u001b[0m\u001b[0m\n\u001b[0m\u001b[1;32m   1370\u001b[0m         \u001b[0moutputs\u001b[0m \u001b[0;34m=\u001b[0m \u001b[0mself\u001b[0m\u001b[0;34m.\u001b[0m\u001b[0mpostprocess\u001b[0m\u001b[0;34m(\u001b[0m\u001b[0mmodel_outputs\u001b[0m\u001b[0;34m,\u001b[0m \u001b[0;34m**\u001b[0m\u001b[0mpostprocess_params\u001b[0m\u001b[0;34m)\u001b[0m\u001b[0;34m\u001b[0m\u001b[0;34m\u001b[0m\u001b[0m\n\u001b[1;32m   1371\u001b[0m         \u001b[0;32mreturn\u001b[0m \u001b[0moutputs\u001b[0m\u001b[0;34m\u001b[0m\u001b[0;34m\u001b[0m\u001b[0m\n",
            "\u001b[0;32m/usr/local/lib/python3.11/dist-packages/transformers/pipelines/base.py\u001b[0m in \u001b[0;36mforward\u001b[0;34m(self, model_inputs, **forward_params)\u001b[0m\n\u001b[1;32m   1267\u001b[0m                 \u001b[0;32mwith\u001b[0m \u001b[0minference_context\u001b[0m\u001b[0;34m(\u001b[0m\u001b[0;34m)\u001b[0m\u001b[0;34m:\u001b[0m\u001b[0;34m\u001b[0m\u001b[0;34m\u001b[0m\u001b[0m\n\u001b[1;32m   1268\u001b[0m                     \u001b[0mmodel_inputs\u001b[0m \u001b[0;34m=\u001b[0m \u001b[0mself\u001b[0m\u001b[0;34m.\u001b[0m\u001b[0m_ensure_tensor_on_device\u001b[0m\u001b[0;34m(\u001b[0m\u001b[0mmodel_inputs\u001b[0m\u001b[0;34m,\u001b[0m \u001b[0mdevice\u001b[0m\u001b[0;34m=\u001b[0m\u001b[0mself\u001b[0m\u001b[0;34m.\u001b[0m\u001b[0mdevice\u001b[0m\u001b[0;34m)\u001b[0m\u001b[0;34m\u001b[0m\u001b[0;34m\u001b[0m\u001b[0m\n\u001b[0;32m-> 1269\u001b[0;31m                     \u001b[0mmodel_outputs\u001b[0m \u001b[0;34m=\u001b[0m \u001b[0mself\u001b[0m\u001b[0;34m.\u001b[0m\u001b[0m_forward\u001b[0m\u001b[0;34m(\u001b[0m\u001b[0mmodel_inputs\u001b[0m\u001b[0;34m,\u001b[0m \u001b[0;34m**\u001b[0m\u001b[0mforward_params\u001b[0m\u001b[0;34m)\u001b[0m\u001b[0;34m\u001b[0m\u001b[0;34m\u001b[0m\u001b[0m\n\u001b[0m\u001b[1;32m   1270\u001b[0m                     \u001b[0mmodel_outputs\u001b[0m \u001b[0;34m=\u001b[0m \u001b[0mself\u001b[0m\u001b[0;34m.\u001b[0m\u001b[0m_ensure_tensor_on_device\u001b[0m\u001b[0;34m(\u001b[0m\u001b[0mmodel_outputs\u001b[0m\u001b[0;34m,\u001b[0m \u001b[0mdevice\u001b[0m\u001b[0;34m=\u001b[0m\u001b[0mtorch\u001b[0m\u001b[0;34m.\u001b[0m\u001b[0mdevice\u001b[0m\u001b[0;34m(\u001b[0m\u001b[0;34m\"cpu\"\u001b[0m\u001b[0;34m)\u001b[0m\u001b[0;34m)\u001b[0m\u001b[0;34m\u001b[0m\u001b[0;34m\u001b[0m\u001b[0m\n\u001b[1;32m   1271\u001b[0m             \u001b[0;32melse\u001b[0m\u001b[0;34m:\u001b[0m\u001b[0;34m\u001b[0m\u001b[0;34m\u001b[0m\u001b[0m\n",
            "\u001b[0;32m/usr/local/lib/python3.11/dist-packages/transformers/pipelines/depth_estimation.py\u001b[0m in \u001b[0;36m_forward\u001b[0;34m(self, model_inputs)\u001b[0m\n\u001b[1;32m    111\u001b[0m     \u001b[0;32mdef\u001b[0m \u001b[0m_forward\u001b[0m\u001b[0;34m(\u001b[0m\u001b[0mself\u001b[0m\u001b[0;34m,\u001b[0m \u001b[0mmodel_inputs\u001b[0m\u001b[0;34m)\u001b[0m\u001b[0;34m:\u001b[0m\u001b[0;34m\u001b[0m\u001b[0;34m\u001b[0m\u001b[0m\n\u001b[1;32m    112\u001b[0m         \u001b[0mtarget_size\u001b[0m \u001b[0;34m=\u001b[0m \u001b[0mmodel_inputs\u001b[0m\u001b[0;34m.\u001b[0m\u001b[0mpop\u001b[0m\u001b[0;34m(\u001b[0m\u001b[0;34m\"target_size\"\u001b[0m\u001b[0;34m)\u001b[0m\u001b[0;34m\u001b[0m\u001b[0;34m\u001b[0m\u001b[0m\n\u001b[0;32m--> 113\u001b[0;31m         \u001b[0mmodel_outputs\u001b[0m \u001b[0;34m=\u001b[0m \u001b[0mself\u001b[0m\u001b[0;34m.\u001b[0m\u001b[0mmodel\u001b[0m\u001b[0;34m(\u001b[0m\u001b[0;34m**\u001b[0m\u001b[0mmodel_inputs\u001b[0m\u001b[0;34m)\u001b[0m\u001b[0;34m\u001b[0m\u001b[0;34m\u001b[0m\u001b[0m\n\u001b[0m\u001b[1;32m    114\u001b[0m         \u001b[0mmodel_outputs\u001b[0m\u001b[0;34m[\u001b[0m\u001b[0;34m\"target_size\"\u001b[0m\u001b[0;34m]\u001b[0m \u001b[0;34m=\u001b[0m \u001b[0mtarget_size\u001b[0m\u001b[0;34m\u001b[0m\u001b[0;34m\u001b[0m\u001b[0m\n\u001b[1;32m    115\u001b[0m         \u001b[0;32mreturn\u001b[0m \u001b[0mmodel_outputs\u001b[0m\u001b[0;34m\u001b[0m\u001b[0;34m\u001b[0m\u001b[0m\n",
            "\u001b[0;32m/usr/local/lib/python3.11/dist-packages/torch/nn/modules/module.py\u001b[0m in \u001b[0;36m_wrapped_call_impl\u001b[0;34m(self, *args, **kwargs)\u001b[0m\n\u001b[1;32m   1734\u001b[0m             \u001b[0;32mreturn\u001b[0m \u001b[0mself\u001b[0m\u001b[0;34m.\u001b[0m\u001b[0m_compiled_call_impl\u001b[0m\u001b[0;34m(\u001b[0m\u001b[0;34m*\u001b[0m\u001b[0margs\u001b[0m\u001b[0;34m,\u001b[0m \u001b[0;34m**\u001b[0m\u001b[0mkwargs\u001b[0m\u001b[0;34m)\u001b[0m  \u001b[0;31m# type: ignore[misc]\u001b[0m\u001b[0;34m\u001b[0m\u001b[0;34m\u001b[0m\u001b[0m\n\u001b[1;32m   1735\u001b[0m         \u001b[0;32melse\u001b[0m\u001b[0;34m:\u001b[0m\u001b[0;34m\u001b[0m\u001b[0;34m\u001b[0m\u001b[0m\n\u001b[0;32m-> 1736\u001b[0;31m             \u001b[0;32mreturn\u001b[0m \u001b[0mself\u001b[0m\u001b[0;34m.\u001b[0m\u001b[0m_call_impl\u001b[0m\u001b[0;34m(\u001b[0m\u001b[0;34m*\u001b[0m\u001b[0margs\u001b[0m\u001b[0;34m,\u001b[0m \u001b[0;34m**\u001b[0m\u001b[0mkwargs\u001b[0m\u001b[0;34m)\u001b[0m\u001b[0;34m\u001b[0m\u001b[0;34m\u001b[0m\u001b[0m\n\u001b[0m\u001b[1;32m   1737\u001b[0m \u001b[0;34m\u001b[0m\u001b[0m\n\u001b[1;32m   1738\u001b[0m     \u001b[0;31m# torchrec tests the code consistency with the following code\u001b[0m\u001b[0;34m\u001b[0m\u001b[0;34m\u001b[0m\u001b[0m\n",
            "\u001b[0;32m/usr/local/lib/python3.11/dist-packages/torch/nn/modules/module.py\u001b[0m in \u001b[0;36m_call_impl\u001b[0;34m(self, *args, **kwargs)\u001b[0m\n\u001b[1;32m   1745\u001b[0m                 \u001b[0;32mor\u001b[0m \u001b[0m_global_backward_pre_hooks\u001b[0m \u001b[0;32mor\u001b[0m \u001b[0m_global_backward_hooks\u001b[0m\u001b[0;34m\u001b[0m\u001b[0;34m\u001b[0m\u001b[0m\n\u001b[1;32m   1746\u001b[0m                 or _global_forward_hooks or _global_forward_pre_hooks):\n\u001b[0;32m-> 1747\u001b[0;31m             \u001b[0;32mreturn\u001b[0m \u001b[0mforward_call\u001b[0m\u001b[0;34m(\u001b[0m\u001b[0;34m*\u001b[0m\u001b[0margs\u001b[0m\u001b[0;34m,\u001b[0m \u001b[0;34m**\u001b[0m\u001b[0mkwargs\u001b[0m\u001b[0;34m)\u001b[0m\u001b[0;34m\u001b[0m\u001b[0;34m\u001b[0m\u001b[0m\n\u001b[0m\u001b[1;32m   1748\u001b[0m \u001b[0;34m\u001b[0m\u001b[0m\n\u001b[1;32m   1749\u001b[0m         \u001b[0mresult\u001b[0m \u001b[0;34m=\u001b[0m \u001b[0;32mNone\u001b[0m\u001b[0;34m\u001b[0m\u001b[0;34m\u001b[0m\u001b[0m\n",
            "\u001b[0;32m/usr/local/lib/python3.11/dist-packages/transformers/models/depth_anything/modeling_depth_anything.py\u001b[0m in \u001b[0;36mforward\u001b[0;34m(self, pixel_values, labels, output_attentions, output_hidden_states, return_dict)\u001b[0m\n\u001b[1;32m    437\u001b[0m         \u001b[0moutput_attentions\u001b[0m \u001b[0;34m=\u001b[0m \u001b[0moutput_attentions\u001b[0m \u001b[0;32mif\u001b[0m \u001b[0moutput_attentions\u001b[0m \u001b[0;32mis\u001b[0m \u001b[0;32mnot\u001b[0m \u001b[0;32mNone\u001b[0m \u001b[0;32melse\u001b[0m \u001b[0mself\u001b[0m\u001b[0;34m.\u001b[0m\u001b[0mconfig\u001b[0m\u001b[0;34m.\u001b[0m\u001b[0moutput_attentions\u001b[0m\u001b[0;34m\u001b[0m\u001b[0;34m\u001b[0m\u001b[0m\n\u001b[1;32m    438\u001b[0m \u001b[0;34m\u001b[0m\u001b[0m\n\u001b[0;32m--> 439\u001b[0;31m         outputs = self.backbone.forward_with_filtered_kwargs(\n\u001b[0m\u001b[1;32m    440\u001b[0m             \u001b[0mpixel_values\u001b[0m\u001b[0;34m,\u001b[0m \u001b[0moutput_hidden_states\u001b[0m\u001b[0;34m=\u001b[0m\u001b[0moutput_hidden_states\u001b[0m\u001b[0;34m,\u001b[0m \u001b[0moutput_attentions\u001b[0m\u001b[0;34m=\u001b[0m\u001b[0moutput_attentions\u001b[0m\u001b[0;34m\u001b[0m\u001b[0;34m\u001b[0m\u001b[0m\n\u001b[1;32m    441\u001b[0m         )\n",
            "\u001b[0;32m/usr/local/lib/python3.11/dist-packages/transformers/utils/backbone_utils.py\u001b[0m in \u001b[0;36mforward_with_filtered_kwargs\u001b[0;34m(self, *args, **kwargs)\u001b[0m\n\u001b[1;32m    233\u001b[0m         \u001b[0msignature\u001b[0m \u001b[0;34m=\u001b[0m \u001b[0mdict\u001b[0m\u001b[0;34m(\u001b[0m\u001b[0minspect\u001b[0m\u001b[0;34m.\u001b[0m\u001b[0msignature\u001b[0m\u001b[0;34m(\u001b[0m\u001b[0mself\u001b[0m\u001b[0;34m.\u001b[0m\u001b[0mforward\u001b[0m\u001b[0;34m)\u001b[0m\u001b[0;34m.\u001b[0m\u001b[0mparameters\u001b[0m\u001b[0;34m)\u001b[0m\u001b[0;34m\u001b[0m\u001b[0;34m\u001b[0m\u001b[0m\n\u001b[1;32m    234\u001b[0m         \u001b[0mfiltered_kwargs\u001b[0m \u001b[0;34m=\u001b[0m \u001b[0;34m{\u001b[0m\u001b[0mk\u001b[0m\u001b[0;34m:\u001b[0m \u001b[0mv\u001b[0m \u001b[0;32mfor\u001b[0m \u001b[0mk\u001b[0m\u001b[0;34m,\u001b[0m \u001b[0mv\u001b[0m \u001b[0;32min\u001b[0m \u001b[0mkwargs\u001b[0m\u001b[0;34m.\u001b[0m\u001b[0mitems\u001b[0m\u001b[0;34m(\u001b[0m\u001b[0;34m)\u001b[0m \u001b[0;32mif\u001b[0m \u001b[0mk\u001b[0m \u001b[0;32min\u001b[0m \u001b[0msignature\u001b[0m\u001b[0;34m}\u001b[0m\u001b[0;34m\u001b[0m\u001b[0;34m\u001b[0m\u001b[0m\n\u001b[0;32m--> 235\u001b[0;31m         \u001b[0;32mreturn\u001b[0m \u001b[0mself\u001b[0m\u001b[0;34m(\u001b[0m\u001b[0;34m*\u001b[0m\u001b[0margs\u001b[0m\u001b[0;34m,\u001b[0m \u001b[0;34m**\u001b[0m\u001b[0mfiltered_kwargs\u001b[0m\u001b[0;34m)\u001b[0m\u001b[0;34m\u001b[0m\u001b[0;34m\u001b[0m\u001b[0m\n\u001b[0m\u001b[1;32m    236\u001b[0m \u001b[0;34m\u001b[0m\u001b[0m\n\u001b[1;32m    237\u001b[0m     def forward(\n",
            "\u001b[0;32m/usr/local/lib/python3.11/dist-packages/torch/nn/modules/module.py\u001b[0m in \u001b[0;36m_wrapped_call_impl\u001b[0;34m(self, *args, **kwargs)\u001b[0m\n\u001b[1;32m   1734\u001b[0m             \u001b[0;32mreturn\u001b[0m \u001b[0mself\u001b[0m\u001b[0;34m.\u001b[0m\u001b[0m_compiled_call_impl\u001b[0m\u001b[0;34m(\u001b[0m\u001b[0;34m*\u001b[0m\u001b[0margs\u001b[0m\u001b[0;34m,\u001b[0m \u001b[0;34m**\u001b[0m\u001b[0mkwargs\u001b[0m\u001b[0;34m)\u001b[0m  \u001b[0;31m# type: ignore[misc]\u001b[0m\u001b[0;34m\u001b[0m\u001b[0;34m\u001b[0m\u001b[0m\n\u001b[1;32m   1735\u001b[0m         \u001b[0;32melse\u001b[0m\u001b[0;34m:\u001b[0m\u001b[0;34m\u001b[0m\u001b[0;34m\u001b[0m\u001b[0m\n\u001b[0;32m-> 1736\u001b[0;31m             \u001b[0;32mreturn\u001b[0m \u001b[0mself\u001b[0m\u001b[0;34m.\u001b[0m\u001b[0m_call_impl\u001b[0m\u001b[0;34m(\u001b[0m\u001b[0;34m*\u001b[0m\u001b[0margs\u001b[0m\u001b[0;34m,\u001b[0m \u001b[0;34m**\u001b[0m\u001b[0mkwargs\u001b[0m\u001b[0;34m)\u001b[0m\u001b[0;34m\u001b[0m\u001b[0;34m\u001b[0m\u001b[0m\n\u001b[0m\u001b[1;32m   1737\u001b[0m \u001b[0;34m\u001b[0m\u001b[0m\n\u001b[1;32m   1738\u001b[0m     \u001b[0;31m# torchrec tests the code consistency with the following code\u001b[0m\u001b[0;34m\u001b[0m\u001b[0;34m\u001b[0m\u001b[0m\n",
            "\u001b[0;32m/usr/local/lib/python3.11/dist-packages/torch/nn/modules/module.py\u001b[0m in \u001b[0;36m_call_impl\u001b[0;34m(self, *args, **kwargs)\u001b[0m\n\u001b[1;32m   1745\u001b[0m                 \u001b[0;32mor\u001b[0m \u001b[0m_global_backward_pre_hooks\u001b[0m \u001b[0;32mor\u001b[0m \u001b[0m_global_backward_hooks\u001b[0m\u001b[0;34m\u001b[0m\u001b[0;34m\u001b[0m\u001b[0m\n\u001b[1;32m   1746\u001b[0m                 or _global_forward_hooks or _global_forward_pre_hooks):\n\u001b[0;32m-> 1747\u001b[0;31m             \u001b[0;32mreturn\u001b[0m \u001b[0mforward_call\u001b[0m\u001b[0;34m(\u001b[0m\u001b[0;34m*\u001b[0m\u001b[0margs\u001b[0m\u001b[0;34m,\u001b[0m \u001b[0;34m**\u001b[0m\u001b[0mkwargs\u001b[0m\u001b[0;34m)\u001b[0m\u001b[0;34m\u001b[0m\u001b[0;34m\u001b[0m\u001b[0m\n\u001b[0m\u001b[1;32m   1748\u001b[0m \u001b[0;34m\u001b[0m\u001b[0m\n\u001b[1;32m   1749\u001b[0m         \u001b[0mresult\u001b[0m \u001b[0;34m=\u001b[0m \u001b[0;32mNone\u001b[0m\u001b[0;34m\u001b[0m\u001b[0;34m\u001b[0m\u001b[0m\n",
            "\u001b[0;32m/usr/local/lib/python3.11/dist-packages/transformers/models/dinov2/modeling_dinov2.py\u001b[0m in \u001b[0;36mforward\u001b[0;34m(self, pixel_values, output_hidden_states, output_attentions, return_dict)\u001b[0m\n\u001b[1;32m    881\u001b[0m         \u001b[0membedding_output\u001b[0m \u001b[0;34m=\u001b[0m \u001b[0mself\u001b[0m\u001b[0;34m.\u001b[0m\u001b[0membeddings\u001b[0m\u001b[0;34m(\u001b[0m\u001b[0mpixel_values\u001b[0m\u001b[0;34m)\u001b[0m\u001b[0;34m\u001b[0m\u001b[0;34m\u001b[0m\u001b[0m\n\u001b[1;32m    882\u001b[0m \u001b[0;34m\u001b[0m\u001b[0m\n\u001b[0;32m--> 883\u001b[0;31m         outputs = self.encoder(\n\u001b[0m\u001b[1;32m    884\u001b[0m             \u001b[0membedding_output\u001b[0m\u001b[0;34m,\u001b[0m \u001b[0moutput_hidden_states\u001b[0m\u001b[0;34m=\u001b[0m\u001b[0;32mTrue\u001b[0m\u001b[0;34m,\u001b[0m \u001b[0moutput_attentions\u001b[0m\u001b[0;34m=\u001b[0m\u001b[0moutput_attentions\u001b[0m\u001b[0;34m,\u001b[0m \u001b[0mreturn_dict\u001b[0m\u001b[0;34m=\u001b[0m\u001b[0mreturn_dict\u001b[0m\u001b[0;34m\u001b[0m\u001b[0;34m\u001b[0m\u001b[0m\n\u001b[1;32m    885\u001b[0m         )\n",
            "\u001b[0;32m/usr/local/lib/python3.11/dist-packages/torch/nn/modules/module.py\u001b[0m in \u001b[0;36m_wrapped_call_impl\u001b[0;34m(self, *args, **kwargs)\u001b[0m\n\u001b[1;32m   1734\u001b[0m             \u001b[0;32mreturn\u001b[0m \u001b[0mself\u001b[0m\u001b[0;34m.\u001b[0m\u001b[0m_compiled_call_impl\u001b[0m\u001b[0;34m(\u001b[0m\u001b[0;34m*\u001b[0m\u001b[0margs\u001b[0m\u001b[0;34m,\u001b[0m \u001b[0;34m**\u001b[0m\u001b[0mkwargs\u001b[0m\u001b[0;34m)\u001b[0m  \u001b[0;31m# type: ignore[misc]\u001b[0m\u001b[0;34m\u001b[0m\u001b[0;34m\u001b[0m\u001b[0m\n\u001b[1;32m   1735\u001b[0m         \u001b[0;32melse\u001b[0m\u001b[0;34m:\u001b[0m\u001b[0;34m\u001b[0m\u001b[0;34m\u001b[0m\u001b[0m\n\u001b[0;32m-> 1736\u001b[0;31m             \u001b[0;32mreturn\u001b[0m \u001b[0mself\u001b[0m\u001b[0;34m.\u001b[0m\u001b[0m_call_impl\u001b[0m\u001b[0;34m(\u001b[0m\u001b[0;34m*\u001b[0m\u001b[0margs\u001b[0m\u001b[0;34m,\u001b[0m \u001b[0;34m**\u001b[0m\u001b[0mkwargs\u001b[0m\u001b[0;34m)\u001b[0m\u001b[0;34m\u001b[0m\u001b[0;34m\u001b[0m\u001b[0m\n\u001b[0m\u001b[1;32m   1737\u001b[0m \u001b[0;34m\u001b[0m\u001b[0m\n\u001b[1;32m   1738\u001b[0m     \u001b[0;31m# torchrec tests the code consistency with the following code\u001b[0m\u001b[0;34m\u001b[0m\u001b[0;34m\u001b[0m\u001b[0m\n",
            "\u001b[0;32m/usr/local/lib/python3.11/dist-packages/torch/nn/modules/module.py\u001b[0m in \u001b[0;36m_call_impl\u001b[0;34m(self, *args, **kwargs)\u001b[0m\n\u001b[1;32m   1745\u001b[0m                 \u001b[0;32mor\u001b[0m \u001b[0m_global_backward_pre_hooks\u001b[0m \u001b[0;32mor\u001b[0m \u001b[0m_global_backward_hooks\u001b[0m\u001b[0;34m\u001b[0m\u001b[0;34m\u001b[0m\u001b[0m\n\u001b[1;32m   1746\u001b[0m                 or _global_forward_hooks or _global_forward_pre_hooks):\n\u001b[0;32m-> 1747\u001b[0;31m             \u001b[0;32mreturn\u001b[0m \u001b[0mforward_call\u001b[0m\u001b[0;34m(\u001b[0m\u001b[0;34m*\u001b[0m\u001b[0margs\u001b[0m\u001b[0;34m,\u001b[0m \u001b[0;34m**\u001b[0m\u001b[0mkwargs\u001b[0m\u001b[0;34m)\u001b[0m\u001b[0;34m\u001b[0m\u001b[0;34m\u001b[0m\u001b[0m\n\u001b[0m\u001b[1;32m   1748\u001b[0m \u001b[0;34m\u001b[0m\u001b[0m\n\u001b[1;32m   1749\u001b[0m         \u001b[0mresult\u001b[0m \u001b[0;34m=\u001b[0m \u001b[0;32mNone\u001b[0m\u001b[0;34m\u001b[0m\u001b[0;34m\u001b[0m\u001b[0m\n",
            "\u001b[0;32m/usr/local/lib/python3.11/dist-packages/transformers/models/dinov2/modeling_dinov2.py\u001b[0m in \u001b[0;36mforward\u001b[0;34m(self, hidden_states, head_mask, output_attentions, output_hidden_states, return_dict)\u001b[0m\n\u001b[1;32m    510\u001b[0m                 )\n\u001b[1;32m    511\u001b[0m             \u001b[0;32melse\u001b[0m\u001b[0;34m:\u001b[0m\u001b[0;34m\u001b[0m\u001b[0;34m\u001b[0m\u001b[0m\n\u001b[0;32m--> 512\u001b[0;31m                 \u001b[0mlayer_outputs\u001b[0m \u001b[0;34m=\u001b[0m \u001b[0mlayer_module\u001b[0m\u001b[0;34m(\u001b[0m\u001b[0mhidden_states\u001b[0m\u001b[0;34m,\u001b[0m \u001b[0mlayer_head_mask\u001b[0m\u001b[0;34m,\u001b[0m \u001b[0moutput_attentions\u001b[0m\u001b[0;34m)\u001b[0m\u001b[0;34m\u001b[0m\u001b[0;34m\u001b[0m\u001b[0m\n\u001b[0m\u001b[1;32m    513\u001b[0m \u001b[0;34m\u001b[0m\u001b[0m\n\u001b[1;32m    514\u001b[0m             \u001b[0mhidden_states\u001b[0m \u001b[0;34m=\u001b[0m \u001b[0mlayer_outputs\u001b[0m\u001b[0;34m[\u001b[0m\u001b[0;36m0\u001b[0m\u001b[0;34m]\u001b[0m\u001b[0;34m\u001b[0m\u001b[0;34m\u001b[0m\u001b[0m\n",
            "\u001b[0;32m/usr/local/lib/python3.11/dist-packages/torch/nn/modules/module.py\u001b[0m in \u001b[0;36m_wrapped_call_impl\u001b[0;34m(self, *args, **kwargs)\u001b[0m\n\u001b[1;32m   1734\u001b[0m             \u001b[0;32mreturn\u001b[0m \u001b[0mself\u001b[0m\u001b[0;34m.\u001b[0m\u001b[0m_compiled_call_impl\u001b[0m\u001b[0;34m(\u001b[0m\u001b[0;34m*\u001b[0m\u001b[0margs\u001b[0m\u001b[0;34m,\u001b[0m \u001b[0;34m**\u001b[0m\u001b[0mkwargs\u001b[0m\u001b[0;34m)\u001b[0m  \u001b[0;31m# type: ignore[misc]\u001b[0m\u001b[0;34m\u001b[0m\u001b[0;34m\u001b[0m\u001b[0m\n\u001b[1;32m   1735\u001b[0m         \u001b[0;32melse\u001b[0m\u001b[0;34m:\u001b[0m\u001b[0;34m\u001b[0m\u001b[0;34m\u001b[0m\u001b[0m\n\u001b[0;32m-> 1736\u001b[0;31m             \u001b[0;32mreturn\u001b[0m \u001b[0mself\u001b[0m\u001b[0;34m.\u001b[0m\u001b[0m_call_impl\u001b[0m\u001b[0;34m(\u001b[0m\u001b[0;34m*\u001b[0m\u001b[0margs\u001b[0m\u001b[0;34m,\u001b[0m \u001b[0;34m**\u001b[0m\u001b[0mkwargs\u001b[0m\u001b[0;34m)\u001b[0m\u001b[0;34m\u001b[0m\u001b[0;34m\u001b[0m\u001b[0m\n\u001b[0m\u001b[1;32m   1737\u001b[0m \u001b[0;34m\u001b[0m\u001b[0m\n\u001b[1;32m   1738\u001b[0m     \u001b[0;31m# torchrec tests the code consistency with the following code\u001b[0m\u001b[0;34m\u001b[0m\u001b[0;34m\u001b[0m\u001b[0m\n",
            "\u001b[0;32m/usr/local/lib/python3.11/dist-packages/torch/nn/modules/module.py\u001b[0m in \u001b[0;36m_call_impl\u001b[0;34m(self, *args, **kwargs)\u001b[0m\n\u001b[1;32m   1745\u001b[0m                 \u001b[0;32mor\u001b[0m \u001b[0m_global_backward_pre_hooks\u001b[0m \u001b[0;32mor\u001b[0m \u001b[0m_global_backward_hooks\u001b[0m\u001b[0;34m\u001b[0m\u001b[0;34m\u001b[0m\u001b[0m\n\u001b[1;32m   1746\u001b[0m                 or _global_forward_hooks or _global_forward_pre_hooks):\n\u001b[0;32m-> 1747\u001b[0;31m             \u001b[0;32mreturn\u001b[0m \u001b[0mforward_call\u001b[0m\u001b[0;34m(\u001b[0m\u001b[0;34m*\u001b[0m\u001b[0margs\u001b[0m\u001b[0;34m,\u001b[0m \u001b[0;34m**\u001b[0m\u001b[0mkwargs\u001b[0m\u001b[0;34m)\u001b[0m\u001b[0;34m\u001b[0m\u001b[0;34m\u001b[0m\u001b[0m\n\u001b[0m\u001b[1;32m   1748\u001b[0m \u001b[0;34m\u001b[0m\u001b[0m\n\u001b[1;32m   1749\u001b[0m         \u001b[0mresult\u001b[0m \u001b[0;34m=\u001b[0m \u001b[0;32mNone\u001b[0m\u001b[0;34m\u001b[0m\u001b[0;34m\u001b[0m\u001b[0m\n",
            "\u001b[0;32m/usr/local/lib/python3.11/dist-packages/transformers/models/dinov2/modeling_dinov2.py\u001b[0m in \u001b[0;36mforward\u001b[0;34m(self, hidden_states, head_mask, output_attentions)\u001b[0m\n\u001b[1;32m    466\u001b[0m         \u001b[0;31m# in Dinov2, layernorm is also applied after self-attention\u001b[0m\u001b[0;34m\u001b[0m\u001b[0;34m\u001b[0m\u001b[0m\n\u001b[1;32m    467\u001b[0m         \u001b[0mlayer_output\u001b[0m \u001b[0;34m=\u001b[0m \u001b[0mself\u001b[0m\u001b[0;34m.\u001b[0m\u001b[0mnorm2\u001b[0m\u001b[0;34m(\u001b[0m\u001b[0mhidden_states\u001b[0m\u001b[0;34m)\u001b[0m\u001b[0;34m\u001b[0m\u001b[0;34m\u001b[0m\u001b[0m\n\u001b[0;32m--> 468\u001b[0;31m         \u001b[0mlayer_output\u001b[0m \u001b[0;34m=\u001b[0m \u001b[0mself\u001b[0m\u001b[0;34m.\u001b[0m\u001b[0mmlp\u001b[0m\u001b[0;34m(\u001b[0m\u001b[0mlayer_output\u001b[0m\u001b[0;34m)\u001b[0m\u001b[0;34m\u001b[0m\u001b[0;34m\u001b[0m\u001b[0m\n\u001b[0m\u001b[1;32m    469\u001b[0m         \u001b[0mlayer_output\u001b[0m \u001b[0;34m=\u001b[0m \u001b[0mself\u001b[0m\u001b[0;34m.\u001b[0m\u001b[0mlayer_scale2\u001b[0m\u001b[0;34m(\u001b[0m\u001b[0mlayer_output\u001b[0m\u001b[0;34m)\u001b[0m\u001b[0;34m\u001b[0m\u001b[0;34m\u001b[0m\u001b[0m\n\u001b[1;32m    470\u001b[0m \u001b[0;34m\u001b[0m\u001b[0m\n",
            "\u001b[0;32m/usr/local/lib/python3.11/dist-packages/torch/nn/modules/module.py\u001b[0m in \u001b[0;36m_wrapped_call_impl\u001b[0;34m(self, *args, **kwargs)\u001b[0m\n\u001b[1;32m   1734\u001b[0m             \u001b[0;32mreturn\u001b[0m \u001b[0mself\u001b[0m\u001b[0;34m.\u001b[0m\u001b[0m_compiled_call_impl\u001b[0m\u001b[0;34m(\u001b[0m\u001b[0;34m*\u001b[0m\u001b[0margs\u001b[0m\u001b[0;34m,\u001b[0m \u001b[0;34m**\u001b[0m\u001b[0mkwargs\u001b[0m\u001b[0;34m)\u001b[0m  \u001b[0;31m# type: ignore[misc]\u001b[0m\u001b[0;34m\u001b[0m\u001b[0;34m\u001b[0m\u001b[0m\n\u001b[1;32m   1735\u001b[0m         \u001b[0;32melse\u001b[0m\u001b[0;34m:\u001b[0m\u001b[0;34m\u001b[0m\u001b[0;34m\u001b[0m\u001b[0m\n\u001b[0;32m-> 1736\u001b[0;31m             \u001b[0;32mreturn\u001b[0m \u001b[0mself\u001b[0m\u001b[0;34m.\u001b[0m\u001b[0m_call_impl\u001b[0m\u001b[0;34m(\u001b[0m\u001b[0;34m*\u001b[0m\u001b[0margs\u001b[0m\u001b[0;34m,\u001b[0m \u001b[0;34m**\u001b[0m\u001b[0mkwargs\u001b[0m\u001b[0;34m)\u001b[0m\u001b[0;34m\u001b[0m\u001b[0;34m\u001b[0m\u001b[0m\n\u001b[0m\u001b[1;32m   1737\u001b[0m \u001b[0;34m\u001b[0m\u001b[0m\n\u001b[1;32m   1738\u001b[0m     \u001b[0;31m# torchrec tests the code consistency with the following code\u001b[0m\u001b[0;34m\u001b[0m\u001b[0;34m\u001b[0m\u001b[0m\n",
            "\u001b[0;32m/usr/local/lib/python3.11/dist-packages/torch/nn/modules/module.py\u001b[0m in \u001b[0;36m_call_impl\u001b[0;34m(self, *args, **kwargs)\u001b[0m\n\u001b[1;32m   1745\u001b[0m                 \u001b[0;32mor\u001b[0m \u001b[0m_global_backward_pre_hooks\u001b[0m \u001b[0;32mor\u001b[0m \u001b[0m_global_backward_hooks\u001b[0m\u001b[0;34m\u001b[0m\u001b[0;34m\u001b[0m\u001b[0m\n\u001b[1;32m   1746\u001b[0m                 or _global_forward_hooks or _global_forward_pre_hooks):\n\u001b[0;32m-> 1747\u001b[0;31m             \u001b[0;32mreturn\u001b[0m \u001b[0mforward_call\u001b[0m\u001b[0;34m(\u001b[0m\u001b[0;34m*\u001b[0m\u001b[0margs\u001b[0m\u001b[0;34m,\u001b[0m \u001b[0;34m**\u001b[0m\u001b[0mkwargs\u001b[0m\u001b[0;34m)\u001b[0m\u001b[0;34m\u001b[0m\u001b[0;34m\u001b[0m\u001b[0m\n\u001b[0m\u001b[1;32m   1748\u001b[0m \u001b[0;34m\u001b[0m\u001b[0m\n\u001b[1;32m   1749\u001b[0m         \u001b[0mresult\u001b[0m \u001b[0;34m=\u001b[0m \u001b[0;32mNone\u001b[0m\u001b[0;34m\u001b[0m\u001b[0;34m\u001b[0m\u001b[0m\n",
            "\u001b[0;32m/usr/local/lib/python3.11/dist-packages/transformers/models/dinov2/modeling_dinov2.py\u001b[0m in \u001b[0;36mforward\u001b[0;34m(self, hidden_state)\u001b[0m\n\u001b[1;32m    397\u001b[0m \u001b[0;34m\u001b[0m\u001b[0m\n\u001b[1;32m    398\u001b[0m     \u001b[0;32mdef\u001b[0m \u001b[0mforward\u001b[0m\u001b[0;34m(\u001b[0m\u001b[0mself\u001b[0m\u001b[0;34m,\u001b[0m \u001b[0mhidden_state\u001b[0m\u001b[0;34m:\u001b[0m \u001b[0mtorch\u001b[0m\u001b[0;34m.\u001b[0m\u001b[0mTensor\u001b[0m\u001b[0;34m)\u001b[0m \u001b[0;34m->\u001b[0m \u001b[0mtorch\u001b[0m\u001b[0;34m.\u001b[0m\u001b[0mTensor\u001b[0m\u001b[0;34m:\u001b[0m\u001b[0;34m\u001b[0m\u001b[0;34m\u001b[0m\u001b[0m\n\u001b[0;32m--> 399\u001b[0;31m         \u001b[0mhidden_state\u001b[0m \u001b[0;34m=\u001b[0m \u001b[0mself\u001b[0m\u001b[0;34m.\u001b[0m\u001b[0mfc1\u001b[0m\u001b[0;34m(\u001b[0m\u001b[0mhidden_state\u001b[0m\u001b[0;34m)\u001b[0m\u001b[0;34m\u001b[0m\u001b[0;34m\u001b[0m\u001b[0m\n\u001b[0m\u001b[1;32m    400\u001b[0m         \u001b[0mhidden_state\u001b[0m \u001b[0;34m=\u001b[0m \u001b[0mself\u001b[0m\u001b[0;34m.\u001b[0m\u001b[0mactivation\u001b[0m\u001b[0;34m(\u001b[0m\u001b[0mhidden_state\u001b[0m\u001b[0;34m)\u001b[0m\u001b[0;34m\u001b[0m\u001b[0;34m\u001b[0m\u001b[0m\n\u001b[1;32m    401\u001b[0m         \u001b[0mhidden_state\u001b[0m \u001b[0;34m=\u001b[0m \u001b[0mself\u001b[0m\u001b[0;34m.\u001b[0m\u001b[0mfc2\u001b[0m\u001b[0;34m(\u001b[0m\u001b[0mhidden_state\u001b[0m\u001b[0;34m)\u001b[0m\u001b[0;34m\u001b[0m\u001b[0;34m\u001b[0m\u001b[0m\n",
            "\u001b[0;32m/usr/local/lib/python3.11/dist-packages/torch/nn/modules/module.py\u001b[0m in \u001b[0;36m_wrapped_call_impl\u001b[0;34m(self, *args, **kwargs)\u001b[0m\n\u001b[1;32m   1734\u001b[0m             \u001b[0;32mreturn\u001b[0m \u001b[0mself\u001b[0m\u001b[0;34m.\u001b[0m\u001b[0m_compiled_call_impl\u001b[0m\u001b[0;34m(\u001b[0m\u001b[0;34m*\u001b[0m\u001b[0margs\u001b[0m\u001b[0;34m,\u001b[0m \u001b[0;34m**\u001b[0m\u001b[0mkwargs\u001b[0m\u001b[0;34m)\u001b[0m  \u001b[0;31m# type: ignore[misc]\u001b[0m\u001b[0;34m\u001b[0m\u001b[0;34m\u001b[0m\u001b[0m\n\u001b[1;32m   1735\u001b[0m         \u001b[0;32melse\u001b[0m\u001b[0;34m:\u001b[0m\u001b[0;34m\u001b[0m\u001b[0;34m\u001b[0m\u001b[0m\n\u001b[0;32m-> 1736\u001b[0;31m             \u001b[0;32mreturn\u001b[0m \u001b[0mself\u001b[0m\u001b[0;34m.\u001b[0m\u001b[0m_call_impl\u001b[0m\u001b[0;34m(\u001b[0m\u001b[0;34m*\u001b[0m\u001b[0margs\u001b[0m\u001b[0;34m,\u001b[0m \u001b[0;34m**\u001b[0m\u001b[0mkwargs\u001b[0m\u001b[0;34m)\u001b[0m\u001b[0;34m\u001b[0m\u001b[0;34m\u001b[0m\u001b[0m\n\u001b[0m\u001b[1;32m   1737\u001b[0m \u001b[0;34m\u001b[0m\u001b[0m\n\u001b[1;32m   1738\u001b[0m     \u001b[0;31m# torchrec tests the code consistency with the following code\u001b[0m\u001b[0;34m\u001b[0m\u001b[0;34m\u001b[0m\u001b[0m\n",
            "\u001b[0;32m/usr/local/lib/python3.11/dist-packages/torch/nn/modules/module.py\u001b[0m in \u001b[0;36m_call_impl\u001b[0;34m(self, *args, **kwargs)\u001b[0m\n\u001b[1;32m   1745\u001b[0m                 \u001b[0;32mor\u001b[0m \u001b[0m_global_backward_pre_hooks\u001b[0m \u001b[0;32mor\u001b[0m \u001b[0m_global_backward_hooks\u001b[0m\u001b[0;34m\u001b[0m\u001b[0;34m\u001b[0m\u001b[0m\n\u001b[1;32m   1746\u001b[0m                 or _global_forward_hooks or _global_forward_pre_hooks):\n\u001b[0;32m-> 1747\u001b[0;31m             \u001b[0;32mreturn\u001b[0m \u001b[0mforward_call\u001b[0m\u001b[0;34m(\u001b[0m\u001b[0;34m*\u001b[0m\u001b[0margs\u001b[0m\u001b[0;34m,\u001b[0m \u001b[0;34m**\u001b[0m\u001b[0mkwargs\u001b[0m\u001b[0;34m)\u001b[0m\u001b[0;34m\u001b[0m\u001b[0;34m\u001b[0m\u001b[0m\n\u001b[0m\u001b[1;32m   1748\u001b[0m \u001b[0;34m\u001b[0m\u001b[0m\n\u001b[1;32m   1749\u001b[0m         \u001b[0mresult\u001b[0m \u001b[0;34m=\u001b[0m \u001b[0;32mNone\u001b[0m\u001b[0;34m\u001b[0m\u001b[0;34m\u001b[0m\u001b[0m\n",
            "\u001b[0;32m/usr/local/lib/python3.11/dist-packages/torch/nn/modules/linear.py\u001b[0m in \u001b[0;36mforward\u001b[0;34m(self, input)\u001b[0m\n\u001b[1;32m    123\u001b[0m \u001b[0;34m\u001b[0m\u001b[0m\n\u001b[1;32m    124\u001b[0m     \u001b[0;32mdef\u001b[0m \u001b[0mforward\u001b[0m\u001b[0;34m(\u001b[0m\u001b[0mself\u001b[0m\u001b[0;34m,\u001b[0m \u001b[0minput\u001b[0m\u001b[0;34m:\u001b[0m \u001b[0mTensor\u001b[0m\u001b[0;34m)\u001b[0m \u001b[0;34m->\u001b[0m \u001b[0mTensor\u001b[0m\u001b[0;34m:\u001b[0m\u001b[0;34m\u001b[0m\u001b[0;34m\u001b[0m\u001b[0m\n\u001b[0;32m--> 125\u001b[0;31m         \u001b[0;32mreturn\u001b[0m \u001b[0mF\u001b[0m\u001b[0;34m.\u001b[0m\u001b[0mlinear\u001b[0m\u001b[0;34m(\u001b[0m\u001b[0minput\u001b[0m\u001b[0;34m,\u001b[0m \u001b[0mself\u001b[0m\u001b[0;34m.\u001b[0m\u001b[0mweight\u001b[0m\u001b[0;34m,\u001b[0m \u001b[0mself\u001b[0m\u001b[0;34m.\u001b[0m\u001b[0mbias\u001b[0m\u001b[0;34m)\u001b[0m\u001b[0;34m\u001b[0m\u001b[0;34m\u001b[0m\u001b[0m\n\u001b[0m\u001b[1;32m    126\u001b[0m \u001b[0;34m\u001b[0m\u001b[0m\n\u001b[1;32m    127\u001b[0m     \u001b[0;32mdef\u001b[0m \u001b[0mextra_repr\u001b[0m\u001b[0;34m(\u001b[0m\u001b[0mself\u001b[0m\u001b[0;34m)\u001b[0m \u001b[0;34m->\u001b[0m \u001b[0mstr\u001b[0m\u001b[0;34m:\u001b[0m\u001b[0;34m\u001b[0m\u001b[0;34m\u001b[0m\u001b[0m\n",
            "\u001b[0;31mKeyboardInterrupt\u001b[0m: "
          ]
        }
      ],
      "source": [
        "#!rm -r ../DIS5K-Cache/ # clean cache if cache not build correctly\n",
        "#path to save checkpoint\n",
        "save_path = \"/content/drive/MyDrive/isnet_depth_data\"\n",
        "# Specify the filename (relative to save_path) for the pretrained model if no pretrained then \"\"\n",
        "restore_filename = \"isnet_depth.pth\"\n",
        "#4 channels (RGB+depth)\n",
        "input_channels = 4\n",
        "# Get the configured hyperparameters and datasets.\n",
        "hypar, train_datasets, valid_datasets = configure_datasets_and_hypar(restore_filename, save_path, input_channels, mode=\"train\")\n",
        "\n",
        "\n",
        "pipe = pipeline(task=\"depth-estimation\", model=\"depth-anything/Depth-Anything-V2-small-hf\",device=device)\n",
        "\n",
        "# Now call your main training/inference function.\n",
        "train_valid_inference_main_depth.main(device,pipe,train_datasets, valid_datasets,hypar)\n"
      ]
    },
    {
      "cell_type": "markdown",
      "metadata": {
        "id": "LbjKi708Il7I"
      },
      "source": [
        "###train classic isnet"
      ]
    },
    {
      "cell_type": "code",
      "execution_count": 21,
      "metadata": {
        "id": "V-WWI5Cbcje7",
        "colab": {
          "base_uri": "https://localhost:8080/",
          "height": 1000
        },
        "outputId": "c41b218b-a78e-40a3-a5d5-a77bfe3fcbca"
      },
      "outputs": [
        {
          "output_type": "stream",
          "name": "stdout",
          "text": [
            "Building model with 3 input channels...\n",
            "Batch size (train): 6\n",
            "--- create training dataloader ---\n",
            "------------------------------ train --------------------------------\n",
            "--->>> train  dataset  0 / 1   DIS5K-TR <<<---\n",
            "-im- DIS5K-TR ../DIS5K/DIS-TR/im :  3000\n",
            "-gt- DIS5K-TR ../DIS5K/DIS-TR/gt :  3000\n"
          ]
        },
        {
          "output_type": "stream",
          "name": "stderr",
          "text": [
            "  0%|          | 0/3000 [00:00<?, ?it/s]/content/DIS/IS-Net/data_loader_cache.py:116: UserWarning: `nn.functional.upsample` is deprecated. Use `nn.functional.interpolate` instead.\n",
            "  im_tensor = F.upsample(im_tensor, size, mode=\"bilinear\")\n",
            "/content/DIS/IS-Net/data_loader_cache.py:130: UserWarning: To copy construct from a tensor, it is recommended to use sourceTensor.clone().detach() or sourceTensor.clone().detach().requires_grad_(True), rather than torch.tensor(sourceTensor).\n",
            "  gt_tensor = torch.unsqueeze(torch.tensor(gt_tensor, dtype=torch.float32),0)\n",
            "/content/DIS/IS-Net/data_loader_cache.py:131: UserWarning: `nn.functional.upsample` is deprecated. Use `nn.functional.interpolate` instead.\n",
            "  gt_tensor = F.upsample(gt_tensor, size, mode=\"bilinear\")\n",
            "/content/DIS/IS-Net/data_loader_cache.py:116: UserWarning: `nn.functional.upsample` is deprecated. Use `nn.functional.interpolate` instead.\n",
            "  im_tensor = F.upsample(im_tensor, size, mode=\"bilinear\")\n",
            "/content/DIS/IS-Net/data_loader_cache.py:130: UserWarning: To copy construct from a tensor, it is recommended to use sourceTensor.clone().detach() or sourceTensor.clone().detach().requires_grad_(True), rather than torch.tensor(sourceTensor).\n",
            "  gt_tensor = torch.unsqueeze(torch.tensor(gt_tensor, dtype=torch.float32),0)\n",
            "/content/DIS/IS-Net/data_loader_cache.py:131: UserWarning: `nn.functional.upsample` is deprecated. Use `nn.functional.interpolate` instead.\n",
            "  gt_tensor = F.upsample(gt_tensor, size, mode=\"bilinear\")\n",
            "/content/DIS/IS-Net/data_loader_cache.py:116: UserWarning: `nn.functional.upsample` is deprecated. Use `nn.functional.interpolate` instead.\n",
            "  im_tensor = F.upsample(im_tensor, size, mode=\"bilinear\")\n",
            "/content/DIS/IS-Net/data_loader_cache.py:130: UserWarning: To copy construct from a tensor, it is recommended to use sourceTensor.clone().detach() or sourceTensor.clone().detach().requires_grad_(True), rather than torch.tensor(sourceTensor).\n",
            "  gt_tensor = torch.unsqueeze(torch.tensor(gt_tensor, dtype=torch.float32),0)\n",
            "/content/DIS/IS-Net/data_loader_cache.py:131: UserWarning: `nn.functional.upsample` is deprecated. Use `nn.functional.interpolate` instead.\n",
            "  gt_tensor = F.upsample(gt_tensor, size, mode=\"bilinear\")\n",
            "  0%|          | 3/3000 [00:00<02:13, 22.39it/s]"
          ]
        },
        {
          "output_type": "stream",
          "name": "stdout",
          "text": [
            "im_path:  ../DIS5K/DIS-TR/im/1#Accessories#3#Eyeglasses#512172545_23d7ec5f38_o.jpg\n",
            "im_path:  ../DIS5K/DIS-TR/im/11#Furniture#18#TableChair#IMG_20210512_194704.jpg\n",
            "im_path:  ../DIS5K/DIS-TR/im/6#Automobile#6#Excavator#51092590823_ddf321e0f1_o.jpg\n",
            "im_path:  ../DIS5K/DIS-TR/im/20#Sports#9#RockClimbing#3258777507_f89fc6c7b0_o.jpg\n",
            "im_path:  ../DIS5K/DIS-TR/im/8#Electronics#7#MobileHolder#49733000851_8ecc798e67_o.jpg\n"
          ]
        },
        {
          "output_type": "stream",
          "name": "stderr",
          "text": [
            "/content/DIS/IS-Net/data_loader_cache.py:116: UserWarning: `nn.functional.upsample` is deprecated. Use `nn.functional.interpolate` instead.\n",
            "  im_tensor = F.upsample(im_tensor, size, mode=\"bilinear\")\n",
            "/content/DIS/IS-Net/data_loader_cache.py:130: UserWarning: To copy construct from a tensor, it is recommended to use sourceTensor.clone().detach() or sourceTensor.clone().detach().requires_grad_(True), rather than torch.tensor(sourceTensor).\n",
            "  gt_tensor = torch.unsqueeze(torch.tensor(gt_tensor, dtype=torch.float32),0)\n",
            "/content/DIS/IS-Net/data_loader_cache.py:131: UserWarning: `nn.functional.upsample` is deprecated. Use `nn.functional.interpolate` instead.\n",
            "  gt_tensor = F.upsample(gt_tensor, size, mode=\"bilinear\")\n",
            "/content/DIS/IS-Net/data_loader_cache.py:116: UserWarning: `nn.functional.upsample` is deprecated. Use `nn.functional.interpolate` instead.\n",
            "  im_tensor = F.upsample(im_tensor, size, mode=\"bilinear\")\n",
            "/content/DIS/IS-Net/data_loader_cache.py:130: UserWarning: To copy construct from a tensor, it is recommended to use sourceTensor.clone().detach() or sourceTensor.clone().detach().requires_grad_(True), rather than torch.tensor(sourceTensor).\n",
            "  gt_tensor = torch.unsqueeze(torch.tensor(gt_tensor, dtype=torch.float32),0)\n",
            "/content/DIS/IS-Net/data_loader_cache.py:131: UserWarning: `nn.functional.upsample` is deprecated. Use `nn.functional.interpolate` instead.\n",
            "  gt_tensor = F.upsample(gt_tensor, size, mode=\"bilinear\")\n",
            "/content/DIS/IS-Net/data_loader_cache.py:116: UserWarning: `nn.functional.upsample` is deprecated. Use `nn.functional.interpolate` instead.\n",
            "  im_tensor = F.upsample(im_tensor, size, mode=\"bilinear\")\n",
            "/content/DIS/IS-Net/data_loader_cache.py:130: UserWarning: To copy construct from a tensor, it is recommended to use sourceTensor.clone().detach() or sourceTensor.clone().detach().requires_grad_(True), rather than torch.tensor(sourceTensor).\n",
            "  gt_tensor = torch.unsqueeze(torch.tensor(gt_tensor, dtype=torch.float32),0)\n",
            "/content/DIS/IS-Net/data_loader_cache.py:131: UserWarning: `nn.functional.upsample` is deprecated. Use `nn.functional.interpolate` instead.\n",
            "  gt_tensor = F.upsample(gt_tensor, size, mode=\"bilinear\")\n",
            "  0%|          | 6/3000 [00:00<02:08, 23.32it/s]/content/DIS/IS-Net/data_loader_cache.py:116: UserWarning: `nn.functional.upsample` is deprecated. Use `nn.functional.interpolate` instead.\n",
            "  im_tensor = F.upsample(im_tensor, size, mode=\"bilinear\")\n",
            "/content/DIS/IS-Net/data_loader_cache.py:130: UserWarning: To copy construct from a tensor, it is recommended to use sourceTensor.clone().detach() or sourceTensor.clone().detach().requires_grad_(True), rather than torch.tensor(sourceTensor).\n",
            "  gt_tensor = torch.unsqueeze(torch.tensor(gt_tensor, dtype=torch.float32),0)\n",
            "/content/DIS/IS-Net/data_loader_cache.py:131: UserWarning: `nn.functional.upsample` is deprecated. Use `nn.functional.interpolate` instead.\n",
            "  gt_tensor = F.upsample(gt_tensor, size, mode=\"bilinear\")\n",
            "/content/DIS/IS-Net/data_loader_cache.py:116: UserWarning: `nn.functional.upsample` is deprecated. Use `nn.functional.interpolate` instead.\n",
            "  im_tensor = F.upsample(im_tensor, size, mode=\"bilinear\")\n",
            "/content/DIS/IS-Net/data_loader_cache.py:130: UserWarning: To copy construct from a tensor, it is recommended to use sourceTensor.clone().detach() or sourceTensor.clone().detach().requires_grad_(True), rather than torch.tensor(sourceTensor).\n",
            "  gt_tensor = torch.unsqueeze(torch.tensor(gt_tensor, dtype=torch.float32),0)\n",
            "/content/DIS/IS-Net/data_loader_cache.py:131: UserWarning: `nn.functional.upsample` is deprecated. Use `nn.functional.interpolate` instead.\n",
            "  gt_tensor = F.upsample(gt_tensor, size, mode=\"bilinear\")\n",
            "/content/DIS/IS-Net/data_loader_cache.py:116: UserWarning: `nn.functional.upsample` is deprecated. Use `nn.functional.interpolate` instead.\n",
            "  im_tensor = F.upsample(im_tensor, size, mode=\"bilinear\")\n",
            "/content/DIS/IS-Net/data_loader_cache.py:130: UserWarning: To copy construct from a tensor, it is recommended to use sourceTensor.clone().detach() or sourceTensor.clone().detach().requires_grad_(True), rather than torch.tensor(sourceTensor).\n",
            "  gt_tensor = torch.unsqueeze(torch.tensor(gt_tensor, dtype=torch.float32),0)\n",
            "/content/DIS/IS-Net/data_loader_cache.py:131: UserWarning: `nn.functional.upsample` is deprecated. Use `nn.functional.interpolate` instead.\n",
            "  gt_tensor = F.upsample(gt_tensor, size, mode=\"bilinear\")\n",
            "  0%|          | 9/3000 [00:00<02:14, 22.26it/s]"
          ]
        },
        {
          "output_type": "stream",
          "name": "stdout",
          "text": [
            "im_path:  ../DIS5K/DIS-TR/im/11#Furniture#2#Bench#382567966_bcdeb3ceea_o.jpg\n",
            "im_path:  ../DIS5K/DIS-TR/im/4#Architecture#1#Balcony#5047125890_3942f1f4de_o.jpg\n",
            "im_path:  ../DIS5K/DIS-TR/im/4#Architecture#9#OilWell#11216285173_f662938ba7_o.jpg\n",
            "im_path:  ../DIS5K/DIS-TR/im/15#Machine#1#Gear#4552155168_03cf2e5105_o.jpg\n",
            "im_path:  ../DIS5K/DIS-TR/im/5#Artifact#3#Handcraft#156672162_e36c11b820_o.jpg\n"
          ]
        },
        {
          "output_type": "stream",
          "name": "stderr",
          "text": [
            "/content/DIS/IS-Net/data_loader_cache.py:116: UserWarning: `nn.functional.upsample` is deprecated. Use `nn.functional.interpolate` instead.\n",
            "  im_tensor = F.upsample(im_tensor, size, mode=\"bilinear\")\n",
            "/content/DIS/IS-Net/data_loader_cache.py:130: UserWarning: To copy construct from a tensor, it is recommended to use sourceTensor.clone().detach() or sourceTensor.clone().detach().requires_grad_(True), rather than torch.tensor(sourceTensor).\n",
            "  gt_tensor = torch.unsqueeze(torch.tensor(gt_tensor, dtype=torch.float32),0)\n",
            "/content/DIS/IS-Net/data_loader_cache.py:131: UserWarning: `nn.functional.upsample` is deprecated. Use `nn.functional.interpolate` instead.\n",
            "  gt_tensor = F.upsample(gt_tensor, size, mode=\"bilinear\")\n",
            "/content/DIS/IS-Net/data_loader_cache.py:116: UserWarning: `nn.functional.upsample` is deprecated. Use `nn.functional.interpolate` instead.\n",
            "  im_tensor = F.upsample(im_tensor, size, mode=\"bilinear\")\n",
            "/content/DIS/IS-Net/data_loader_cache.py:130: UserWarning: To copy construct from a tensor, it is recommended to use sourceTensor.clone().detach() or sourceTensor.clone().detach().requires_grad_(True), rather than torch.tensor(sourceTensor).\n",
            "  gt_tensor = torch.unsqueeze(torch.tensor(gt_tensor, dtype=torch.float32),0)\n",
            "/content/DIS/IS-Net/data_loader_cache.py:131: UserWarning: `nn.functional.upsample` is deprecated. Use `nn.functional.interpolate` instead.\n",
            "  gt_tensor = F.upsample(gt_tensor, size, mode=\"bilinear\")\n",
            "/content/DIS/IS-Net/data_loader_cache.py:116: UserWarning: `nn.functional.upsample` is deprecated. Use `nn.functional.interpolate` instead.\n",
            "  im_tensor = F.upsample(im_tensor, size, mode=\"bilinear\")\n",
            "/content/DIS/IS-Net/data_loader_cache.py:130: UserWarning: To copy construct from a tensor, it is recommended to use sourceTensor.clone().detach() or sourceTensor.clone().detach().requires_grad_(True), rather than torch.tensor(sourceTensor).\n",
            "  gt_tensor = torch.unsqueeze(torch.tensor(gt_tensor, dtype=torch.float32),0)\n",
            "/content/DIS/IS-Net/data_loader_cache.py:131: UserWarning: `nn.functional.upsample` is deprecated. Use `nn.functional.interpolate` instead.\n",
            "  gt_tensor = F.upsample(gt_tensor, size, mode=\"bilinear\")\n",
            "  0%|          | 12/3000 [00:00<02:10, 22.84it/s]/content/DIS/IS-Net/data_loader_cache.py:116: UserWarning: `nn.functional.upsample` is deprecated. Use `nn.functional.interpolate` instead.\n",
            "  im_tensor = F.upsample(im_tensor, size, mode=\"bilinear\")\n",
            "/content/DIS/IS-Net/data_loader_cache.py:130: UserWarning: To copy construct from a tensor, it is recommended to use sourceTensor.clone().detach() or sourceTensor.clone().detach().requires_grad_(True), rather than torch.tensor(sourceTensor).\n",
            "  gt_tensor = torch.unsqueeze(torch.tensor(gt_tensor, dtype=torch.float32),0)\n",
            "/content/DIS/IS-Net/data_loader_cache.py:131: UserWarning: `nn.functional.upsample` is deprecated. Use `nn.functional.interpolate` instead.\n",
            "  gt_tensor = F.upsample(gt_tensor, size, mode=\"bilinear\")\n",
            "/content/DIS/IS-Net/data_loader_cache.py:116: UserWarning: `nn.functional.upsample` is deprecated. Use `nn.functional.interpolate` instead.\n",
            "  im_tensor = F.upsample(im_tensor, size, mode=\"bilinear\")\n",
            "/content/DIS/IS-Net/data_loader_cache.py:130: UserWarning: To copy construct from a tensor, it is recommended to use sourceTensor.clone().detach() or sourceTensor.clone().detach().requires_grad_(True), rather than torch.tensor(sourceTensor).\n",
            "  gt_tensor = torch.unsqueeze(torch.tensor(gt_tensor, dtype=torch.float32),0)\n",
            "/content/DIS/IS-Net/data_loader_cache.py:131: UserWarning: `nn.functional.upsample` is deprecated. Use `nn.functional.interpolate` instead.\n",
            "  gt_tensor = F.upsample(gt_tensor, size, mode=\"bilinear\")\n",
            "/content/DIS/IS-Net/data_loader_cache.py:116: UserWarning: `nn.functional.upsample` is deprecated. Use `nn.functional.interpolate` instead.\n",
            "  im_tensor = F.upsample(im_tensor, size, mode=\"bilinear\")\n"
          ]
        },
        {
          "output_type": "stream",
          "name": "stdout",
          "text": [
            "im_path:  ../DIS5K/DIS-TR/im/20#Sports#3#Fishing#3720337061_c18026cc21_o.jpg\n",
            "im_path:  ../DIS5K/DIS-TR/im/8#Electronics#11#TV#48922298318_02fe9585f0_o.jpg\n",
            "im_path:  ../DIS5K/DIS-TR/im/6#Automobile#4#ConcretePumpTruck#27233048842_e27098e94e_o.jpg\n",
            "im_path:  ../DIS5K/DIS-TR/im/11#Furniture#13#Ladder#4551199387_20930c741d_o.jpg\n",
            "im_path:  ../DIS5K/DIS-TR/im/7#Electrical#6#StreetLamp#139185653_de2a8d39bf_o.jpg\n"
          ]
        },
        {
          "output_type": "stream",
          "name": "stderr",
          "text": [
            "/content/DIS/IS-Net/data_loader_cache.py:130: UserWarning: To copy construct from a tensor, it is recommended to use sourceTensor.clone().detach() or sourceTensor.clone().detach().requires_grad_(True), rather than torch.tensor(sourceTensor).\n",
            "  gt_tensor = torch.unsqueeze(torch.tensor(gt_tensor, dtype=torch.float32),0)\n",
            "/content/DIS/IS-Net/data_loader_cache.py:131: UserWarning: `nn.functional.upsample` is deprecated. Use `nn.functional.interpolate` instead.\n",
            "  gt_tensor = F.upsample(gt_tensor, size, mode=\"bilinear\")\n",
            "\r  0%|          | 15/3000 [00:00<02:08, 23.16it/s]/content/DIS/IS-Net/data_loader_cache.py:116: UserWarning: `nn.functional.upsample` is deprecated. Use `nn.functional.interpolate` instead.\n",
            "  im_tensor = F.upsample(im_tensor, size, mode=\"bilinear\")\n",
            "/content/DIS/IS-Net/data_loader_cache.py:130: UserWarning: To copy construct from a tensor, it is recommended to use sourceTensor.clone().detach() or sourceTensor.clone().detach().requires_grad_(True), rather than torch.tensor(sourceTensor).\n",
            "  gt_tensor = torch.unsqueeze(torch.tensor(gt_tensor, dtype=torch.float32),0)\n",
            "/content/DIS/IS-Net/data_loader_cache.py:131: UserWarning: `nn.functional.upsample` is deprecated. Use `nn.functional.interpolate` instead.\n",
            "  gt_tensor = F.upsample(gt_tensor, size, mode=\"bilinear\")\n",
            "/content/DIS/IS-Net/data_loader_cache.py:116: UserWarning: `nn.functional.upsample` is deprecated. Use `nn.functional.interpolate` instead.\n",
            "  im_tensor = F.upsample(im_tensor, size, mode=\"bilinear\")\n",
            "/content/DIS/IS-Net/data_loader_cache.py:130: UserWarning: To copy construct from a tensor, it is recommended to use sourceTensor.clone().detach() or sourceTensor.clone().detach().requires_grad_(True), rather than torch.tensor(sourceTensor).\n",
            "  gt_tensor = torch.unsqueeze(torch.tensor(gt_tensor, dtype=torch.float32),0)\n",
            "/content/DIS/IS-Net/data_loader_cache.py:131: UserWarning: `nn.functional.upsample` is deprecated. Use `nn.functional.interpolate` instead.\n",
            "  gt_tensor = F.upsample(gt_tensor, size, mode=\"bilinear\")\n",
            "/content/DIS/IS-Net/data_loader_cache.py:116: UserWarning: `nn.functional.upsample` is deprecated. Use `nn.functional.interpolate` instead.\n",
            "  im_tensor = F.upsample(im_tensor, size, mode=\"bilinear\")\n",
            "/content/DIS/IS-Net/data_loader_cache.py:130: UserWarning: To copy construct from a tensor, it is recommended to use sourceTensor.clone().detach() or sourceTensor.clone().detach().requires_grad_(True), rather than torch.tensor(sourceTensor).\n",
            "  gt_tensor = torch.unsqueeze(torch.tensor(gt_tensor, dtype=torch.float32),0)\n",
            "/content/DIS/IS-Net/data_loader_cache.py:131: UserWarning: `nn.functional.upsample` is deprecated. Use `nn.functional.interpolate` instead.\n",
            "  gt_tensor = F.upsample(gt_tensor, size, mode=\"bilinear\")\n",
            "  1%|          | 18/3000 [00:00<02:08, 23.21it/s]/content/DIS/IS-Net/data_loader_cache.py:116: UserWarning: `nn.functional.upsample` is deprecated. Use `nn.functional.interpolate` instead.\n",
            "  im_tensor = F.upsample(im_tensor, size, mode=\"bilinear\")\n",
            "/content/DIS/IS-Net/data_loader_cache.py:130: UserWarning: To copy construct from a tensor, it is recommended to use sourceTensor.clone().detach() or sourceTensor.clone().detach().requires_grad_(True), rather than torch.tensor(sourceTensor).\n",
            "  gt_tensor = torch.unsqueeze(torch.tensor(gt_tensor, dtype=torch.float32),0)\n",
            "/content/DIS/IS-Net/data_loader_cache.py:131: UserWarning: `nn.functional.upsample` is deprecated. Use `nn.functional.interpolate` instead.\n",
            "  gt_tensor = F.upsample(gt_tensor, size, mode=\"bilinear\")\n",
            "/content/DIS/IS-Net/data_loader_cache.py:116: UserWarning: `nn.functional.upsample` is deprecated. Use `nn.functional.interpolate` instead.\n",
            "  im_tensor = F.upsample(im_tensor, size, mode=\"bilinear\")\n"
          ]
        },
        {
          "output_type": "stream",
          "name": "stdout",
          "text": [
            "im_path:  ../DIS5K/DIS-TR/im/17#Non-motor Vehicle#7#Mower#14245968779_101df4c978_o.jpg\n",
            "im_path:  ../DIS5K/DIS-TR/im/11#Furniture#4#Chair#4240615787_559929069e_o.jpg\n",
            "im_path:  ../DIS5K/DIS-TR/im/9#Entertainment#3#OutdoorFitnessEquipment#20880434495_2e6cbfe22c_o.jpg\n",
            "im_path:  ../DIS5K/DIS-TR/im/9#Entertainment#5#Swing#4063022350_aa2c2a1f3f_o.jpg\n",
            "im_path:  ../DIS5K/DIS-TR/im/7#Electrical#3#Fan#5660270627_d456f2febf_o.jpg\n"
          ]
        },
        {
          "output_type": "stream",
          "name": "stderr",
          "text": [
            "/content/DIS/IS-Net/data_loader_cache.py:130: UserWarning: To copy construct from a tensor, it is recommended to use sourceTensor.clone().detach() or sourceTensor.clone().detach().requires_grad_(True), rather than torch.tensor(sourceTensor).\n",
            "  gt_tensor = torch.unsqueeze(torch.tensor(gt_tensor, dtype=torch.float32),0)\n",
            "/content/DIS/IS-Net/data_loader_cache.py:131: UserWarning: `nn.functional.upsample` is deprecated. Use `nn.functional.interpolate` instead.\n",
            "  gt_tensor = F.upsample(gt_tensor, size, mode=\"bilinear\")\n",
            "/content/DIS/IS-Net/data_loader_cache.py:116: UserWarning: `nn.functional.upsample` is deprecated. Use `nn.functional.interpolate` instead.\n",
            "  im_tensor = F.upsample(im_tensor, size, mode=\"bilinear\")\n",
            "/content/DIS/IS-Net/data_loader_cache.py:130: UserWarning: To copy construct from a tensor, it is recommended to use sourceTensor.clone().detach() or sourceTensor.clone().detach().requires_grad_(True), rather than torch.tensor(sourceTensor).\n",
            "  gt_tensor = torch.unsqueeze(torch.tensor(gt_tensor, dtype=torch.float32),0)\n",
            "/content/DIS/IS-Net/data_loader_cache.py:131: UserWarning: `nn.functional.upsample` is deprecated. Use `nn.functional.interpolate` instead.\n",
            "  gt_tensor = F.upsample(gt_tensor, size, mode=\"bilinear\")\n",
            "  1%|          | 21/3000 [00:00<02:09, 23.00it/s]/content/DIS/IS-Net/data_loader_cache.py:116: UserWarning: `nn.functional.upsample` is deprecated. Use `nn.functional.interpolate` instead.\n",
            "  im_tensor = F.upsample(im_tensor, size, mode=\"bilinear\")\n",
            "/content/DIS/IS-Net/data_loader_cache.py:130: UserWarning: To copy construct from a tensor, it is recommended to use sourceTensor.clone().detach() or sourceTensor.clone().detach().requires_grad_(True), rather than torch.tensor(sourceTensor).\n",
            "  gt_tensor = torch.unsqueeze(torch.tensor(gt_tensor, dtype=torch.float32),0)\n",
            "/content/DIS/IS-Net/data_loader_cache.py:131: UserWarning: `nn.functional.upsample` is deprecated. Use `nn.functional.interpolate` instead.\n",
            "  gt_tensor = F.upsample(gt_tensor, size, mode=\"bilinear\")\n",
            "/content/DIS/IS-Net/data_loader_cache.py:116: UserWarning: `nn.functional.upsample` is deprecated. Use `nn.functional.interpolate` instead.\n",
            "  im_tensor = F.upsample(im_tensor, size, mode=\"bilinear\")\n",
            "/content/DIS/IS-Net/data_loader_cache.py:130: UserWarning: To copy construct from a tensor, it is recommended to use sourceTensor.clone().detach() or sourceTensor.clone().detach().requires_grad_(True), rather than torch.tensor(sourceTensor).\n",
            "  gt_tensor = torch.unsqueeze(torch.tensor(gt_tensor, dtype=torch.float32),0)\n",
            "/content/DIS/IS-Net/data_loader_cache.py:131: UserWarning: `nn.functional.upsample` is deprecated. Use `nn.functional.interpolate` instead.\n",
            "  gt_tensor = F.upsample(gt_tensor, size, mode=\"bilinear\")\n",
            "/content/DIS/IS-Net/data_loader_cache.py:116: UserWarning: `nn.functional.upsample` is deprecated. Use `nn.functional.interpolate` instead.\n",
            "  im_tensor = F.upsample(im_tensor, size, mode=\"bilinear\")\n",
            "/content/DIS/IS-Net/data_loader_cache.py:130: UserWarning: To copy construct from a tensor, it is recommended to use sourceTensor.clone().detach() or sourceTensor.clone().detach().requires_grad_(True), rather than torch.tensor(sourceTensor).\n",
            "  gt_tensor = torch.unsqueeze(torch.tensor(gt_tensor, dtype=torch.float32),0)\n",
            "/content/DIS/IS-Net/data_loader_cache.py:131: UserWarning: `nn.functional.upsample` is deprecated. Use `nn.functional.interpolate` instead.\n",
            "  gt_tensor = F.upsample(gt_tensor, size, mode=\"bilinear\")\n",
            "  1%|          | 24/3000 [00:01<02:00, 24.69it/s]/content/DIS/IS-Net/data_loader_cache.py:116: UserWarning: `nn.functional.upsample` is deprecated. Use `nn.functional.interpolate` instead.\n",
            "  im_tensor = F.upsample(im_tensor, size, mode=\"bilinear\")\n",
            "/content/DIS/IS-Net/data_loader_cache.py:130: UserWarning: To copy construct from a tensor, it is recommended to use sourceTensor.clone().detach() or sourceTensor.clone().detach().requires_grad_(True), rather than torch.tensor(sourceTensor).\n",
            "  gt_tensor = torch.unsqueeze(torch.tensor(gt_tensor, dtype=torch.float32),0)\n",
            "/content/DIS/IS-Net/data_loader_cache.py:131: UserWarning: `nn.functional.upsample` is deprecated. Use `nn.functional.interpolate` instead.\n",
            "  gt_tensor = F.upsample(gt_tensor, size, mode=\"bilinear\")\n"
          ]
        },
        {
          "output_type": "stream",
          "name": "stdout",
          "text": [
            "im_path:  ../DIS5K/DIS-TR/im/6#Automobile#3#Car#47433289381_3e9c4010e7_o.jpg\n",
            "im_path:  ../DIS5K/DIS-TR/im/4#Architecture#11#Pipe#30017444413_5f3591e0ab_o.jpg\n",
            "im_path:  ../DIS5K/DIS-TR/im/2#Aircraft#2#Balloon#5229727891_8ace07cd9b_o.jpg\n",
            "im_path:  ../DIS5K/DIS-TR/im/7#Electrical#5#Lightning#27944274371_944dc2c693_o.jpg\n",
            "im_path:  ../DIS5K/DIS-TR/im/20#Sports#14#Wakesurfing#3818270227_3681ab9164_o.jpg\n",
            "im_path:  ../DIS5K/DIS-TR/im/13#Insect#1#Ant#3398124862_2982877b52_o.jpg\n"
          ]
        },
        {
          "output_type": "stream",
          "name": "stderr",
          "text": [
            "/content/DIS/IS-Net/data_loader_cache.py:116: UserWarning: `nn.functional.upsample` is deprecated. Use `nn.functional.interpolate` instead.\n",
            "  im_tensor = F.upsample(im_tensor, size, mode=\"bilinear\")\n",
            "/content/DIS/IS-Net/data_loader_cache.py:130: UserWarning: To copy construct from a tensor, it is recommended to use sourceTensor.clone().detach() or sourceTensor.clone().detach().requires_grad_(True), rather than torch.tensor(sourceTensor).\n",
            "  gt_tensor = torch.unsqueeze(torch.tensor(gt_tensor, dtype=torch.float32),0)\n",
            "/content/DIS/IS-Net/data_loader_cache.py:131: UserWarning: `nn.functional.upsample` is deprecated. Use `nn.functional.interpolate` instead.\n",
            "  gt_tensor = F.upsample(gt_tensor, size, mode=\"bilinear\")\n",
            "/content/DIS/IS-Net/data_loader_cache.py:116: UserWarning: `nn.functional.upsample` is deprecated. Use `nn.functional.interpolate` instead.\n",
            "  im_tensor = F.upsample(im_tensor, size, mode=\"bilinear\")\n",
            "/content/DIS/IS-Net/data_loader_cache.py:130: UserWarning: To copy construct from a tensor, it is recommended to use sourceTensor.clone().detach() or sourceTensor.clone().detach().requires_grad_(True), rather than torch.tensor(sourceTensor).\n",
            "  gt_tensor = torch.unsqueeze(torch.tensor(gt_tensor, dtype=torch.float32),0)\n",
            "/content/DIS/IS-Net/data_loader_cache.py:131: UserWarning: `nn.functional.upsample` is deprecated. Use `nn.functional.interpolate` instead.\n",
            "  gt_tensor = F.upsample(gt_tensor, size, mode=\"bilinear\")\n",
            "  1%|          | 27/3000 [00:01<01:59, 24.90it/s]/content/DIS/IS-Net/data_loader_cache.py:116: UserWarning: `nn.functional.upsample` is deprecated. Use `nn.functional.interpolate` instead.\n",
            "  im_tensor = F.upsample(im_tensor, size, mode=\"bilinear\")\n",
            "/content/DIS/IS-Net/data_loader_cache.py:130: UserWarning: To copy construct from a tensor, it is recommended to use sourceTensor.clone().detach() or sourceTensor.clone().detach().requires_grad_(True), rather than torch.tensor(sourceTensor).\n",
            "  gt_tensor = torch.unsqueeze(torch.tensor(gt_tensor, dtype=torch.float32),0)\n",
            "/content/DIS/IS-Net/data_loader_cache.py:131: UserWarning: `nn.functional.upsample` is deprecated. Use `nn.functional.interpolate` instead.\n",
            "  gt_tensor = F.upsample(gt_tensor, size, mode=\"bilinear\")\n",
            "/content/DIS/IS-Net/data_loader_cache.py:116: UserWarning: `nn.functional.upsample` is deprecated. Use `nn.functional.interpolate` instead.\n",
            "  im_tensor = F.upsample(im_tensor, size, mode=\"bilinear\")\n",
            "/content/DIS/IS-Net/data_loader_cache.py:130: UserWarning: To copy construct from a tensor, it is recommended to use sourceTensor.clone().detach() or sourceTensor.clone().detach().requires_grad_(True), rather than torch.tensor(sourceTensor).\n",
            "  gt_tensor = torch.unsqueeze(torch.tensor(gt_tensor, dtype=torch.float32),0)\n",
            "/content/DIS/IS-Net/data_loader_cache.py:131: UserWarning: `nn.functional.upsample` is deprecated. Use `nn.functional.interpolate` instead.\n",
            "  gt_tensor = F.upsample(gt_tensor, size, mode=\"bilinear\")\n",
            "/content/DIS/IS-Net/data_loader_cache.py:116: UserWarning: `nn.functional.upsample` is deprecated. Use `nn.functional.interpolate` instead.\n",
            "  im_tensor = F.upsample(im_tensor, size, mode=\"bilinear\")\n",
            "/content/DIS/IS-Net/data_loader_cache.py:130: UserWarning: To copy construct from a tensor, it is recommended to use sourceTensor.clone().detach() or sourceTensor.clone().detach().requires_grad_(True), rather than torch.tensor(sourceTensor).\n",
            "  gt_tensor = torch.unsqueeze(torch.tensor(gt_tensor, dtype=torch.float32),0)\n",
            "/content/DIS/IS-Net/data_loader_cache.py:131: UserWarning: `nn.functional.upsample` is deprecated. Use `nn.functional.interpolate` instead.\n",
            "  gt_tensor = F.upsample(gt_tensor, size, mode=\"bilinear\")\n",
            "  1%|          | 30/3000 [00:01<01:59, 24.95it/s]/content/DIS/IS-Net/data_loader_cache.py:116: UserWarning: `nn.functional.upsample` is deprecated. Use `nn.functional.interpolate` instead.\n",
            "  im_tensor = F.upsample(im_tensor, size, mode=\"bilinear\")\n"
          ]
        },
        {
          "output_type": "stream",
          "name": "stdout",
          "text": [
            "im_path:  ../DIS5K/DIS-TR/im/4#Architecture#11#Pipe#4421042175_2b15e77eb4_o.jpg\n",
            "im_path:  ../DIS5K/DIS-TR/im/10#Frame#6#Skeleton#9497171223_1608e9dc39_o.jpg\n",
            "im_path:  ../DIS5K/DIS-TR/im/19#Ship#1#Boat#1082845845_1e1ec3fc81_o.jpg\n",
            "im_path:  ../DIS5K/DIS-TR/im/2#Aircraft#1#Airplane#6228006399_ff070fa12a_o.jpg\n",
            "im_path:  ../DIS5K/DIS-TR/im/8#Electronics#3#Earphone#2145614102_da350ecc1c_o.jpg\n"
          ]
        },
        {
          "output_type": "stream",
          "name": "stderr",
          "text": [
            "/content/DIS/IS-Net/data_loader_cache.py:130: UserWarning: To copy construct from a tensor, it is recommended to use sourceTensor.clone().detach() or sourceTensor.clone().detach().requires_grad_(True), rather than torch.tensor(sourceTensor).\n",
            "  gt_tensor = torch.unsqueeze(torch.tensor(gt_tensor, dtype=torch.float32),0)\n",
            "/content/DIS/IS-Net/data_loader_cache.py:131: UserWarning: `nn.functional.upsample` is deprecated. Use `nn.functional.interpolate` instead.\n",
            "  gt_tensor = F.upsample(gt_tensor, size, mode=\"bilinear\")\n",
            "/content/DIS/IS-Net/data_loader_cache.py:116: UserWarning: `nn.functional.upsample` is deprecated. Use `nn.functional.interpolate` instead.\n",
            "  im_tensor = F.upsample(im_tensor, size, mode=\"bilinear\")\n",
            "/content/DIS/IS-Net/data_loader_cache.py:130: UserWarning: To copy construct from a tensor, it is recommended to use sourceTensor.clone().detach() or sourceTensor.clone().detach().requires_grad_(True), rather than torch.tensor(sourceTensor).\n",
            "  gt_tensor = torch.unsqueeze(torch.tensor(gt_tensor, dtype=torch.float32),0)\n",
            "/content/DIS/IS-Net/data_loader_cache.py:131: UserWarning: `nn.functional.upsample` is deprecated. Use `nn.functional.interpolate` instead.\n",
            "  gt_tensor = F.upsample(gt_tensor, size, mode=\"bilinear\")\n",
            "/content/DIS/IS-Net/data_loader_cache.py:116: UserWarning: `nn.functional.upsample` is deprecated. Use `nn.functional.interpolate` instead.\n",
            "  im_tensor = F.upsample(im_tensor, size, mode=\"bilinear\")\n",
            "/content/DIS/IS-Net/data_loader_cache.py:130: UserWarning: To copy construct from a tensor, it is recommended to use sourceTensor.clone().detach() or sourceTensor.clone().detach().requires_grad_(True), rather than torch.tensor(sourceTensor).\n",
            "  gt_tensor = torch.unsqueeze(torch.tensor(gt_tensor, dtype=torch.float32),0)\n",
            "/content/DIS/IS-Net/data_loader_cache.py:131: UserWarning: `nn.functional.upsample` is deprecated. Use `nn.functional.interpolate` instead.\n",
            "  gt_tensor = F.upsample(gt_tensor, size, mode=\"bilinear\")\n",
            "  1%|          | 33/3000 [00:01<01:57, 25.31it/s]/content/DIS/IS-Net/data_loader_cache.py:116: UserWarning: `nn.functional.upsample` is deprecated. Use `nn.functional.interpolate` instead.\n",
            "  im_tensor = F.upsample(im_tensor, size, mode=\"bilinear\")\n",
            "/content/DIS/IS-Net/data_loader_cache.py:130: UserWarning: To copy construct from a tensor, it is recommended to use sourceTensor.clone().detach() or sourceTensor.clone().detach().requires_grad_(True), rather than torch.tensor(sourceTensor).\n",
            "  gt_tensor = torch.unsqueeze(torch.tensor(gt_tensor, dtype=torch.float32),0)\n",
            "/content/DIS/IS-Net/data_loader_cache.py:131: UserWarning: `nn.functional.upsample` is deprecated. Use `nn.functional.interpolate` instead.\n",
            "  gt_tensor = F.upsample(gt_tensor, size, mode=\"bilinear\")\n",
            "/content/DIS/IS-Net/data_loader_cache.py:116: UserWarning: `nn.functional.upsample` is deprecated. Use `nn.functional.interpolate` instead.\n",
            "  im_tensor = F.upsample(im_tensor, size, mode=\"bilinear\")\n",
            "/content/DIS/IS-Net/data_loader_cache.py:130: UserWarning: To copy construct from a tensor, it is recommended to use sourceTensor.clone().detach() or sourceTensor.clone().detach().requires_grad_(True), rather than torch.tensor(sourceTensor).\n",
            "  gt_tensor = torch.unsqueeze(torch.tensor(gt_tensor, dtype=torch.float32),0)\n",
            "/content/DIS/IS-Net/data_loader_cache.py:131: UserWarning: `nn.functional.upsample` is deprecated. Use `nn.functional.interpolate` instead.\n",
            "  gt_tensor = F.upsample(gt_tensor, size, mode=\"bilinear\")\n",
            "/content/DIS/IS-Net/data_loader_cache.py:116: UserWarning: `nn.functional.upsample` is deprecated. Use `nn.functional.interpolate` instead.\n",
            "  im_tensor = F.upsample(im_tensor, size, mode=\"bilinear\")\n",
            "/content/DIS/IS-Net/data_loader_cache.py:130: UserWarning: To copy construct from a tensor, it is recommended to use sourceTensor.clone().detach() or sourceTensor.clone().detach().requires_grad_(True), rather than torch.tensor(sourceTensor).\n",
            "  gt_tensor = torch.unsqueeze(torch.tensor(gt_tensor, dtype=torch.float32),0)\n",
            "/content/DIS/IS-Net/data_loader_cache.py:131: UserWarning: `nn.functional.upsample` is deprecated. Use `nn.functional.interpolate` instead.\n",
            "  gt_tensor = F.upsample(gt_tensor, size, mode=\"bilinear\")\n",
            "  1%|          | 36/3000 [00:01<01:57, 25.20it/s]"
          ]
        },
        {
          "output_type": "stream",
          "name": "stdout",
          "text": [
            "im_path:  ../DIS5K/DIS-TR/im/21#Tool#1#Axe#159741912_e499610487_o.jpg\n",
            "im_path:  ../DIS5K/DIS-TR/im/3#Aquatic#1#Lobster#4345677094_a88335763a_o.jpg\n",
            "im_path:  ../DIS5K/DIS-TR/im/4#Architecture#14#Stair#9290353138_a0fee1cd1d_o.jpg\n",
            "im_path:  ../DIS5K/DIS-TR/im/17#Non-motor Vehicle#6#MovingTrolley#5559019723_69960564d1_o.jpg\n",
            "im_path:  ../DIS5K/DIS-TR/im/8#Electronics#10#Robot#6223502791_f99f8e6ff0_o.jpg\n",
            "im_path:  ../DIS5K/DIS-TR/im/21#Tool#11#Stand#IMG_20210520_205059.jpg\n"
          ]
        },
        {
          "output_type": "stream",
          "name": "stderr",
          "text": [
            "/content/DIS/IS-Net/data_loader_cache.py:116: UserWarning: `nn.functional.upsample` is deprecated. Use `nn.functional.interpolate` instead.\n",
            "  im_tensor = F.upsample(im_tensor, size, mode=\"bilinear\")\n",
            "/content/DIS/IS-Net/data_loader_cache.py:130: UserWarning: To copy construct from a tensor, it is recommended to use sourceTensor.clone().detach() or sourceTensor.clone().detach().requires_grad_(True), rather than torch.tensor(sourceTensor).\n",
            "  gt_tensor = torch.unsqueeze(torch.tensor(gt_tensor, dtype=torch.float32),0)\n",
            "/content/DIS/IS-Net/data_loader_cache.py:131: UserWarning: `nn.functional.upsample` is deprecated. Use `nn.functional.interpolate` instead.\n",
            "  gt_tensor = F.upsample(gt_tensor, size, mode=\"bilinear\")\n",
            "/content/DIS/IS-Net/data_loader_cache.py:116: UserWarning: `nn.functional.upsample` is deprecated. Use `nn.functional.interpolate` instead.\n",
            "  im_tensor = F.upsample(im_tensor, size, mode=\"bilinear\")\n",
            "/content/DIS/IS-Net/data_loader_cache.py:130: UserWarning: To copy construct from a tensor, it is recommended to use sourceTensor.clone().detach() or sourceTensor.clone().detach().requires_grad_(True), rather than torch.tensor(sourceTensor).\n",
            "  gt_tensor = torch.unsqueeze(torch.tensor(gt_tensor, dtype=torch.float32),0)\n",
            "/content/DIS/IS-Net/data_loader_cache.py:131: UserWarning: `nn.functional.upsample` is deprecated. Use `nn.functional.interpolate` instead.\n",
            "  gt_tensor = F.upsample(gt_tensor, size, mode=\"bilinear\")\n",
            "/content/DIS/IS-Net/data_loader_cache.py:116: UserWarning: `nn.functional.upsample` is deprecated. Use `nn.functional.interpolate` instead.\n",
            "  im_tensor = F.upsample(im_tensor, size, mode=\"bilinear\")\n",
            "/content/DIS/IS-Net/data_loader_cache.py:130: UserWarning: To copy construct from a tensor, it is recommended to use sourceTensor.clone().detach() or sourceTensor.clone().detach().requires_grad_(True), rather than torch.tensor(sourceTensor).\n",
            "  gt_tensor = torch.unsqueeze(torch.tensor(gt_tensor, dtype=torch.float32),0)\n",
            "/content/DIS/IS-Net/data_loader_cache.py:131: UserWarning: `nn.functional.upsample` is deprecated. Use `nn.functional.interpolate` instead.\n",
            "  gt_tensor = F.upsample(gt_tensor, size, mode=\"bilinear\")\n",
            "  1%|▏         | 39/3000 [00:01<01:55, 25.63it/s]/content/DIS/IS-Net/data_loader_cache.py:116: UserWarning: `nn.functional.upsample` is deprecated. Use `nn.functional.interpolate` instead.\n",
            "  im_tensor = F.upsample(im_tensor, size, mode=\"bilinear\")\n",
            "/content/DIS/IS-Net/data_loader_cache.py:130: UserWarning: To copy construct from a tensor, it is recommended to use sourceTensor.clone().detach() or sourceTensor.clone().detach().requires_grad_(True), rather than torch.tensor(sourceTensor).\n",
            "  gt_tensor = torch.unsqueeze(torch.tensor(gt_tensor, dtype=torch.float32),0)\n",
            "/content/DIS/IS-Net/data_loader_cache.py:131: UserWarning: `nn.functional.upsample` is deprecated. Use `nn.functional.interpolate` instead.\n",
            "  gt_tensor = F.upsample(gt_tensor, size, mode=\"bilinear\")\n",
            "/content/DIS/IS-Net/data_loader_cache.py:116: UserWarning: `nn.functional.upsample` is deprecated. Use `nn.functional.interpolate` instead.\n",
            "  im_tensor = F.upsample(im_tensor, size, mode=\"bilinear\")\n",
            "/content/DIS/IS-Net/data_loader_cache.py:130: UserWarning: To copy construct from a tensor, it is recommended to use sourceTensor.clone().detach() or sourceTensor.clone().detach().requires_grad_(True), rather than torch.tensor(sourceTensor).\n",
            "  gt_tensor = torch.unsqueeze(torch.tensor(gt_tensor, dtype=torch.float32),0)\n",
            "/content/DIS/IS-Net/data_loader_cache.py:131: UserWarning: `nn.functional.upsample` is deprecated. Use `nn.functional.interpolate` instead.\n",
            "  gt_tensor = F.upsample(gt_tensor, size, mode=\"bilinear\")\n",
            "/content/DIS/IS-Net/data_loader_cache.py:116: UserWarning: `nn.functional.upsample` is deprecated. Use `nn.functional.interpolate` instead.\n",
            "  im_tensor = F.upsample(im_tensor, size, mode=\"bilinear\")\n",
            "/content/DIS/IS-Net/data_loader_cache.py:130: UserWarning: To copy construct from a tensor, it is recommended to use sourceTensor.clone().detach() or sourceTensor.clone().detach().requires_grad_(True), rather than torch.tensor(sourceTensor).\n",
            "  gt_tensor = torch.unsqueeze(torch.tensor(gt_tensor, dtype=torch.float32),0)\n",
            "/content/DIS/IS-Net/data_loader_cache.py:131: UserWarning: `nn.functional.upsample` is deprecated. Use `nn.functional.interpolate` instead.\n",
            "  gt_tensor = F.upsample(gt_tensor, size, mode=\"bilinear\")\n",
            "  1%|▏         | 42/3000 [00:01<01:57, 25.17it/s]"
          ]
        },
        {
          "output_type": "stream",
          "name": "stdout",
          "text": [
            "im_path:  ../DIS5K/DIS-TR/im/16#Music Instrument#5#Trombone#8683266282_e87679334e_o.jpg\n",
            "im_path:  ../DIS5K/DIS-TR/im/6#Automobile#2#CableLift#8433581680_6871456438_o.jpg\n",
            "im_path:  ../DIS5K/DIS-TR/im/5#Artifact#2#Cage#4748284215_11a5111ef7_o.jpg\n",
            "im_path:  ../DIS5K/DIS-TR/im/21#Tool#6#Key#3609420952_9a6e0a8ef5_o.jpg\n",
            "im_path:  ../DIS5K/DIS-TR/im/11#Furniture#9#Easel#4685763394_99cf1ef51d_o.jpg\n",
            "im_path:  ../DIS5K/DIS-TR/im/6#Automobile#12#Truck#482047066_8e2cf30469_o.jpg\n"
          ]
        },
        {
          "output_type": "stream",
          "name": "stderr",
          "text": [
            "/content/DIS/IS-Net/data_loader_cache.py:116: UserWarning: `nn.functional.upsample` is deprecated. Use `nn.functional.interpolate` instead.\n",
            "  im_tensor = F.upsample(im_tensor, size, mode=\"bilinear\")\n",
            "/content/DIS/IS-Net/data_loader_cache.py:130: UserWarning: To copy construct from a tensor, it is recommended to use sourceTensor.clone().detach() or sourceTensor.clone().detach().requires_grad_(True), rather than torch.tensor(sourceTensor).\n",
            "  gt_tensor = torch.unsqueeze(torch.tensor(gt_tensor, dtype=torch.float32),0)\n",
            "/content/DIS/IS-Net/data_loader_cache.py:131: UserWarning: `nn.functional.upsample` is deprecated. Use `nn.functional.interpolate` instead.\n",
            "  gt_tensor = F.upsample(gt_tensor, size, mode=\"bilinear\")\n",
            "/content/DIS/IS-Net/data_loader_cache.py:116: UserWarning: `nn.functional.upsample` is deprecated. Use `nn.functional.interpolate` instead.\n",
            "  im_tensor = F.upsample(im_tensor, size, mode=\"bilinear\")\n",
            "/content/DIS/IS-Net/data_loader_cache.py:130: UserWarning: To copy construct from a tensor, it is recommended to use sourceTensor.clone().detach() or sourceTensor.clone().detach().requires_grad_(True), rather than torch.tensor(sourceTensor).\n",
            "  gt_tensor = torch.unsqueeze(torch.tensor(gt_tensor, dtype=torch.float32),0)\n",
            "/content/DIS/IS-Net/data_loader_cache.py:131: UserWarning: `nn.functional.upsample` is deprecated. Use `nn.functional.interpolate` instead.\n",
            "  gt_tensor = F.upsample(gt_tensor, size, mode=\"bilinear\")\n",
            "/content/DIS/IS-Net/data_loader_cache.py:116: UserWarning: `nn.functional.upsample` is deprecated. Use `nn.functional.interpolate` instead.\n",
            "  im_tensor = F.upsample(im_tensor, size, mode=\"bilinear\")\n",
            "/content/DIS/IS-Net/data_loader_cache.py:130: UserWarning: To copy construct from a tensor, it is recommended to use sourceTensor.clone().detach() or sourceTensor.clone().detach().requires_grad_(True), rather than torch.tensor(sourceTensor).\n",
            "  gt_tensor = torch.unsqueeze(torch.tensor(gt_tensor, dtype=torch.float32),0)\n",
            "/content/DIS/IS-Net/data_loader_cache.py:131: UserWarning: `nn.functional.upsample` is deprecated. Use `nn.functional.interpolate` instead.\n",
            "  gt_tensor = F.upsample(gt_tensor, size, mode=\"bilinear\")\n",
            "  2%|▏         | 45/3000 [00:01<01:59, 24.63it/s]/content/DIS/IS-Net/data_loader_cache.py:116: UserWarning: `nn.functional.upsample` is deprecated. Use `nn.functional.interpolate` instead.\n",
            "  im_tensor = F.upsample(im_tensor, size, mode=\"bilinear\")\n",
            "/content/DIS/IS-Net/data_loader_cache.py:130: UserWarning: To copy construct from a tensor, it is recommended to use sourceTensor.clone().detach() or sourceTensor.clone().detach().requires_grad_(True), rather than torch.tensor(sourceTensor).\n",
            "  gt_tensor = torch.unsqueeze(torch.tensor(gt_tensor, dtype=torch.float32),0)\n",
            "/content/DIS/IS-Net/data_loader_cache.py:131: UserWarning: `nn.functional.upsample` is deprecated. Use `nn.functional.interpolate` instead.\n",
            "  gt_tensor = F.upsample(gt_tensor, size, mode=\"bilinear\")\n",
            "/content/DIS/IS-Net/data_loader_cache.py:116: UserWarning: `nn.functional.upsample` is deprecated. Use `nn.functional.interpolate` instead.\n",
            "  im_tensor = F.upsample(im_tensor, size, mode=\"bilinear\")\n",
            "/content/DIS/IS-Net/data_loader_cache.py:130: UserWarning: To copy construct from a tensor, it is recommended to use sourceTensor.clone().detach() or sourceTensor.clone().detach().requires_grad_(True), rather than torch.tensor(sourceTensor).\n",
            "  gt_tensor = torch.unsqueeze(torch.tensor(gt_tensor, dtype=torch.float32),0)\n",
            "/content/DIS/IS-Net/data_loader_cache.py:131: UserWarning: `nn.functional.upsample` is deprecated. Use `nn.functional.interpolate` instead.\n",
            "  gt_tensor = F.upsample(gt_tensor, size, mode=\"bilinear\")\n",
            "/content/DIS/IS-Net/data_loader_cache.py:116: UserWarning: `nn.functional.upsample` is deprecated. Use `nn.functional.interpolate` instead.\n",
            "  im_tensor = F.upsample(im_tensor, size, mode=\"bilinear\")\n"
          ]
        },
        {
          "output_type": "stream",
          "name": "stdout",
          "text": [
            "im_path:  ../DIS5K/DIS-TR/im/21#Tool#4#Flag#40621847721_346eac5631_o.jpg\n",
            "im_path:  ../DIS5K/DIS-TR/im/2#Aircraft#6#Parachute#3416800781_5dcfe598df_o.jpg\n",
            "im_path:  ../DIS5K/DIS-TR/im/1#Accessories#5#Jewelry#13909132974_c4750c5fb7_o.jpg\n",
            "im_path:  ../DIS5K/DIS-TR/im/4#Architecture#18#WindTurbine#3457599127_001e38ec0f_o.jpg\n",
            "im_path:  ../DIS5K/DIS-TR/im/4#Architecture#14#Stair#186176751_d76bdfcbb2_o.jpg\n"
          ]
        },
        {
          "output_type": "stream",
          "name": "stderr",
          "text": [
            "/content/DIS/IS-Net/data_loader_cache.py:130: UserWarning: To copy construct from a tensor, it is recommended to use sourceTensor.clone().detach() or sourceTensor.clone().detach().requires_grad_(True), rather than torch.tensor(sourceTensor).\n",
            "  gt_tensor = torch.unsqueeze(torch.tensor(gt_tensor, dtype=torch.float32),0)\n",
            "/content/DIS/IS-Net/data_loader_cache.py:131: UserWarning: `nn.functional.upsample` is deprecated. Use `nn.functional.interpolate` instead.\n",
            "  gt_tensor = F.upsample(gt_tensor, size, mode=\"bilinear\")\n",
            "\r  2%|▏         | 48/3000 [00:01<02:02, 24.19it/s]/content/DIS/IS-Net/data_loader_cache.py:116: UserWarning: `nn.functional.upsample` is deprecated. Use `nn.functional.interpolate` instead.\n",
            "  im_tensor = F.upsample(im_tensor, size, mode=\"bilinear\")\n",
            "/content/DIS/IS-Net/data_loader_cache.py:130: UserWarning: To copy construct from a tensor, it is recommended to use sourceTensor.clone().detach() or sourceTensor.clone().detach().requires_grad_(True), rather than torch.tensor(sourceTensor).\n",
            "  gt_tensor = torch.unsqueeze(torch.tensor(gt_tensor, dtype=torch.float32),0)\n",
            "/content/DIS/IS-Net/data_loader_cache.py:131: UserWarning: `nn.functional.upsample` is deprecated. Use `nn.functional.interpolate` instead.\n",
            "  gt_tensor = F.upsample(gt_tensor, size, mode=\"bilinear\")\n",
            "/content/DIS/IS-Net/data_loader_cache.py:116: UserWarning: `nn.functional.upsample` is deprecated. Use `nn.functional.interpolate` instead.\n",
            "  im_tensor = F.upsample(im_tensor, size, mode=\"bilinear\")\n",
            "/content/DIS/IS-Net/data_loader_cache.py:130: UserWarning: To copy construct from a tensor, it is recommended to use sourceTensor.clone().detach() or sourceTensor.clone().detach().requires_grad_(True), rather than torch.tensor(sourceTensor).\n",
            "  gt_tensor = torch.unsqueeze(torch.tensor(gt_tensor, dtype=torch.float32),0)\n",
            "/content/DIS/IS-Net/data_loader_cache.py:131: UserWarning: `nn.functional.upsample` is deprecated. Use `nn.functional.interpolate` instead.\n",
            "  gt_tensor = F.upsample(gt_tensor, size, mode=\"bilinear\")\n",
            "/content/DIS/IS-Net/data_loader_cache.py:116: UserWarning: `nn.functional.upsample` is deprecated. Use `nn.functional.interpolate` instead.\n",
            "  im_tensor = F.upsample(im_tensor, size, mode=\"bilinear\")\n",
            "/content/DIS/IS-Net/data_loader_cache.py:130: UserWarning: To copy construct from a tensor, it is recommended to use sourceTensor.clone().detach() or sourceTensor.clone().detach().requires_grad_(True), rather than torch.tensor(sourceTensor).\n",
            "  gt_tensor = torch.unsqueeze(torch.tensor(gt_tensor, dtype=torch.float32),0)\n",
            "/content/DIS/IS-Net/data_loader_cache.py:131: UserWarning: `nn.functional.upsample` is deprecated. Use `nn.functional.interpolate` instead.\n",
            "  gt_tensor = F.upsample(gt_tensor, size, mode=\"bilinear\")\n",
            "  2%|▏         | 51/3000 [00:02<02:04, 23.78it/s]/content/DIS/IS-Net/data_loader_cache.py:116: UserWarning: `nn.functional.upsample` is deprecated. Use `nn.functional.interpolate` instead.\n",
            "  im_tensor = F.upsample(im_tensor, size, mode=\"bilinear\")\n",
            "/content/DIS/IS-Net/data_loader_cache.py:130: UserWarning: To copy construct from a tensor, it is recommended to use sourceTensor.clone().detach() or sourceTensor.clone().detach().requires_grad_(True), rather than torch.tensor(sourceTensor).\n",
            "  gt_tensor = torch.unsqueeze(torch.tensor(gt_tensor, dtype=torch.float32),0)\n",
            "/content/DIS/IS-Net/data_loader_cache.py:131: UserWarning: `nn.functional.upsample` is deprecated. Use `nn.functional.interpolate` instead.\n",
            "  gt_tensor = F.upsample(gt_tensor, size, mode=\"bilinear\")\n",
            "/content/DIS/IS-Net/data_loader_cache.py:116: UserWarning: `nn.functional.upsample` is deprecated. Use `nn.functional.interpolate` instead.\n",
            "  im_tensor = F.upsample(im_tensor, size, mode=\"bilinear\")\n"
          ]
        },
        {
          "output_type": "stream",
          "name": "stdout",
          "text": [
            "im_path:  ../DIS5K/DIS-TR/im/11#Furniture#8#DeskChair#2866336565_55ac19904c_o.jpg\n",
            "im_path:  ../DIS5K/DIS-TR/im/7#Electrical#6#StreetLamp#7493050332_1ff4bc5477_o.jpg\n",
            "im_path:  ../DIS5K/DIS-TR/im/4#Architecture#10#Pavilion#18144289146_085df74ace_o.jpg\n",
            "im_path:  ../DIS5K/DIS-TR/im/4#Architecture#13#Sculpture#3458235812_6e51f8af69_o.jpg\n",
            "im_path:  ../DIS5K/DIS-TR/im/17#Non-motor Vehicle#12#Wheel#8361973141_b8d1af0ed9_o.jpg\n"
          ]
        },
        {
          "output_type": "stream",
          "name": "stderr",
          "text": [
            "/content/DIS/IS-Net/data_loader_cache.py:130: UserWarning: To copy construct from a tensor, it is recommended to use sourceTensor.clone().detach() or sourceTensor.clone().detach().requires_grad_(True), rather than torch.tensor(sourceTensor).\n",
            "  gt_tensor = torch.unsqueeze(torch.tensor(gt_tensor, dtype=torch.float32),0)\n",
            "/content/DIS/IS-Net/data_loader_cache.py:131: UserWarning: `nn.functional.upsample` is deprecated. Use `nn.functional.interpolate` instead.\n",
            "  gt_tensor = F.upsample(gt_tensor, size, mode=\"bilinear\")\n",
            "/content/DIS/IS-Net/data_loader_cache.py:116: UserWarning: `nn.functional.upsample` is deprecated. Use `nn.functional.interpolate` instead.\n",
            "  im_tensor = F.upsample(im_tensor, size, mode=\"bilinear\")\n",
            "/content/DIS/IS-Net/data_loader_cache.py:130: UserWarning: To copy construct from a tensor, it is recommended to use sourceTensor.clone().detach() or sourceTensor.clone().detach().requires_grad_(True), rather than torch.tensor(sourceTensor).\n",
            "  gt_tensor = torch.unsqueeze(torch.tensor(gt_tensor, dtype=torch.float32),0)\n",
            "/content/DIS/IS-Net/data_loader_cache.py:131: UserWarning: `nn.functional.upsample` is deprecated. Use `nn.functional.interpolate` instead.\n",
            "  gt_tensor = F.upsample(gt_tensor, size, mode=\"bilinear\")\n",
            "  2%|▏         | 54/3000 [00:02<02:05, 23.39it/s]/content/DIS/IS-Net/data_loader_cache.py:116: UserWarning: `nn.functional.upsample` is deprecated. Use `nn.functional.interpolate` instead.\n",
            "  im_tensor = F.upsample(im_tensor, size, mode=\"bilinear\")\n",
            "/content/DIS/IS-Net/data_loader_cache.py:130: UserWarning: To copy construct from a tensor, it is recommended to use sourceTensor.clone().detach() or sourceTensor.clone().detach().requires_grad_(True), rather than torch.tensor(sourceTensor).\n",
            "  gt_tensor = torch.unsqueeze(torch.tensor(gt_tensor, dtype=torch.float32),0)\n",
            "/content/DIS/IS-Net/data_loader_cache.py:131: UserWarning: `nn.functional.upsample` is deprecated. Use `nn.functional.interpolate` instead.\n",
            "  gt_tensor = F.upsample(gt_tensor, size, mode=\"bilinear\")\n",
            "/content/DIS/IS-Net/data_loader_cache.py:116: UserWarning: `nn.functional.upsample` is deprecated. Use `nn.functional.interpolate` instead.\n",
            "  im_tensor = F.upsample(im_tensor, size, mode=\"bilinear\")\n",
            "/content/DIS/IS-Net/data_loader_cache.py:130: UserWarning: To copy construct from a tensor, it is recommended to use sourceTensor.clone().detach() or sourceTensor.clone().detach().requires_grad_(True), rather than torch.tensor(sourceTensor).\n",
            "  gt_tensor = torch.unsqueeze(torch.tensor(gt_tensor, dtype=torch.float32),0)\n",
            "/content/DIS/IS-Net/data_loader_cache.py:131: UserWarning: `nn.functional.upsample` is deprecated. Use `nn.functional.interpolate` instead.\n",
            "  gt_tensor = F.upsample(gt_tensor, size, mode=\"bilinear\")\n",
            "/content/DIS/IS-Net/data_loader_cache.py:116: UserWarning: `nn.functional.upsample` is deprecated. Use `nn.functional.interpolate` instead.\n",
            "  im_tensor = F.upsample(im_tensor, size, mode=\"bilinear\")\n",
            "/content/DIS/IS-Net/data_loader_cache.py:130: UserWarning: To copy construct from a tensor, it is recommended to use sourceTensor.clone().detach() or sourceTensor.clone().detach().requires_grad_(True), rather than torch.tensor(sourceTensor).\n",
            "  gt_tensor = torch.unsqueeze(torch.tensor(gt_tensor, dtype=torch.float32),0)\n",
            "/content/DIS/IS-Net/data_loader_cache.py:131: UserWarning: `nn.functional.upsample` is deprecated. Use `nn.functional.interpolate` instead.\n",
            "  gt_tensor = F.upsample(gt_tensor, size, mode=\"bilinear\")\n",
            "  2%|▏         | 57/3000 [00:02<02:06, 23.23it/s]/content/DIS/IS-Net/data_loader_cache.py:116: UserWarning: `nn.functional.upsample` is deprecated. Use `nn.functional.interpolate` instead.\n",
            "  im_tensor = F.upsample(im_tensor, size, mode=\"bilinear\")\n"
          ]
        },
        {
          "output_type": "stream",
          "name": "stdout",
          "text": [
            "im_path:  ../DIS5K/DIS-TR/im/11#Furniture#10#Hammock#4680448130_d907e4bdcb_o.jpg\n",
            "im_path:  ../DIS5K/DIS-TR/im/20#Sports#2#Fencing#3126747094_137489c104_o.jpg\n",
            "im_path:  ../DIS5K/DIS-TR/im/11#Furniture#18#TableChair#3891751340_dafe44c55f_o.jpg\n",
            "im_path:  ../DIS5K/DIS-TR/im/4#Architecture#10#Pavilion#16584479409_1884fe1ec9_o.jpg\n",
            "im_path:  ../DIS5K/DIS-TR/im/11#Furniture#2#Bench#27512633954_a944f1cdcf_o.jpg\n"
          ]
        },
        {
          "output_type": "stream",
          "name": "stderr",
          "text": [
            "/content/DIS/IS-Net/data_loader_cache.py:130: UserWarning: To copy construct from a tensor, it is recommended to use sourceTensor.clone().detach() or sourceTensor.clone().detach().requires_grad_(True), rather than torch.tensor(sourceTensor).\n",
            "  gt_tensor = torch.unsqueeze(torch.tensor(gt_tensor, dtype=torch.float32),0)\n",
            "/content/DIS/IS-Net/data_loader_cache.py:131: UserWarning: `nn.functional.upsample` is deprecated. Use `nn.functional.interpolate` instead.\n",
            "  gt_tensor = F.upsample(gt_tensor, size, mode=\"bilinear\")\n",
            "/content/DIS/IS-Net/data_loader_cache.py:116: UserWarning: `nn.functional.upsample` is deprecated. Use `nn.functional.interpolate` instead.\n",
            "  im_tensor = F.upsample(im_tensor, size, mode=\"bilinear\")\n",
            "/content/DIS/IS-Net/data_loader_cache.py:130: UserWarning: To copy construct from a tensor, it is recommended to use sourceTensor.clone().detach() or sourceTensor.clone().detach().requires_grad_(True), rather than torch.tensor(sourceTensor).\n",
            "  gt_tensor = torch.unsqueeze(torch.tensor(gt_tensor, dtype=torch.float32),0)\n",
            "/content/DIS/IS-Net/data_loader_cache.py:131: UserWarning: `nn.functional.upsample` is deprecated. Use `nn.functional.interpolate` instead.\n",
            "  gt_tensor = F.upsample(gt_tensor, size, mode=\"bilinear\")\n",
            "/content/DIS/IS-Net/data_loader_cache.py:116: UserWarning: `nn.functional.upsample` is deprecated. Use `nn.functional.interpolate` instead.\n",
            "  im_tensor = F.upsample(im_tensor, size, mode=\"bilinear\")\n",
            "/content/DIS/IS-Net/data_loader_cache.py:130: UserWarning: To copy construct from a tensor, it is recommended to use sourceTensor.clone().detach() or sourceTensor.clone().detach().requires_grad_(True), rather than torch.tensor(sourceTensor).\n",
            "  gt_tensor = torch.unsqueeze(torch.tensor(gt_tensor, dtype=torch.float32),0)\n",
            "/content/DIS/IS-Net/data_loader_cache.py:131: UserWarning: `nn.functional.upsample` is deprecated. Use `nn.functional.interpolate` instead.\n",
            "  gt_tensor = F.upsample(gt_tensor, size, mode=\"bilinear\")\n",
            "  2%|▏         | 60/3000 [00:02<02:07, 23.15it/s]/content/DIS/IS-Net/data_loader_cache.py:116: UserWarning: `nn.functional.upsample` is deprecated. Use `nn.functional.interpolate` instead.\n",
            "  im_tensor = F.upsample(im_tensor, size, mode=\"bilinear\")\n",
            "/content/DIS/IS-Net/data_loader_cache.py:130: UserWarning: To copy construct from a tensor, it is recommended to use sourceTensor.clone().detach() or sourceTensor.clone().detach().requires_grad_(True), rather than torch.tensor(sourceTensor).\n",
            "  gt_tensor = torch.unsqueeze(torch.tensor(gt_tensor, dtype=torch.float32),0)\n",
            "/content/DIS/IS-Net/data_loader_cache.py:131: UserWarning: `nn.functional.upsample` is deprecated. Use `nn.functional.interpolate` instead.\n",
            "  gt_tensor = F.upsample(gt_tensor, size, mode=\"bilinear\")\n",
            "/content/DIS/IS-Net/data_loader_cache.py:116: UserWarning: `nn.functional.upsample` is deprecated. Use `nn.functional.interpolate` instead.\n",
            "  im_tensor = F.upsample(im_tensor, size, mode=\"bilinear\")\n",
            "/content/DIS/IS-Net/data_loader_cache.py:130: UserWarning: To copy construct from a tensor, it is recommended to use sourceTensor.clone().detach() or sourceTensor.clone().detach().requires_grad_(True), rather than torch.tensor(sourceTensor).\n",
            "  gt_tensor = torch.unsqueeze(torch.tensor(gt_tensor, dtype=torch.float32),0)\n",
            "/content/DIS/IS-Net/data_loader_cache.py:131: UserWarning: `nn.functional.upsample` is deprecated. Use `nn.functional.interpolate` instead.\n",
            "  gt_tensor = F.upsample(gt_tensor, size, mode=\"bilinear\")\n",
            "/content/DIS/IS-Net/data_loader_cache.py:116: UserWarning: `nn.functional.upsample` is deprecated. Use `nn.functional.interpolate` instead.\n",
            "  im_tensor = F.upsample(im_tensor, size, mode=\"bilinear\")\n",
            "/content/DIS/IS-Net/data_loader_cache.py:130: UserWarning: To copy construct from a tensor, it is recommended to use sourceTensor.clone().detach() or sourceTensor.clone().detach().requires_grad_(True), rather than torch.tensor(sourceTensor).\n",
            "  gt_tensor = torch.unsqueeze(torch.tensor(gt_tensor, dtype=torch.float32),0)\n",
            "/content/DIS/IS-Net/data_loader_cache.py:131: UserWarning: `nn.functional.upsample` is deprecated. Use `nn.functional.interpolate` instead.\n",
            "  gt_tensor = F.upsample(gt_tensor, size, mode=\"bilinear\")\n",
            "  2%|▏         | 63/3000 [00:02<02:02, 24.04it/s]"
          ]
        },
        {
          "output_type": "stream",
          "name": "stdout",
          "text": [
            "im_path:  ../DIS5K/DIS-TR/im/21#Tool#1#Axe#30065375534_2427fce734_o.jpg\n",
            "im_path:  ../DIS5K/DIS-TR/im/13#Insect#7#Dragonfly#37199675220_94eb437123_o.jpg\n",
            "im_path:  ../DIS5K/DIS-TR/im/2#Aircraft#5#Kite#30415945458_74398ecd5a_o.jpg\n",
            "im_path:  ../DIS5K/DIS-TR/im/10#Frame#5#Rack#168925734_26706cef31_o.jpg\n",
            "im_path:  ../DIS5K/DIS-TR/im/5#Artifact#4#Medal#22058383794_e02f8abd6b_o.jpg\n",
            "im_path:  ../DIS5K/DIS-TR/im/4#Architecture#9#OilWell#50110388062_43970672b7_o.jpg\n"
          ]
        },
        {
          "output_type": "stream",
          "name": "stderr",
          "text": [
            "/content/DIS/IS-Net/data_loader_cache.py:116: UserWarning: `nn.functional.upsample` is deprecated. Use `nn.functional.interpolate` instead.\n",
            "  im_tensor = F.upsample(im_tensor, size, mode=\"bilinear\")\n",
            "/content/DIS/IS-Net/data_loader_cache.py:130: UserWarning: To copy construct from a tensor, it is recommended to use sourceTensor.clone().detach() or sourceTensor.clone().detach().requires_grad_(True), rather than torch.tensor(sourceTensor).\n",
            "  gt_tensor = torch.unsqueeze(torch.tensor(gt_tensor, dtype=torch.float32),0)\n",
            "/content/DIS/IS-Net/data_loader_cache.py:131: UserWarning: `nn.functional.upsample` is deprecated. Use `nn.functional.interpolate` instead.\n",
            "  gt_tensor = F.upsample(gt_tensor, size, mode=\"bilinear\")\n",
            "/content/DIS/IS-Net/data_loader_cache.py:116: UserWarning: `nn.functional.upsample` is deprecated. Use `nn.functional.interpolate` instead.\n",
            "  im_tensor = F.upsample(im_tensor, size, mode=\"bilinear\")\n",
            "/content/DIS/IS-Net/data_loader_cache.py:130: UserWarning: To copy construct from a tensor, it is recommended to use sourceTensor.clone().detach() or sourceTensor.clone().detach().requires_grad_(True), rather than torch.tensor(sourceTensor).\n",
            "  gt_tensor = torch.unsqueeze(torch.tensor(gt_tensor, dtype=torch.float32),0)\n",
            "/content/DIS/IS-Net/data_loader_cache.py:131: UserWarning: `nn.functional.upsample` is deprecated. Use `nn.functional.interpolate` instead.\n",
            "  gt_tensor = F.upsample(gt_tensor, size, mode=\"bilinear\")\n",
            "/content/DIS/IS-Net/data_loader_cache.py:116: UserWarning: `nn.functional.upsample` is deprecated. Use `nn.functional.interpolate` instead.\n",
            "  im_tensor = F.upsample(im_tensor, size, mode=\"bilinear\")\n",
            "/content/DIS/IS-Net/data_loader_cache.py:130: UserWarning: To copy construct from a tensor, it is recommended to use sourceTensor.clone().detach() or sourceTensor.clone().detach().requires_grad_(True), rather than torch.tensor(sourceTensor).\n",
            "  gt_tensor = torch.unsqueeze(torch.tensor(gt_tensor, dtype=torch.float32),0)\n",
            "/content/DIS/IS-Net/data_loader_cache.py:131: UserWarning: `nn.functional.upsample` is deprecated. Use `nn.functional.interpolate` instead.\n",
            "  gt_tensor = F.upsample(gt_tensor, size, mode=\"bilinear\")\n",
            "  2%|▏         | 66/3000 [00:02<02:02, 23.96it/s]/content/DIS/IS-Net/data_loader_cache.py:116: UserWarning: `nn.functional.upsample` is deprecated. Use `nn.functional.interpolate` instead.\n",
            "  im_tensor = F.upsample(im_tensor, size, mode=\"bilinear\")\n",
            "/content/DIS/IS-Net/data_loader_cache.py:130: UserWarning: To copy construct from a tensor, it is recommended to use sourceTensor.clone().detach() or sourceTensor.clone().detach().requires_grad_(True), rather than torch.tensor(sourceTensor).\n",
            "  gt_tensor = torch.unsqueeze(torch.tensor(gt_tensor, dtype=torch.float32),0)\n",
            "/content/DIS/IS-Net/data_loader_cache.py:131: UserWarning: `nn.functional.upsample` is deprecated. Use `nn.functional.interpolate` instead.\n",
            "  gt_tensor = F.upsample(gt_tensor, size, mode=\"bilinear\")\n",
            "/content/DIS/IS-Net/data_loader_cache.py:116: UserWarning: `nn.functional.upsample` is deprecated. Use `nn.functional.interpolate` instead.\n",
            "  im_tensor = F.upsample(im_tensor, size, mode=\"bilinear\")\n",
            "/content/DIS/IS-Net/data_loader_cache.py:130: UserWarning: To copy construct from a tensor, it is recommended to use sourceTensor.clone().detach() or sourceTensor.clone().detach().requires_grad_(True), rather than torch.tensor(sourceTensor).\n",
            "  gt_tensor = torch.unsqueeze(torch.tensor(gt_tensor, dtype=torch.float32),0)\n",
            "/content/DIS/IS-Net/data_loader_cache.py:131: UserWarning: `nn.functional.upsample` is deprecated. Use `nn.functional.interpolate` instead.\n",
            "  gt_tensor = F.upsample(gt_tensor, size, mode=\"bilinear\")\n",
            "/content/DIS/IS-Net/data_loader_cache.py:116: UserWarning: `nn.functional.upsample` is deprecated. Use `nn.functional.interpolate` instead.\n",
            "  im_tensor = F.upsample(im_tensor, size, mode=\"bilinear\")\n"
          ]
        },
        {
          "output_type": "stream",
          "name": "stdout",
          "text": [
            "im_path:  ../DIS5K/DIS-TR/im/4#Architecture#6#Gate#11019669095_4f63be3992_o.jpg\n",
            "im_path:  ../DIS5K/DIS-TR/im/4#Architecture#5#GasStation#7862311726_38fde6a5d4_o.jpg\n",
            "im_path:  ../DIS5K/DIS-TR/im/4#Architecture#10#Pavilion#14486826821_18020eb540_o.jpg\n",
            "im_path:  ../DIS5K/DIS-TR/im/7#Electrical#10#UtilityPole#48668753861_ed0bc61b60_o.jpg\n",
            "im_path:  ../DIS5K/DIS-TR/im/21#Tool#16#Telescope#8688192758_f74e951575_o.jpg\n"
          ]
        },
        {
          "output_type": "stream",
          "name": "stderr",
          "text": [
            "/content/DIS/IS-Net/data_loader_cache.py:130: UserWarning: To copy construct from a tensor, it is recommended to use sourceTensor.clone().detach() or sourceTensor.clone().detach().requires_grad_(True), rather than torch.tensor(sourceTensor).\n",
            "  gt_tensor = torch.unsqueeze(torch.tensor(gt_tensor, dtype=torch.float32),0)\n",
            "/content/DIS/IS-Net/data_loader_cache.py:131: UserWarning: `nn.functional.upsample` is deprecated. Use `nn.functional.interpolate` instead.\n",
            "  gt_tensor = F.upsample(gt_tensor, size, mode=\"bilinear\")\n",
            "  2%|▏         | 69/3000 [00:02<02:04, 23.50it/s]/content/DIS/IS-Net/data_loader_cache.py:116: UserWarning: `nn.functional.upsample` is deprecated. Use `nn.functional.interpolate` instead.\n",
            "  im_tensor = F.upsample(im_tensor, size, mode=\"bilinear\")\n",
            "/content/DIS/IS-Net/data_loader_cache.py:130: UserWarning: To copy construct from a tensor, it is recommended to use sourceTensor.clone().detach() or sourceTensor.clone().detach().requires_grad_(True), rather than torch.tensor(sourceTensor).\n",
            "  gt_tensor = torch.unsqueeze(torch.tensor(gt_tensor, dtype=torch.float32),0)\n",
            "/content/DIS/IS-Net/data_loader_cache.py:131: UserWarning: `nn.functional.upsample` is deprecated. Use `nn.functional.interpolate` instead.\n",
            "  gt_tensor = F.upsample(gt_tensor, size, mode=\"bilinear\")\n",
            "/content/DIS/IS-Net/data_loader_cache.py:116: UserWarning: `nn.functional.upsample` is deprecated. Use `nn.functional.interpolate` instead.\n",
            "  im_tensor = F.upsample(im_tensor, size, mode=\"bilinear\")\n",
            "/content/DIS/IS-Net/data_loader_cache.py:130: UserWarning: To copy construct from a tensor, it is recommended to use sourceTensor.clone().detach() or sourceTensor.clone().detach().requires_grad_(True), rather than torch.tensor(sourceTensor).\n",
            "  gt_tensor = torch.unsqueeze(torch.tensor(gt_tensor, dtype=torch.float32),0)\n",
            "/content/DIS/IS-Net/data_loader_cache.py:131: UserWarning: `nn.functional.upsample` is deprecated. Use `nn.functional.interpolate` instead.\n",
            "  gt_tensor = F.upsample(gt_tensor, size, mode=\"bilinear\")\n",
            "/content/DIS/IS-Net/data_loader_cache.py:116: UserWarning: `nn.functional.upsample` is deprecated. Use `nn.functional.interpolate` instead.\n",
            "  im_tensor = F.upsample(im_tensor, size, mode=\"bilinear\")\n",
            "/content/DIS/IS-Net/data_loader_cache.py:130: UserWarning: To copy construct from a tensor, it is recommended to use sourceTensor.clone().detach() or sourceTensor.clone().detach().requires_grad_(True), rather than torch.tensor(sourceTensor).\n",
            "  gt_tensor = torch.unsqueeze(torch.tensor(gt_tensor, dtype=torch.float32),0)\n",
            "/content/DIS/IS-Net/data_loader_cache.py:131: UserWarning: `nn.functional.upsample` is deprecated. Use `nn.functional.interpolate` instead.\n",
            "  gt_tensor = F.upsample(gt_tensor, size, mode=\"bilinear\")\n",
            "  2%|▏         | 72/3000 [00:03<02:04, 23.60it/s]/content/DIS/IS-Net/data_loader_cache.py:116: UserWarning: `nn.functional.upsample` is deprecated. Use `nn.functional.interpolate` instead.\n",
            "  im_tensor = F.upsample(im_tensor, size, mode=\"bilinear\")\n",
            "/content/DIS/IS-Net/data_loader_cache.py:130: UserWarning: To copy construct from a tensor, it is recommended to use sourceTensor.clone().detach() or sourceTensor.clone().detach().requires_grad_(True), rather than torch.tensor(sourceTensor).\n",
            "  gt_tensor = torch.unsqueeze(torch.tensor(gt_tensor, dtype=torch.float32),0)\n",
            "/content/DIS/IS-Net/data_loader_cache.py:131: UserWarning: `nn.functional.upsample` is deprecated. Use `nn.functional.interpolate` instead.\n",
            "  gt_tensor = F.upsample(gt_tensor, size, mode=\"bilinear\")\n",
            "/content/DIS/IS-Net/data_loader_cache.py:116: UserWarning: `nn.functional.upsample` is deprecated. Use `nn.functional.interpolate` instead.\n",
            "  im_tensor = F.upsample(im_tensor, size, mode=\"bilinear\")\n"
          ]
        },
        {
          "output_type": "stream",
          "name": "stdout",
          "text": [
            "im_path:  ../DIS5K/DIS-TR/im/20#Sports#1#Archery#8145796453_a378da38b1_o.jpg\n",
            "im_path:  ../DIS5K/DIS-TR/im/14#Kitchenware#1#Cup#IMG_20210527_200522.jpg\n",
            "im_path:  ../DIS5K/DIS-TR/im/16#Music Instrument#4#Piano#4740647132_477d8a99a5_o.jpg\n",
            "im_path:  ../DIS5K/DIS-TR/im/16#Music Instrument#1#Drum#2302843926_8696f43145_o.jpg\n",
            "im_path:  ../DIS5K/DIS-TR/im/11#Furniture#8#DeskChair#29322324793_6437aea023_o.jpg\n"
          ]
        },
        {
          "output_type": "stream",
          "name": "stderr",
          "text": [
            "/content/DIS/IS-Net/data_loader_cache.py:130: UserWarning: To copy construct from a tensor, it is recommended to use sourceTensor.clone().detach() or sourceTensor.clone().detach().requires_grad_(True), rather than torch.tensor(sourceTensor).\n",
            "  gt_tensor = torch.unsqueeze(torch.tensor(gt_tensor, dtype=torch.float32),0)\n",
            "/content/DIS/IS-Net/data_loader_cache.py:131: UserWarning: `nn.functional.upsample` is deprecated. Use `nn.functional.interpolate` instead.\n",
            "  gt_tensor = F.upsample(gt_tensor, size, mode=\"bilinear\")\n",
            "/content/DIS/IS-Net/data_loader_cache.py:116: UserWarning: `nn.functional.upsample` is deprecated. Use `nn.functional.interpolate` instead.\n",
            "  im_tensor = F.upsample(im_tensor, size, mode=\"bilinear\")\n",
            "/content/DIS/IS-Net/data_loader_cache.py:130: UserWarning: To copy construct from a tensor, it is recommended to use sourceTensor.clone().detach() or sourceTensor.clone().detach().requires_grad_(True), rather than torch.tensor(sourceTensor).\n",
            "  gt_tensor = torch.unsqueeze(torch.tensor(gt_tensor, dtype=torch.float32),0)\n",
            "/content/DIS/IS-Net/data_loader_cache.py:131: UserWarning: `nn.functional.upsample` is deprecated. Use `nn.functional.interpolate` instead.\n",
            "  gt_tensor = F.upsample(gt_tensor, size, mode=\"bilinear\")\n",
            "  2%|▎         | 75/3000 [00:03<02:05, 23.35it/s]/content/DIS/IS-Net/data_loader_cache.py:116: UserWarning: `nn.functional.upsample` is deprecated. Use `nn.functional.interpolate` instead.\n",
            "  im_tensor = F.upsample(im_tensor, size, mode=\"bilinear\")\n",
            "/content/DIS/IS-Net/data_loader_cache.py:130: UserWarning: To copy construct from a tensor, it is recommended to use sourceTensor.clone().detach() or sourceTensor.clone().detach().requires_grad_(True), rather than torch.tensor(sourceTensor).\n",
            "  gt_tensor = torch.unsqueeze(torch.tensor(gt_tensor, dtype=torch.float32),0)\n",
            "/content/DIS/IS-Net/data_loader_cache.py:131: UserWarning: `nn.functional.upsample` is deprecated. Use `nn.functional.interpolate` instead.\n",
            "  gt_tensor = F.upsample(gt_tensor, size, mode=\"bilinear\")\n",
            "/content/DIS/IS-Net/data_loader_cache.py:116: UserWarning: `nn.functional.upsample` is deprecated. Use `nn.functional.interpolate` instead.\n",
            "  im_tensor = F.upsample(im_tensor, size, mode=\"bilinear\")\n",
            "/content/DIS/IS-Net/data_loader_cache.py:130: UserWarning: To copy construct from a tensor, it is recommended to use sourceTensor.clone().detach() or sourceTensor.clone().detach().requires_grad_(True), rather than torch.tensor(sourceTensor).\n",
            "  gt_tensor = torch.unsqueeze(torch.tensor(gt_tensor, dtype=torch.float32),0)\n",
            "/content/DIS/IS-Net/data_loader_cache.py:131: UserWarning: `nn.functional.upsample` is deprecated. Use `nn.functional.interpolate` instead.\n",
            "  gt_tensor = F.upsample(gt_tensor, size, mode=\"bilinear\")\n",
            "/content/DIS/IS-Net/data_loader_cache.py:116: UserWarning: `nn.functional.upsample` is deprecated. Use `nn.functional.interpolate` instead.\n",
            "  im_tensor = F.upsample(im_tensor, size, mode=\"bilinear\")\n",
            "/content/DIS/IS-Net/data_loader_cache.py:130: UserWarning: To copy construct from a tensor, it is recommended to use sourceTensor.clone().detach() or sourceTensor.clone().detach().requires_grad_(True), rather than torch.tensor(sourceTensor).\n",
            "  gt_tensor = torch.unsqueeze(torch.tensor(gt_tensor, dtype=torch.float32),0)\n",
            "/content/DIS/IS-Net/data_loader_cache.py:131: UserWarning: `nn.functional.upsample` is deprecated. Use `nn.functional.interpolate` instead.\n",
            "  gt_tensor = F.upsample(gt_tensor, size, mode=\"bilinear\")\n",
            "  3%|▎         | 78/3000 [00:03<02:07, 22.99it/s]/content/DIS/IS-Net/data_loader_cache.py:116: UserWarning: `nn.functional.upsample` is deprecated. Use `nn.functional.interpolate` instead.\n",
            "  im_tensor = F.upsample(im_tensor, size, mode=\"bilinear\")\n"
          ]
        },
        {
          "output_type": "stream",
          "name": "stdout",
          "text": [
            "im_path:  ../DIS5K/DIS-TR/im/21#Tool#8#Scale#4001605134_5c9f355a2a_o.jpg\n",
            "im_path:  ../DIS5K/DIS-TR/im/6#Automobile#9#Motorcycle#5990577199_276d21c4f2_o.jpg\n",
            "im_path:  ../DIS5K/DIS-TR/im/11#Furniture#2#Bench#7151538279_0fb370cdc8_o.jpg\n",
            "im_path:  ../DIS5K/DIS-TR/im/17#Non-motor Vehicle#12#Wheel#43387189514_d632038dd0_o.jpg\n",
            "im_path:  ../DIS5K/DIS-TR/im/4#Architecture#10#Pavilion#5795028920_08884db993_o.jpg\n"
          ]
        },
        {
          "output_type": "stream",
          "name": "stderr",
          "text": [
            "/content/DIS/IS-Net/data_loader_cache.py:130: UserWarning: To copy construct from a tensor, it is recommended to use sourceTensor.clone().detach() or sourceTensor.clone().detach().requires_grad_(True), rather than torch.tensor(sourceTensor).\n",
            "  gt_tensor = torch.unsqueeze(torch.tensor(gt_tensor, dtype=torch.float32),0)\n",
            "/content/DIS/IS-Net/data_loader_cache.py:131: UserWarning: `nn.functional.upsample` is deprecated. Use `nn.functional.interpolate` instead.\n",
            "  gt_tensor = F.upsample(gt_tensor, size, mode=\"bilinear\")\n",
            "/content/DIS/IS-Net/data_loader_cache.py:116: UserWarning: `nn.functional.upsample` is deprecated. Use `nn.functional.interpolate` instead.\n",
            "  im_tensor = F.upsample(im_tensor, size, mode=\"bilinear\")\n",
            "/content/DIS/IS-Net/data_loader_cache.py:130: UserWarning: To copy construct from a tensor, it is recommended to use sourceTensor.clone().detach() or sourceTensor.clone().detach().requires_grad_(True), rather than torch.tensor(sourceTensor).\n",
            "  gt_tensor = torch.unsqueeze(torch.tensor(gt_tensor, dtype=torch.float32),0)\n",
            "/content/DIS/IS-Net/data_loader_cache.py:131: UserWarning: `nn.functional.upsample` is deprecated. Use `nn.functional.interpolate` instead.\n",
            "  gt_tensor = F.upsample(gt_tensor, size, mode=\"bilinear\")\n",
            "/content/DIS/IS-Net/data_loader_cache.py:116: UserWarning: `nn.functional.upsample` is deprecated. Use `nn.functional.interpolate` instead.\n",
            "  im_tensor = F.upsample(im_tensor, size, mode=\"bilinear\")\n",
            "/content/DIS/IS-Net/data_loader_cache.py:130: UserWarning: To copy construct from a tensor, it is recommended to use sourceTensor.clone().detach() or sourceTensor.clone().detach().requires_grad_(True), rather than torch.tensor(sourceTensor).\n",
            "  gt_tensor = torch.unsqueeze(torch.tensor(gt_tensor, dtype=torch.float32),0)\n",
            "/content/DIS/IS-Net/data_loader_cache.py:131: UserWarning: `nn.functional.upsample` is deprecated. Use `nn.functional.interpolate` instead.\n",
            "  gt_tensor = F.upsample(gt_tensor, size, mode=\"bilinear\")\n",
            "  3%|▎         | 81/3000 [00:03<02:06, 23.04it/s]/content/DIS/IS-Net/data_loader_cache.py:116: UserWarning: `nn.functional.upsample` is deprecated. Use `nn.functional.interpolate` instead.\n",
            "  im_tensor = F.upsample(im_tensor, size, mode=\"bilinear\")\n",
            "/content/DIS/IS-Net/data_loader_cache.py:130: UserWarning: To copy construct from a tensor, it is recommended to use sourceTensor.clone().detach() or sourceTensor.clone().detach().requires_grad_(True), rather than torch.tensor(sourceTensor).\n",
            "  gt_tensor = torch.unsqueeze(torch.tensor(gt_tensor, dtype=torch.float32),0)\n",
            "/content/DIS/IS-Net/data_loader_cache.py:131: UserWarning: `nn.functional.upsample` is deprecated. Use `nn.functional.interpolate` instead.\n",
            "  gt_tensor = F.upsample(gt_tensor, size, mode=\"bilinear\")\n",
            "/content/DIS/IS-Net/data_loader_cache.py:116: UserWarning: `nn.functional.upsample` is deprecated. Use `nn.functional.interpolate` instead.\n",
            "  im_tensor = F.upsample(im_tensor, size, mode=\"bilinear\")\n",
            "/content/DIS/IS-Net/data_loader_cache.py:130: UserWarning: To copy construct from a tensor, it is recommended to use sourceTensor.clone().detach() or sourceTensor.clone().detach().requires_grad_(True), rather than torch.tensor(sourceTensor).\n",
            "  gt_tensor = torch.unsqueeze(torch.tensor(gt_tensor, dtype=torch.float32),0)\n",
            "/content/DIS/IS-Net/data_loader_cache.py:131: UserWarning: `nn.functional.upsample` is deprecated. Use `nn.functional.interpolate` instead.\n",
            "  gt_tensor = F.upsample(gt_tensor, size, mode=\"bilinear\")\n",
            "/content/DIS/IS-Net/data_loader_cache.py:116: UserWarning: `nn.functional.upsample` is deprecated. Use `nn.functional.interpolate` instead.\n",
            "  im_tensor = F.upsample(im_tensor, size, mode=\"bilinear\")\n"
          ]
        },
        {
          "output_type": "stream",
          "name": "stdout",
          "text": [
            "im_path:  ../DIS5K/DIS-TR/im/4#Architecture#13#Sculpture#2654543508_a474317c6d_o.jpg\n",
            "im_path:  ../DIS5K/DIS-TR/im/21#Tool#7#Rope#2363701953_8a6d1b81db_o.jpg\n",
            "im_path:  ../DIS5K/DIS-TR/im/8#Electronics#8#Monitor#65595699_1900895ae8_o.jpg\n",
            "im_path:  ../DIS5K/DIS-TR/im/20#Sports#9#RockClimbing#5028197538_68534e5fd1_o.jpg\n",
            "im_path:  ../DIS5K/DIS-TR/im/16#Music Instrument#4#Piano#30640236482_382fbe71c2_o.jpg\n"
          ]
        },
        {
          "output_type": "stream",
          "name": "stderr",
          "text": [
            "/content/DIS/IS-Net/data_loader_cache.py:130: UserWarning: To copy construct from a tensor, it is recommended to use sourceTensor.clone().detach() or sourceTensor.clone().detach().requires_grad_(True), rather than torch.tensor(sourceTensor).\n",
            "  gt_tensor = torch.unsqueeze(torch.tensor(gt_tensor, dtype=torch.float32),0)\n",
            "/content/DIS/IS-Net/data_loader_cache.py:131: UserWarning: `nn.functional.upsample` is deprecated. Use `nn.functional.interpolate` instead.\n",
            "  gt_tensor = F.upsample(gt_tensor, size, mode=\"bilinear\")\n",
            "\r  3%|▎         | 84/3000 [00:03<02:06, 23.06it/s]/content/DIS/IS-Net/data_loader_cache.py:116: UserWarning: `nn.functional.upsample` is deprecated. Use `nn.functional.interpolate` instead.\n",
            "  im_tensor = F.upsample(im_tensor, size, mode=\"bilinear\")\n",
            "/content/DIS/IS-Net/data_loader_cache.py:130: UserWarning: To copy construct from a tensor, it is recommended to use sourceTensor.clone().detach() or sourceTensor.clone().detach().requires_grad_(True), rather than torch.tensor(sourceTensor).\n",
            "  gt_tensor = torch.unsqueeze(torch.tensor(gt_tensor, dtype=torch.float32),0)\n",
            "/content/DIS/IS-Net/data_loader_cache.py:131: UserWarning: `nn.functional.upsample` is deprecated. Use `nn.functional.interpolate` instead.\n",
            "  gt_tensor = F.upsample(gt_tensor, size, mode=\"bilinear\")\n",
            "/content/DIS/IS-Net/data_loader_cache.py:116: UserWarning: `nn.functional.upsample` is deprecated. Use `nn.functional.interpolate` instead.\n",
            "  im_tensor = F.upsample(im_tensor, size, mode=\"bilinear\")\n",
            "/content/DIS/IS-Net/data_loader_cache.py:130: UserWarning: To copy construct from a tensor, it is recommended to use sourceTensor.clone().detach() or sourceTensor.clone().detach().requires_grad_(True), rather than torch.tensor(sourceTensor).\n",
            "  gt_tensor = torch.unsqueeze(torch.tensor(gt_tensor, dtype=torch.float32),0)\n",
            "/content/DIS/IS-Net/data_loader_cache.py:131: UserWarning: `nn.functional.upsample` is deprecated. Use `nn.functional.interpolate` instead.\n",
            "  gt_tensor = F.upsample(gt_tensor, size, mode=\"bilinear\")\n",
            "/content/DIS/IS-Net/data_loader_cache.py:116: UserWarning: `nn.functional.upsample` is deprecated. Use `nn.functional.interpolate` instead.\n",
            "  im_tensor = F.upsample(im_tensor, size, mode=\"bilinear\")\n",
            "/content/DIS/IS-Net/data_loader_cache.py:130: UserWarning: To copy construct from a tensor, it is recommended to use sourceTensor.clone().detach() or sourceTensor.clone().detach().requires_grad_(True), rather than torch.tensor(sourceTensor).\n",
            "  gt_tensor = torch.unsqueeze(torch.tensor(gt_tensor, dtype=torch.float32),0)\n",
            "/content/DIS/IS-Net/data_loader_cache.py:131: UserWarning: `nn.functional.upsample` is deprecated. Use `nn.functional.interpolate` instead.\n",
            "  gt_tensor = F.upsample(gt_tensor, size, mode=\"bilinear\")\n",
            "  3%|▎         | 87/3000 [00:03<02:06, 22.99it/s]/content/DIS/IS-Net/data_loader_cache.py:116: UserWarning: `nn.functional.upsample` is deprecated. Use `nn.functional.interpolate` instead.\n",
            "  im_tensor = F.upsample(im_tensor, size, mode=\"bilinear\")\n",
            "/content/DIS/IS-Net/data_loader_cache.py:130: UserWarning: To copy construct from a tensor, it is recommended to use sourceTensor.clone().detach() or sourceTensor.clone().detach().requires_grad_(True), rather than torch.tensor(sourceTensor).\n",
            "  gt_tensor = torch.unsqueeze(torch.tensor(gt_tensor, dtype=torch.float32),0)\n",
            "/content/DIS/IS-Net/data_loader_cache.py:131: UserWarning: `nn.functional.upsample` is deprecated. Use `nn.functional.interpolate` instead.\n",
            "  gt_tensor = F.upsample(gt_tensor, size, mode=\"bilinear\")\n",
            "/content/DIS/IS-Net/data_loader_cache.py:116: UserWarning: `nn.functional.upsample` is deprecated. Use `nn.functional.interpolate` instead.\n",
            "  im_tensor = F.upsample(im_tensor, size, mode=\"bilinear\")\n"
          ]
        },
        {
          "output_type": "stream",
          "name": "stdout",
          "text": [
            "im_path:  ../DIS5K/DIS-TR/im/21#Tool#17#Tripod#18722449659_6fea76954e_o.jpg\n",
            "im_path:  ../DIS5K/DIS-TR/im/4#Architecture#6#Gate#50492547458_06e254a220_o.jpg\n",
            "im_path:  ../DIS5K/DIS-TR/im/11#Furniture#13#Ladder#3949801010_7a3a95221c_o.jpg\n",
            "im_path:  ../DIS5K/DIS-TR/im/20#Sports#6#PoleVault#26744909927_558790419e_o.jpg\n",
            "im_path:  ../DIS5K/DIS-TR/im/11#Furniture#2#Bench#33306326262_e504020638_o.jpg\n"
          ]
        },
        {
          "output_type": "stream",
          "name": "stderr",
          "text": [
            "/content/DIS/IS-Net/data_loader_cache.py:130: UserWarning: To copy construct from a tensor, it is recommended to use sourceTensor.clone().detach() or sourceTensor.clone().detach().requires_grad_(True), rather than torch.tensor(sourceTensor).\n",
            "  gt_tensor = torch.unsqueeze(torch.tensor(gt_tensor, dtype=torch.float32),0)\n",
            "/content/DIS/IS-Net/data_loader_cache.py:131: UserWarning: `nn.functional.upsample` is deprecated. Use `nn.functional.interpolate` instead.\n",
            "  gt_tensor = F.upsample(gt_tensor, size, mode=\"bilinear\")\n",
            "/content/DIS/IS-Net/data_loader_cache.py:116: UserWarning: `nn.functional.upsample` is deprecated. Use `nn.functional.interpolate` instead.\n",
            "  im_tensor = F.upsample(im_tensor, size, mode=\"bilinear\")\n",
            "/content/DIS/IS-Net/data_loader_cache.py:130: UserWarning: To copy construct from a tensor, it is recommended to use sourceTensor.clone().detach() or sourceTensor.clone().detach().requires_grad_(True), rather than torch.tensor(sourceTensor).\n",
            "  gt_tensor = torch.unsqueeze(torch.tensor(gt_tensor, dtype=torch.float32),0)\n",
            "/content/DIS/IS-Net/data_loader_cache.py:131: UserWarning: `nn.functional.upsample` is deprecated. Use `nn.functional.interpolate` instead.\n",
            "  gt_tensor = F.upsample(gt_tensor, size, mode=\"bilinear\")\n",
            "  3%|▎         | 90/3000 [00:03<02:05, 23.10it/s]/content/DIS/IS-Net/data_loader_cache.py:116: UserWarning: `nn.functional.upsample` is deprecated. Use `nn.functional.interpolate` instead.\n",
            "  im_tensor = F.upsample(im_tensor, size, mode=\"bilinear\")\n",
            "/content/DIS/IS-Net/data_loader_cache.py:130: UserWarning: To copy construct from a tensor, it is recommended to use sourceTensor.clone().detach() or sourceTensor.clone().detach().requires_grad_(True), rather than torch.tensor(sourceTensor).\n",
            "  gt_tensor = torch.unsqueeze(torch.tensor(gt_tensor, dtype=torch.float32),0)\n",
            "/content/DIS/IS-Net/data_loader_cache.py:131: UserWarning: `nn.functional.upsample` is deprecated. Use `nn.functional.interpolate` instead.\n",
            "  gt_tensor = F.upsample(gt_tensor, size, mode=\"bilinear\")\n",
            "/content/DIS/IS-Net/data_loader_cache.py:116: UserWarning: `nn.functional.upsample` is deprecated. Use `nn.functional.interpolate` instead.\n",
            "  im_tensor = F.upsample(im_tensor, size, mode=\"bilinear\")\n",
            "/content/DIS/IS-Net/data_loader_cache.py:130: UserWarning: To copy construct from a tensor, it is recommended to use sourceTensor.clone().detach() or sourceTensor.clone().detach().requires_grad_(True), rather than torch.tensor(sourceTensor).\n",
            "  gt_tensor = torch.unsqueeze(torch.tensor(gt_tensor, dtype=torch.float32),0)\n",
            "/content/DIS/IS-Net/data_loader_cache.py:131: UserWarning: `nn.functional.upsample` is deprecated. Use `nn.functional.interpolate` instead.\n",
            "  gt_tensor = F.upsample(gt_tensor, size, mode=\"bilinear\")\n",
            "/content/DIS/IS-Net/data_loader_cache.py:116: UserWarning: `nn.functional.upsample` is deprecated. Use `nn.functional.interpolate` instead.\n",
            "  im_tensor = F.upsample(im_tensor, size, mode=\"bilinear\")\n",
            "/content/DIS/IS-Net/data_loader_cache.py:130: UserWarning: To copy construct from a tensor, it is recommended to use sourceTensor.clone().detach() or sourceTensor.clone().detach().requires_grad_(True), rather than torch.tensor(sourceTensor).\n",
            "  gt_tensor = torch.unsqueeze(torch.tensor(gt_tensor, dtype=torch.float32),0)\n",
            "/content/DIS/IS-Net/data_loader_cache.py:131: UserWarning: `nn.functional.upsample` is deprecated. Use `nn.functional.interpolate` instead.\n",
            "  gt_tensor = F.upsample(gt_tensor, size, mode=\"bilinear\")\n",
            "  3%|▎         | 93/3000 [00:03<02:05, 23.21it/s]/content/DIS/IS-Net/data_loader_cache.py:116: UserWarning: `nn.functional.upsample` is deprecated. Use `nn.functional.interpolate` instead.\n",
            "  im_tensor = F.upsample(im_tensor, size, mode=\"bilinear\")\n"
          ]
        },
        {
          "output_type": "stream",
          "name": "stdout",
          "text": [
            "im_path:  ../DIS5K/DIS-TR/im/5#Artifact#3#Handcraft#50893993103_1fc3c77a47_o.jpg\n",
            "im_path:  ../DIS5K/DIS-TR/im/10#Frame#6#Skeleton#34022707662_d905a1852e_o.jpg\n",
            "im_path:  ../DIS5K/DIS-TR/im/21#Tool#1#Axe#11201622803_963d80facf_o.jpg\n",
            "im_path:  ../DIS5K/DIS-TR/im/7#Electrical#10#UtilityPole#51113353991_fb40aef133_o.jpg\n",
            "im_path:  ../DIS5K/DIS-TR/im/11#Furniture#18#TableChair#8800170212_f0c29933b6_o.jpg\n"
          ]
        },
        {
          "output_type": "stream",
          "name": "stderr",
          "text": [
            "/content/DIS/IS-Net/data_loader_cache.py:130: UserWarning: To copy construct from a tensor, it is recommended to use sourceTensor.clone().detach() or sourceTensor.clone().detach().requires_grad_(True), rather than torch.tensor(sourceTensor).\n",
            "  gt_tensor = torch.unsqueeze(torch.tensor(gt_tensor, dtype=torch.float32),0)\n",
            "/content/DIS/IS-Net/data_loader_cache.py:131: UserWarning: `nn.functional.upsample` is deprecated. Use `nn.functional.interpolate` instead.\n",
            "  gt_tensor = F.upsample(gt_tensor, size, mode=\"bilinear\")\n",
            "/content/DIS/IS-Net/data_loader_cache.py:116: UserWarning: `nn.functional.upsample` is deprecated. Use `nn.functional.interpolate` instead.\n",
            "  im_tensor = F.upsample(im_tensor, size, mode=\"bilinear\")\n",
            "/content/DIS/IS-Net/data_loader_cache.py:130: UserWarning: To copy construct from a tensor, it is recommended to use sourceTensor.clone().detach() or sourceTensor.clone().detach().requires_grad_(True), rather than torch.tensor(sourceTensor).\n",
            "  gt_tensor = torch.unsqueeze(torch.tensor(gt_tensor, dtype=torch.float32),0)\n",
            "/content/DIS/IS-Net/data_loader_cache.py:131: UserWarning: `nn.functional.upsample` is deprecated. Use `nn.functional.interpolate` instead.\n",
            "  gt_tensor = F.upsample(gt_tensor, size, mode=\"bilinear\")\n",
            "/content/DIS/IS-Net/data_loader_cache.py:116: UserWarning: `nn.functional.upsample` is deprecated. Use `nn.functional.interpolate` instead.\n",
            "  im_tensor = F.upsample(im_tensor, size, mode=\"bilinear\")\n",
            "/content/DIS/IS-Net/data_loader_cache.py:130: UserWarning: To copy construct from a tensor, it is recommended to use sourceTensor.clone().detach() or sourceTensor.clone().detach().requires_grad_(True), rather than torch.tensor(sourceTensor).\n",
            "  gt_tensor = torch.unsqueeze(torch.tensor(gt_tensor, dtype=torch.float32),0)\n",
            "/content/DIS/IS-Net/data_loader_cache.py:131: UserWarning: `nn.functional.upsample` is deprecated. Use `nn.functional.interpolate` instead.\n",
            "  gt_tensor = F.upsample(gt_tensor, size, mode=\"bilinear\")\n",
            "  3%|▎         | 96/3000 [00:04<02:05, 23.10it/s]/content/DIS/IS-Net/data_loader_cache.py:116: UserWarning: `nn.functional.upsample` is deprecated. Use `nn.functional.interpolate` instead.\n",
            "  im_tensor = F.upsample(im_tensor, size, mode=\"bilinear\")\n",
            "/content/DIS/IS-Net/data_loader_cache.py:130: UserWarning: To copy construct from a tensor, it is recommended to use sourceTensor.clone().detach() or sourceTensor.clone().detach().requires_grad_(True), rather than torch.tensor(sourceTensor).\n",
            "  gt_tensor = torch.unsqueeze(torch.tensor(gt_tensor, dtype=torch.float32),0)\n",
            "/content/DIS/IS-Net/data_loader_cache.py:131: UserWarning: `nn.functional.upsample` is deprecated. Use `nn.functional.interpolate` instead.\n",
            "  gt_tensor = F.upsample(gt_tensor, size, mode=\"bilinear\")\n",
            "/content/DIS/IS-Net/data_loader_cache.py:116: UserWarning: `nn.functional.upsample` is deprecated. Use `nn.functional.interpolate` instead.\n",
            "  im_tensor = F.upsample(im_tensor, size, mode=\"bilinear\")\n",
            "/content/DIS/IS-Net/data_loader_cache.py:130: UserWarning: To copy construct from a tensor, it is recommended to use sourceTensor.clone().detach() or sourceTensor.clone().detach().requires_grad_(True), rather than torch.tensor(sourceTensor).\n",
            "  gt_tensor = torch.unsqueeze(torch.tensor(gt_tensor, dtype=torch.float32),0)\n",
            "/content/DIS/IS-Net/data_loader_cache.py:131: UserWarning: `nn.functional.upsample` is deprecated. Use `nn.functional.interpolate` instead.\n",
            "  gt_tensor = F.upsample(gt_tensor, size, mode=\"bilinear\")\n",
            "/content/DIS/IS-Net/data_loader_cache.py:116: UserWarning: `nn.functional.upsample` is deprecated. Use `nn.functional.interpolate` instead.\n",
            "  im_tensor = F.upsample(im_tensor, size, mode=\"bilinear\")\n"
          ]
        },
        {
          "output_type": "stream",
          "name": "stdout",
          "text": [
            "im_path:  ../DIS5K/DIS-TR/im/2#Aircraft#1#Airplane#37931782151_b4e7b044f6_o.jpg\n",
            "im_path:  ../DIS5K/DIS-TR/im/6#Automobile#3#Car#12824016884_d464671a60_o.jpg\n",
            "im_path:  ../DIS5K/DIS-TR/im/16#Music Instrument#6#Trumpet#15366789952_0568021c2a_o.jpg\n",
            "im_path:  ../DIS5K/DIS-TR/im/6#Automobile#6#Excavator#25225494120_f2d1413bcb_o.jpg\n",
            "im_path:  ../DIS5K/DIS-TR/im/22#Weapon#3#Missile#8755971840_db3b940ba7_o.jpg\n"
          ]
        },
        {
          "output_type": "stream",
          "name": "stderr",
          "text": [
            "/content/DIS/IS-Net/data_loader_cache.py:130: UserWarning: To copy construct from a tensor, it is recommended to use sourceTensor.clone().detach() or sourceTensor.clone().detach().requires_grad_(True), rather than torch.tensor(sourceTensor).\n",
            "  gt_tensor = torch.unsqueeze(torch.tensor(gt_tensor, dtype=torch.float32),0)\n",
            "/content/DIS/IS-Net/data_loader_cache.py:131: UserWarning: `nn.functional.upsample` is deprecated. Use `nn.functional.interpolate` instead.\n",
            "  gt_tensor = F.upsample(gt_tensor, size, mode=\"bilinear\")\n",
            "\r  3%|▎         | 99/3000 [00:04<02:05, 23.11it/s]/content/DIS/IS-Net/data_loader_cache.py:116: UserWarning: `nn.functional.upsample` is deprecated. Use `nn.functional.interpolate` instead.\n",
            "  im_tensor = F.upsample(im_tensor, size, mode=\"bilinear\")\n",
            "/content/DIS/IS-Net/data_loader_cache.py:130: UserWarning: To copy construct from a tensor, it is recommended to use sourceTensor.clone().detach() or sourceTensor.clone().detach().requires_grad_(True), rather than torch.tensor(sourceTensor).\n",
            "  gt_tensor = torch.unsqueeze(torch.tensor(gt_tensor, dtype=torch.float32),0)\n",
            "/content/DIS/IS-Net/data_loader_cache.py:131: UserWarning: `nn.functional.upsample` is deprecated. Use `nn.functional.interpolate` instead.\n",
            "  gt_tensor = F.upsample(gt_tensor, size, mode=\"bilinear\")\n",
            "/content/DIS/IS-Net/data_loader_cache.py:116: UserWarning: `nn.functional.upsample` is deprecated. Use `nn.functional.interpolate` instead.\n",
            "  im_tensor = F.upsample(im_tensor, size, mode=\"bilinear\")\n",
            "/content/DIS/IS-Net/data_loader_cache.py:130: UserWarning: To copy construct from a tensor, it is recommended to use sourceTensor.clone().detach() or sourceTensor.clone().detach().requires_grad_(True), rather than torch.tensor(sourceTensor).\n",
            "  gt_tensor = torch.unsqueeze(torch.tensor(gt_tensor, dtype=torch.float32),0)\n",
            "/content/DIS/IS-Net/data_loader_cache.py:131: UserWarning: `nn.functional.upsample` is deprecated. Use `nn.functional.interpolate` instead.\n",
            "  gt_tensor = F.upsample(gt_tensor, size, mode=\"bilinear\")\n",
            "/content/DIS/IS-Net/data_loader_cache.py:116: UserWarning: `nn.functional.upsample` is deprecated. Use `nn.functional.interpolate` instead.\n",
            "  im_tensor = F.upsample(im_tensor, size, mode=\"bilinear\")\n",
            "/content/DIS/IS-Net/data_loader_cache.py:130: UserWarning: To copy construct from a tensor, it is recommended to use sourceTensor.clone().detach() or sourceTensor.clone().detach().requires_grad_(True), rather than torch.tensor(sourceTensor).\n",
            "  gt_tensor = torch.unsqueeze(torch.tensor(gt_tensor, dtype=torch.float32),0)\n",
            "/content/DIS/IS-Net/data_loader_cache.py:131: UserWarning: `nn.functional.upsample` is deprecated. Use `nn.functional.interpolate` instead.\n",
            "  gt_tensor = F.upsample(gt_tensor, size, mode=\"bilinear\")\n",
            "  3%|▎         | 102/3000 [00:04<01:57, 24.73it/s]/content/DIS/IS-Net/data_loader_cache.py:116: UserWarning: `nn.functional.upsample` is deprecated. Use `nn.functional.interpolate` instead.\n",
            "  im_tensor = F.upsample(im_tensor, size, mode=\"bilinear\")\n",
            "/content/DIS/IS-Net/data_loader_cache.py:130: UserWarning: To copy construct from a tensor, it is recommended to use sourceTensor.clone().detach() or sourceTensor.clone().detach().requires_grad_(True), rather than torch.tensor(sourceTensor).\n",
            "  gt_tensor = torch.unsqueeze(torch.tensor(gt_tensor, dtype=torch.float32),0)\n",
            "/content/DIS/IS-Net/data_loader_cache.py:131: UserWarning: `nn.functional.upsample` is deprecated. Use `nn.functional.interpolate` instead.\n",
            "  gt_tensor = F.upsample(gt_tensor, size, mode=\"bilinear\")\n",
            "/content/DIS/IS-Net/data_loader_cache.py:116: UserWarning: `nn.functional.upsample` is deprecated. Use `nn.functional.interpolate` instead.\n",
            "  im_tensor = F.upsample(im_tensor, size, mode=\"bilinear\")\n",
            "/content/DIS/IS-Net/data_loader_cache.py:130: UserWarning: To copy construct from a tensor, it is recommended to use sourceTensor.clone().detach() or sourceTensor.clone().detach().requires_grad_(True), rather than torch.tensor(sourceTensor).\n",
            "  gt_tensor = torch.unsqueeze(torch.tensor(gt_tensor, dtype=torch.float32),0)\n",
            "/content/DIS/IS-Net/data_loader_cache.py:131: UserWarning: `nn.functional.upsample` is deprecated. Use `nn.functional.interpolate` instead.\n",
            "  gt_tensor = F.upsample(gt_tensor, size, mode=\"bilinear\")\n",
            "/content/DIS/IS-Net/data_loader_cache.py:116: UserWarning: `nn.functional.upsample` is deprecated. Use `nn.functional.interpolate` instead.\n",
            "  im_tensor = F.upsample(im_tensor, size, mode=\"bilinear\")\n"
          ]
        },
        {
          "output_type": "stream",
          "name": "stdout",
          "text": [
            "im_path:  ../DIS5K/DIS-TR/im/14#Kitchenware#11#WireWhisk#3267102279_223002dc5e_o.jpg\n",
            "im_path:  ../DIS5K/DIS-TR/im/14#Kitchenware#4#Kitchenware#IMG_20210521_104119.jpg\n",
            "im_path:  ../DIS5K/DIS-TR/im/11#Furniture#7#Desk#3891901938_8477467de8_o.jpg\n",
            "im_path:  ../DIS5K/DIS-TR/im/11#Furniture#10#Hammock#5556912379_eafff7b0d2_o.jpg\n",
            "im_path:  ../DIS5K/DIS-TR/im/6#Automobile#4#ConcretePumpTruck#3887068702_844b51cd1b_o.jpg\n",
            "im_path:  ../DIS5K/DIS-TR/im/19#Ship#2#Canoe#4306639415_55d552e5d1_o.jpg\n"
          ]
        },
        {
          "output_type": "stream",
          "name": "stderr",
          "text": [
            "/content/DIS/IS-Net/data_loader_cache.py:130: UserWarning: To copy construct from a tensor, it is recommended to use sourceTensor.clone().detach() or sourceTensor.clone().detach().requires_grad_(True), rather than torch.tensor(sourceTensor).\n",
            "  gt_tensor = torch.unsqueeze(torch.tensor(gt_tensor, dtype=torch.float32),0)\n",
            "/content/DIS/IS-Net/data_loader_cache.py:131: UserWarning: `nn.functional.upsample` is deprecated. Use `nn.functional.interpolate` instead.\n",
            "  gt_tensor = F.upsample(gt_tensor, size, mode=\"bilinear\")\n",
            "\r  4%|▎         | 105/3000 [00:04<01:51, 25.91it/s]/content/DIS/IS-Net/data_loader_cache.py:116: UserWarning: `nn.functional.upsample` is deprecated. Use `nn.functional.interpolate` instead.\n",
            "  im_tensor = F.upsample(im_tensor, size, mode=\"bilinear\")\n",
            "/content/DIS/IS-Net/data_loader_cache.py:130: UserWarning: To copy construct from a tensor, it is recommended to use sourceTensor.clone().detach() or sourceTensor.clone().detach().requires_grad_(True), rather than torch.tensor(sourceTensor).\n",
            "  gt_tensor = torch.unsqueeze(torch.tensor(gt_tensor, dtype=torch.float32),0)\n",
            "/content/DIS/IS-Net/data_loader_cache.py:131: UserWarning: `nn.functional.upsample` is deprecated. Use `nn.functional.interpolate` instead.\n",
            "  gt_tensor = F.upsample(gt_tensor, size, mode=\"bilinear\")\n",
            "/content/DIS/IS-Net/data_loader_cache.py:116: UserWarning: `nn.functional.upsample` is deprecated. Use `nn.functional.interpolate` instead.\n",
            "  im_tensor = F.upsample(im_tensor, size, mode=\"bilinear\")\n",
            "/content/DIS/IS-Net/data_loader_cache.py:130: UserWarning: To copy construct from a tensor, it is recommended to use sourceTensor.clone().detach() or sourceTensor.clone().detach().requires_grad_(True), rather than torch.tensor(sourceTensor).\n",
            "  gt_tensor = torch.unsqueeze(torch.tensor(gt_tensor, dtype=torch.float32),0)\n",
            "/content/DIS/IS-Net/data_loader_cache.py:131: UserWarning: `nn.functional.upsample` is deprecated. Use `nn.functional.interpolate` instead.\n",
            "  gt_tensor = F.upsample(gt_tensor, size, mode=\"bilinear\")\n",
            "/content/DIS/IS-Net/data_loader_cache.py:116: UserWarning: `nn.functional.upsample` is deprecated. Use `nn.functional.interpolate` instead.\n",
            "  im_tensor = F.upsample(im_tensor, size, mode=\"bilinear\")\n",
            "/content/DIS/IS-Net/data_loader_cache.py:130: UserWarning: To copy construct from a tensor, it is recommended to use sourceTensor.clone().detach() or sourceTensor.clone().detach().requires_grad_(True), rather than torch.tensor(sourceTensor).\n",
            "  gt_tensor = torch.unsqueeze(torch.tensor(gt_tensor, dtype=torch.float32),0)\n",
            "/content/DIS/IS-Net/data_loader_cache.py:131: UserWarning: `nn.functional.upsample` is deprecated. Use `nn.functional.interpolate` instead.\n",
            "  gt_tensor = F.upsample(gt_tensor, size, mode=\"bilinear\")\n",
            "  4%|▎         | 108/3000 [00:04<01:54, 25.30it/s]/content/DIS/IS-Net/data_loader_cache.py:116: UserWarning: `nn.functional.upsample` is deprecated. Use `nn.functional.interpolate` instead.\n",
            "  im_tensor = F.upsample(im_tensor, size, mode=\"bilinear\")\n",
            "/content/DIS/IS-Net/data_loader_cache.py:130: UserWarning: To copy construct from a tensor, it is recommended to use sourceTensor.clone().detach() or sourceTensor.clone().detach().requires_grad_(True), rather than torch.tensor(sourceTensor).\n",
            "  gt_tensor = torch.unsqueeze(torch.tensor(gt_tensor, dtype=torch.float32),0)\n",
            "/content/DIS/IS-Net/data_loader_cache.py:131: UserWarning: `nn.functional.upsample` is deprecated. Use `nn.functional.interpolate` instead.\n",
            "  gt_tensor = F.upsample(gt_tensor, size, mode=\"bilinear\")\n",
            "/content/DIS/IS-Net/data_loader_cache.py:116: UserWarning: `nn.functional.upsample` is deprecated. Use `nn.functional.interpolate` instead.\n",
            "  im_tensor = F.upsample(im_tensor, size, mode=\"bilinear\")\n"
          ]
        },
        {
          "output_type": "stream",
          "name": "stdout",
          "text": [
            "im_path:  ../DIS5K/DIS-TR/im/21#Tool#4#Flag#2677574300_65e3fdf7bf_o.jpg\n",
            "im_path:  ../DIS5K/DIS-TR/im/8#Electronics#1#Antenna#26076364723_272771ebf6_o.jpg\n",
            "im_path:  ../DIS5K/DIS-TR/im/8#Electronics#3#Earphone#45974153442_6097fcbf65_o.jpg\n",
            "im_path:  ../DIS5K/DIS-TR/im/20#Sports#1#Archery#2814079836_0503c5dc49_o.jpg\n",
            "im_path:  ../DIS5K/DIS-TR/im/2#Aircraft#7#UAV#27935106641_8873655c07_o.jpg\n"
          ]
        },
        {
          "output_type": "stream",
          "name": "stderr",
          "text": [
            "/content/DIS/IS-Net/data_loader_cache.py:130: UserWarning: To copy construct from a tensor, it is recommended to use sourceTensor.clone().detach() or sourceTensor.clone().detach().requires_grad_(True), rather than torch.tensor(sourceTensor).\n",
            "  gt_tensor = torch.unsqueeze(torch.tensor(gt_tensor, dtype=torch.float32),0)\n",
            "/content/DIS/IS-Net/data_loader_cache.py:131: UserWarning: `nn.functional.upsample` is deprecated. Use `nn.functional.interpolate` instead.\n",
            "  gt_tensor = F.upsample(gt_tensor, size, mode=\"bilinear\")\n",
            "/content/DIS/IS-Net/data_loader_cache.py:116: UserWarning: `nn.functional.upsample` is deprecated. Use `nn.functional.interpolate` instead.\n",
            "  im_tensor = F.upsample(im_tensor, size, mode=\"bilinear\")\n",
            "/content/DIS/IS-Net/data_loader_cache.py:130: UserWarning: To copy construct from a tensor, it is recommended to use sourceTensor.clone().detach() or sourceTensor.clone().detach().requires_grad_(True), rather than torch.tensor(sourceTensor).\n",
            "  gt_tensor = torch.unsqueeze(torch.tensor(gt_tensor, dtype=torch.float32),0)\n",
            "/content/DIS/IS-Net/data_loader_cache.py:131: UserWarning: `nn.functional.upsample` is deprecated. Use `nn.functional.interpolate` instead.\n",
            "  gt_tensor = F.upsample(gt_tensor, size, mode=\"bilinear\")\n",
            "  4%|▎         | 111/3000 [00:04<01:57, 24.68it/s]/content/DIS/IS-Net/data_loader_cache.py:116: UserWarning: `nn.functional.upsample` is deprecated. Use `nn.functional.interpolate` instead.\n",
            "  im_tensor = F.upsample(im_tensor, size, mode=\"bilinear\")\n",
            "/content/DIS/IS-Net/data_loader_cache.py:130: UserWarning: To copy construct from a tensor, it is recommended to use sourceTensor.clone().detach() or sourceTensor.clone().detach().requires_grad_(True), rather than torch.tensor(sourceTensor).\n",
            "  gt_tensor = torch.unsqueeze(torch.tensor(gt_tensor, dtype=torch.float32),0)\n",
            "/content/DIS/IS-Net/data_loader_cache.py:131: UserWarning: `nn.functional.upsample` is deprecated. Use `nn.functional.interpolate` instead.\n",
            "  gt_tensor = F.upsample(gt_tensor, size, mode=\"bilinear\")\n",
            "/content/DIS/IS-Net/data_loader_cache.py:116: UserWarning: `nn.functional.upsample` is deprecated. Use `nn.functional.interpolate` instead.\n",
            "  im_tensor = F.upsample(im_tensor, size, mode=\"bilinear\")\n",
            "/content/DIS/IS-Net/data_loader_cache.py:130: UserWarning: To copy construct from a tensor, it is recommended to use sourceTensor.clone().detach() or sourceTensor.clone().detach().requires_grad_(True), rather than torch.tensor(sourceTensor).\n",
            "  gt_tensor = torch.unsqueeze(torch.tensor(gt_tensor, dtype=torch.float32),0)\n",
            "/content/DIS/IS-Net/data_loader_cache.py:131: UserWarning: `nn.functional.upsample` is deprecated. Use `nn.functional.interpolate` instead.\n",
            "  gt_tensor = F.upsample(gt_tensor, size, mode=\"bilinear\")\n",
            "/content/DIS/IS-Net/data_loader_cache.py:116: UserWarning: `nn.functional.upsample` is deprecated. Use `nn.functional.interpolate` instead.\n",
            "  im_tensor = F.upsample(im_tensor, size, mode=\"bilinear\")\n",
            "/content/DIS/IS-Net/data_loader_cache.py:130: UserWarning: To copy construct from a tensor, it is recommended to use sourceTensor.clone().detach() or sourceTensor.clone().detach().requires_grad_(True), rather than torch.tensor(sourceTensor).\n",
            "  gt_tensor = torch.unsqueeze(torch.tensor(gt_tensor, dtype=torch.float32),0)\n",
            "/content/DIS/IS-Net/data_loader_cache.py:131: UserWarning: `nn.functional.upsample` is deprecated. Use `nn.functional.interpolate` instead.\n",
            "  gt_tensor = F.upsample(gt_tensor, size, mode=\"bilinear\")\n",
            "  4%|▍         | 114/3000 [00:04<01:55, 24.93it/s]/content/DIS/IS-Net/data_loader_cache.py:116: UserWarning: `nn.functional.upsample` is deprecated. Use `nn.functional.interpolate` instead.\n",
            "  im_tensor = F.upsample(im_tensor, size, mode=\"bilinear\")\n",
            "/content/DIS/IS-Net/data_loader_cache.py:130: UserWarning: To copy construct from a tensor, it is recommended to use sourceTensor.clone().detach() or sourceTensor.clone().detach().requires_grad_(True), rather than torch.tensor(sourceTensor).\n",
            "  gt_tensor = torch.unsqueeze(torch.tensor(gt_tensor, dtype=torch.float32),0)\n",
            "/content/DIS/IS-Net/data_loader_cache.py:131: UserWarning: `nn.functional.upsample` is deprecated. Use `nn.functional.interpolate` instead.\n",
            "  gt_tensor = F.upsample(gt_tensor, size, mode=\"bilinear\")\n"
          ]
        },
        {
          "output_type": "stream",
          "name": "stdout",
          "text": [
            "im_path:  ../DIS5K/DIS-TR/im/19#Ship#6#Yacht#9602769354_770fe5f988_o.jpg\n",
            "im_path:  ../DIS5K/DIS-TR/im/11#Furniture#17#Table#5213310141_5a3dd5d1ab_o.jpg\n",
            "im_path:  ../DIS5K/DIS-TR/im/11#Furniture#16#Stool#IMG_20210518_170516.jpg\n",
            "im_path:  ../DIS5K/DIS-TR/im/11#Furniture#16#Stool#IMG_20210623_233258.jpg\n",
            "im_path:  ../DIS5K/DIS-TR/im/10#Frame#4#MagazineRack#10491159253_a3f745b330_o.jpg\n",
            "im_path:  ../DIS5K/DIS-TR/im/11#Furniture#13#Ladder#6205719469_c46219d27f_o.jpg\n"
          ]
        },
        {
          "output_type": "stream",
          "name": "stderr",
          "text": [
            "/content/DIS/IS-Net/data_loader_cache.py:116: UserWarning: `nn.functional.upsample` is deprecated. Use `nn.functional.interpolate` instead.\n",
            "  im_tensor = F.upsample(im_tensor, size, mode=\"bilinear\")\n",
            "/content/DIS/IS-Net/data_loader_cache.py:130: UserWarning: To copy construct from a tensor, it is recommended to use sourceTensor.clone().detach() or sourceTensor.clone().detach().requires_grad_(True), rather than torch.tensor(sourceTensor).\n",
            "  gt_tensor = torch.unsqueeze(torch.tensor(gt_tensor, dtype=torch.float32),0)\n",
            "/content/DIS/IS-Net/data_loader_cache.py:131: UserWarning: `nn.functional.upsample` is deprecated. Use `nn.functional.interpolate` instead.\n",
            "  gt_tensor = F.upsample(gt_tensor, size, mode=\"bilinear\")\n",
            "/content/DIS/IS-Net/data_loader_cache.py:116: UserWarning: `nn.functional.upsample` is deprecated. Use `nn.functional.interpolate` instead.\n",
            "  im_tensor = F.upsample(im_tensor, size, mode=\"bilinear\")\n",
            "/content/DIS/IS-Net/data_loader_cache.py:130: UserWarning: To copy construct from a tensor, it is recommended to use sourceTensor.clone().detach() or sourceTensor.clone().detach().requires_grad_(True), rather than torch.tensor(sourceTensor).\n",
            "  gt_tensor = torch.unsqueeze(torch.tensor(gt_tensor, dtype=torch.float32),0)\n",
            "/content/DIS/IS-Net/data_loader_cache.py:131: UserWarning: `nn.functional.upsample` is deprecated. Use `nn.functional.interpolate` instead.\n",
            "  gt_tensor = F.upsample(gt_tensor, size, mode=\"bilinear\")\n",
            "  4%|▍         | 117/3000 [00:04<01:52, 25.65it/s]/content/DIS/IS-Net/data_loader_cache.py:116: UserWarning: `nn.functional.upsample` is deprecated. Use `nn.functional.interpolate` instead.\n",
            "  im_tensor = F.upsample(im_tensor, size, mode=\"bilinear\")\n",
            "/content/DIS/IS-Net/data_loader_cache.py:130: UserWarning: To copy construct from a tensor, it is recommended to use sourceTensor.clone().detach() or sourceTensor.clone().detach().requires_grad_(True), rather than torch.tensor(sourceTensor).\n",
            "  gt_tensor = torch.unsqueeze(torch.tensor(gt_tensor, dtype=torch.float32),0)\n",
            "/content/DIS/IS-Net/data_loader_cache.py:131: UserWarning: `nn.functional.upsample` is deprecated. Use `nn.functional.interpolate` instead.\n",
            "  gt_tensor = F.upsample(gt_tensor, size, mode=\"bilinear\")\n",
            "/content/DIS/IS-Net/data_loader_cache.py:116: UserWarning: `nn.functional.upsample` is deprecated. Use `nn.functional.interpolate` instead.\n",
            "  im_tensor = F.upsample(im_tensor, size, mode=\"bilinear\")\n",
            "/content/DIS/IS-Net/data_loader_cache.py:130: UserWarning: To copy construct from a tensor, it is recommended to use sourceTensor.clone().detach() or sourceTensor.clone().detach().requires_grad_(True), rather than torch.tensor(sourceTensor).\n",
            "  gt_tensor = torch.unsqueeze(torch.tensor(gt_tensor, dtype=torch.float32),0)\n",
            "/content/DIS/IS-Net/data_loader_cache.py:131: UserWarning: `nn.functional.upsample` is deprecated. Use `nn.functional.interpolate` instead.\n",
            "  gt_tensor = F.upsample(gt_tensor, size, mode=\"bilinear\")\n",
            "/content/DIS/IS-Net/data_loader_cache.py:116: UserWarning: `nn.functional.upsample` is deprecated. Use `nn.functional.interpolate` instead.\n",
            "  im_tensor = F.upsample(im_tensor, size, mode=\"bilinear\")\n",
            "/content/DIS/IS-Net/data_loader_cache.py:130: UserWarning: To copy construct from a tensor, it is recommended to use sourceTensor.clone().detach() or sourceTensor.clone().detach().requires_grad_(True), rather than torch.tensor(sourceTensor).\n",
            "  gt_tensor = torch.unsqueeze(torch.tensor(gt_tensor, dtype=torch.float32),0)\n",
            "/content/DIS/IS-Net/data_loader_cache.py:131: UserWarning: `nn.functional.upsample` is deprecated. Use `nn.functional.interpolate` instead.\n",
            "  gt_tensor = F.upsample(gt_tensor, size, mode=\"bilinear\")\n",
            "  4%|▍         | 120/3000 [00:04<01:48, 26.53it/s]/content/DIS/IS-Net/data_loader_cache.py:116: UserWarning: `nn.functional.upsample` is deprecated. Use `nn.functional.interpolate` instead.\n",
            "  im_tensor = F.upsample(im_tensor, size, mode=\"bilinear\")\n",
            "/content/DIS/IS-Net/data_loader_cache.py:130: UserWarning: To copy construct from a tensor, it is recommended to use sourceTensor.clone().detach() or sourceTensor.clone().detach().requires_grad_(True), rather than torch.tensor(sourceTensor).\n",
            "  gt_tensor = torch.unsqueeze(torch.tensor(gt_tensor, dtype=torch.float32),0)\n",
            "/content/DIS/IS-Net/data_loader_cache.py:131: UserWarning: `nn.functional.upsample` is deprecated. Use `nn.functional.interpolate` instead.\n",
            "  gt_tensor = F.upsample(gt_tensor, size, mode=\"bilinear\")\n",
            "/content/DIS/IS-Net/data_loader_cache.py:116: UserWarning: `nn.functional.upsample` is deprecated. Use `nn.functional.interpolate` instead.\n",
            "  im_tensor = F.upsample(im_tensor, size, mode=\"bilinear\")\n"
          ]
        },
        {
          "output_type": "stream",
          "name": "stdout",
          "text": [
            "im_path:  ../DIS5K/DIS-TR/im/20#Sports#6#PoleVault#4782230305_0b5588bbe1_o.jpg\n",
            "im_path:  ../DIS5K/DIS-TR/im/11#Furniture#18#TableChair#11447640826_aa995f5a2b_o.jpg\n",
            "im_path:  ../DIS5K/DIS-TR/im/4#Architecture#13#Sculpture#36398119702_06c196f6d1_o.jpg\n",
            "im_path:  ../DIS5K/DIS-TR/im/6#Automobile#7#Forklift#62897315_2d2a91ea7e_o.jpg\n",
            "im_path:  ../DIS5K/DIS-TR/im/17#Non-motor Vehicle#2#Bicycle#471723926_c2e3882538_o.jpg\n",
            "im_path:  ../DIS5K/DIS-TR/im/17#Non-motor Vehicle#2#Bicycle#15096683444_8c0be99585_o.jpg\n"
          ]
        },
        {
          "output_type": "stream",
          "name": "stderr",
          "text": [
            "/content/DIS/IS-Net/data_loader_cache.py:130: UserWarning: To copy construct from a tensor, it is recommended to use sourceTensor.clone().detach() or sourceTensor.clone().detach().requires_grad_(True), rather than torch.tensor(sourceTensor).\n",
            "  gt_tensor = torch.unsqueeze(torch.tensor(gt_tensor, dtype=torch.float32),0)\n",
            "/content/DIS/IS-Net/data_loader_cache.py:131: UserWarning: `nn.functional.upsample` is deprecated. Use `nn.functional.interpolate` instead.\n",
            "  gt_tensor = F.upsample(gt_tensor, size, mode=\"bilinear\")\n",
            "/content/DIS/IS-Net/data_loader_cache.py:116: UserWarning: `nn.functional.upsample` is deprecated. Use `nn.functional.interpolate` instead.\n",
            "  im_tensor = F.upsample(im_tensor, size, mode=\"bilinear\")\n",
            "/content/DIS/IS-Net/data_loader_cache.py:130: UserWarning: To copy construct from a tensor, it is recommended to use sourceTensor.clone().detach() or sourceTensor.clone().detach().requires_grad_(True), rather than torch.tensor(sourceTensor).\n",
            "  gt_tensor = torch.unsqueeze(torch.tensor(gt_tensor, dtype=torch.float32),0)\n",
            "/content/DIS/IS-Net/data_loader_cache.py:131: UserWarning: `nn.functional.upsample` is deprecated. Use `nn.functional.interpolate` instead.\n",
            "  gt_tensor = F.upsample(gt_tensor, size, mode=\"bilinear\")\n",
            "  4%|▍         | 123/3000 [00:05<01:50, 26.12it/s]/content/DIS/IS-Net/data_loader_cache.py:116: UserWarning: `nn.functional.upsample` is deprecated. Use `nn.functional.interpolate` instead.\n",
            "  im_tensor = F.upsample(im_tensor, size, mode=\"bilinear\")\n",
            "/content/DIS/IS-Net/data_loader_cache.py:130: UserWarning: To copy construct from a tensor, it is recommended to use sourceTensor.clone().detach() or sourceTensor.clone().detach().requires_grad_(True), rather than torch.tensor(sourceTensor).\n",
            "  gt_tensor = torch.unsqueeze(torch.tensor(gt_tensor, dtype=torch.float32),0)\n",
            "/content/DIS/IS-Net/data_loader_cache.py:131: UserWarning: `nn.functional.upsample` is deprecated. Use `nn.functional.interpolate` instead.\n",
            "  gt_tensor = F.upsample(gt_tensor, size, mode=\"bilinear\")\n",
            "/content/DIS/IS-Net/data_loader_cache.py:116: UserWarning: `nn.functional.upsample` is deprecated. Use `nn.functional.interpolate` instead.\n",
            "  im_tensor = F.upsample(im_tensor, size, mode=\"bilinear\")\n",
            "/content/DIS/IS-Net/data_loader_cache.py:130: UserWarning: To copy construct from a tensor, it is recommended to use sourceTensor.clone().detach() or sourceTensor.clone().detach().requires_grad_(True), rather than torch.tensor(sourceTensor).\n",
            "  gt_tensor = torch.unsqueeze(torch.tensor(gt_tensor, dtype=torch.float32),0)\n",
            "/content/DIS/IS-Net/data_loader_cache.py:131: UserWarning: `nn.functional.upsample` is deprecated. Use `nn.functional.interpolate` instead.\n",
            "  gt_tensor = F.upsample(gt_tensor, size, mode=\"bilinear\")\n",
            "/content/DIS/IS-Net/data_loader_cache.py:116: UserWarning: `nn.functional.upsample` is deprecated. Use `nn.functional.interpolate` instead.\n",
            "  im_tensor = F.upsample(im_tensor, size, mode=\"bilinear\")\n",
            "/content/DIS/IS-Net/data_loader_cache.py:130: UserWarning: To copy construct from a tensor, it is recommended to use sourceTensor.clone().detach() or sourceTensor.clone().detach().requires_grad_(True), rather than torch.tensor(sourceTensor).\n",
            "  gt_tensor = torch.unsqueeze(torch.tensor(gt_tensor, dtype=torch.float32),0)\n",
            "/content/DIS/IS-Net/data_loader_cache.py:131: UserWarning: `nn.functional.upsample` is deprecated. Use `nn.functional.interpolate` instead.\n",
            "  gt_tensor = F.upsample(gt_tensor, size, mode=\"bilinear\")\n",
            "  4%|▍         | 126/3000 [00:05<01:52, 25.60it/s]/content/DIS/IS-Net/data_loader_cache.py:116: UserWarning: `nn.functional.upsample` is deprecated. Use `nn.functional.interpolate` instead.\n",
            "  im_tensor = F.upsample(im_tensor, size, mode=\"bilinear\")\n"
          ]
        },
        {
          "output_type": "stream",
          "name": "stdout",
          "text": [
            "im_path:  ../DIS5K/DIS-TR/im/21#Tool#3#Clock#82443928_3edffbfcaf_o.jpg\n",
            "im_path:  ../DIS5K/DIS-TR/im/20#Sports#8#Racket#47925988318_e2c3cb53a5_o.jpg\n",
            "im_path:  ../DIS5K/DIS-TR/im/11#Furniture#18#TableChair#16358095038_af4e10af57_o.jpg\n",
            "im_path:  ../DIS5K/DIS-TR/im/21#Tool#3#Clock#37962783121_be05e26cd6_o.jpg\n",
            "im_path:  ../DIS5K/DIS-TR/im/14#Kitchenware#4#Kitchenware#4835943977_84b2d7b69f_o.jpg\n",
            "im_path:  ../DIS5K/DIS-TR/im/5#Artifact#2#Cage#31788085207_e992745768_o.jpg\n"
          ]
        },
        {
          "output_type": "stream",
          "name": "stderr",
          "text": [
            "/content/DIS/IS-Net/data_loader_cache.py:130: UserWarning: To copy construct from a tensor, it is recommended to use sourceTensor.clone().detach() or sourceTensor.clone().detach().requires_grad_(True), rather than torch.tensor(sourceTensor).\n",
            "  gt_tensor = torch.unsqueeze(torch.tensor(gt_tensor, dtype=torch.float32),0)\n",
            "/content/DIS/IS-Net/data_loader_cache.py:131: UserWarning: `nn.functional.upsample` is deprecated. Use `nn.functional.interpolate` instead.\n",
            "  gt_tensor = F.upsample(gt_tensor, size, mode=\"bilinear\")\n",
            "/content/DIS/IS-Net/data_loader_cache.py:116: UserWarning: `nn.functional.upsample` is deprecated. Use `nn.functional.interpolate` instead.\n",
            "  im_tensor = F.upsample(im_tensor, size, mode=\"bilinear\")\n",
            "/content/DIS/IS-Net/data_loader_cache.py:130: UserWarning: To copy construct from a tensor, it is recommended to use sourceTensor.clone().detach() or sourceTensor.clone().detach().requires_grad_(True), rather than torch.tensor(sourceTensor).\n",
            "  gt_tensor = torch.unsqueeze(torch.tensor(gt_tensor, dtype=torch.float32),0)\n",
            "/content/DIS/IS-Net/data_loader_cache.py:131: UserWarning: `nn.functional.upsample` is deprecated. Use `nn.functional.interpolate` instead.\n",
            "  gt_tensor = F.upsample(gt_tensor, size, mode=\"bilinear\")\n",
            "/content/DIS/IS-Net/data_loader_cache.py:116: UserWarning: `nn.functional.upsample` is deprecated. Use `nn.functional.interpolate` instead.\n",
            "  im_tensor = F.upsample(im_tensor, size, mode=\"bilinear\")\n",
            "/content/DIS/IS-Net/data_loader_cache.py:130: UserWarning: To copy construct from a tensor, it is recommended to use sourceTensor.clone().detach() or sourceTensor.clone().detach().requires_grad_(True), rather than torch.tensor(sourceTensor).\n",
            "  gt_tensor = torch.unsqueeze(torch.tensor(gt_tensor, dtype=torch.float32),0)\n",
            "/content/DIS/IS-Net/data_loader_cache.py:131: UserWarning: `nn.functional.upsample` is deprecated. Use `nn.functional.interpolate` instead.\n",
            "  gt_tensor = F.upsample(gt_tensor, size, mode=\"bilinear\")\n",
            "  4%|▍         | 129/3000 [00:05<01:48, 26.36it/s]/content/DIS/IS-Net/data_loader_cache.py:116: UserWarning: `nn.functional.upsample` is deprecated. Use `nn.functional.interpolate` instead.\n",
            "  im_tensor = F.upsample(im_tensor, size, mode=\"bilinear\")\n",
            "/content/DIS/IS-Net/data_loader_cache.py:130: UserWarning: To copy construct from a tensor, it is recommended to use sourceTensor.clone().detach() or sourceTensor.clone().detach().requires_grad_(True), rather than torch.tensor(sourceTensor).\n",
            "  gt_tensor = torch.unsqueeze(torch.tensor(gt_tensor, dtype=torch.float32),0)\n",
            "/content/DIS/IS-Net/data_loader_cache.py:131: UserWarning: `nn.functional.upsample` is deprecated. Use `nn.functional.interpolate` instead.\n",
            "  gt_tensor = F.upsample(gt_tensor, size, mode=\"bilinear\")\n",
            "/content/DIS/IS-Net/data_loader_cache.py:116: UserWarning: `nn.functional.upsample` is deprecated. Use `nn.functional.interpolate` instead.\n",
            "  im_tensor = F.upsample(im_tensor, size, mode=\"bilinear\")\n",
            "/content/DIS/IS-Net/data_loader_cache.py:130: UserWarning: To copy construct from a tensor, it is recommended to use sourceTensor.clone().detach() or sourceTensor.clone().detach().requires_grad_(True), rather than torch.tensor(sourceTensor).\n",
            "  gt_tensor = torch.unsqueeze(torch.tensor(gt_tensor, dtype=torch.float32),0)\n",
            "/content/DIS/IS-Net/data_loader_cache.py:131: UserWarning: `nn.functional.upsample` is deprecated. Use `nn.functional.interpolate` instead.\n",
            "  gt_tensor = F.upsample(gt_tensor, size, mode=\"bilinear\")\n",
            "/content/DIS/IS-Net/data_loader_cache.py:116: UserWarning: `nn.functional.upsample` is deprecated. Use `nn.functional.interpolate` instead.\n",
            "  im_tensor = F.upsample(im_tensor, size, mode=\"bilinear\")\n",
            "/content/DIS/IS-Net/data_loader_cache.py:130: UserWarning: To copy construct from a tensor, it is recommended to use sourceTensor.clone().detach() or sourceTensor.clone().detach().requires_grad_(True), rather than torch.tensor(sourceTensor).\n",
            "  gt_tensor = torch.unsqueeze(torch.tensor(gt_tensor, dtype=torch.float32),0)\n",
            "/content/DIS/IS-Net/data_loader_cache.py:131: UserWarning: `nn.functional.upsample` is deprecated. Use `nn.functional.interpolate` instead.\n",
            "  gt_tensor = F.upsample(gt_tensor, size, mode=\"bilinear\")\n",
            "/content/DIS/IS-Net/data_loader_cache.py:116: UserWarning: `nn.functional.upsample` is deprecated. Use `nn.functional.interpolate` instead.\n",
            "  im_tensor = F.upsample(im_tensor, size, mode=\"bilinear\")\n",
            "/content/DIS/IS-Net/data_loader_cache.py:130: UserWarning: To copy construct from a tensor, it is recommended to use sourceTensor.clone().detach() or sourceTensor.clone().detach().requires_grad_(True), rather than torch.tensor(sourceTensor).\n",
            "  gt_tensor = torch.unsqueeze(torch.tensor(gt_tensor, dtype=torch.float32),0)\n",
            "/content/DIS/IS-Net/data_loader_cache.py:131: UserWarning: `nn.functional.upsample` is deprecated. Use `nn.functional.interpolate` instead.\n",
            "  gt_tensor = F.upsample(gt_tensor, size, mode=\"bilinear\")\n",
            "  4%|▍         | 133/3000 [00:05<01:43, 27.61it/s]/content/DIS/IS-Net/data_loader_cache.py:116: UserWarning: `nn.functional.upsample` is deprecated. Use `nn.functional.interpolate` instead.\n",
            "  im_tensor = F.upsample(im_tensor, size, mode=\"bilinear\")\n",
            "/content/DIS/IS-Net/data_loader_cache.py:130: UserWarning: To copy construct from a tensor, it is recommended to use sourceTensor.clone().detach() or sourceTensor.clone().detach().requires_grad_(True), rather than torch.tensor(sourceTensor).\n",
            "  gt_tensor = torch.unsqueeze(torch.tensor(gt_tensor, dtype=torch.float32),0)\n"
          ]
        },
        {
          "output_type": "stream",
          "name": "stdout",
          "text": [
            "im_path:  ../DIS5K/DIS-TR/im/7#Electrical#1#Cable#31300186927_58483a0c76_o.jpg\n",
            "im_path:  ../DIS5K/DIS-TR/im/11#Furniture#13#Ladder#19954507959_a81f844097_o.jpg\n",
            "im_path:  ../DIS5K/DIS-TR/im/19#Ship#4#Ship#16397584575_7073d139c4_o.jpg\n",
            "im_path:  ../DIS5K/DIS-TR/im/19#Ship#1#Boat#5977402578_23f9ef2a1b_o.jpg\n",
            "im_path:  ../DIS5K/DIS-TR/im/10#Frame#3#BicycleStand#6551156669_e3d1c4a23b_o.jpg\n",
            "im_path:  ../DIS5K/DIS-TR/im/2#Aircraft#4#Helicopter#4120329236_2d18c0f220_o.jpg\n",
            "im_path:  ../DIS5K/DIS-TR/im/11#Furniture#4#Chair#8552413610_7beb767cf9_o.jpg\n"
          ]
        },
        {
          "output_type": "stream",
          "name": "stderr",
          "text": [
            "/content/DIS/IS-Net/data_loader_cache.py:131: UserWarning: `nn.functional.upsample` is deprecated. Use `nn.functional.interpolate` instead.\n",
            "  gt_tensor = F.upsample(gt_tensor, size, mode=\"bilinear\")\n",
            "/content/DIS/IS-Net/data_loader_cache.py:116: UserWarning: `nn.functional.upsample` is deprecated. Use `nn.functional.interpolate` instead.\n",
            "  im_tensor = F.upsample(im_tensor, size, mode=\"bilinear\")\n",
            "/content/DIS/IS-Net/data_loader_cache.py:130: UserWarning: To copy construct from a tensor, it is recommended to use sourceTensor.clone().detach() or sourceTensor.clone().detach().requires_grad_(True), rather than torch.tensor(sourceTensor).\n",
            "  gt_tensor = torch.unsqueeze(torch.tensor(gt_tensor, dtype=torch.float32),0)\n",
            "/content/DIS/IS-Net/data_loader_cache.py:131: UserWarning: `nn.functional.upsample` is deprecated. Use `nn.functional.interpolate` instead.\n",
            "  gt_tensor = F.upsample(gt_tensor, size, mode=\"bilinear\")\n",
            "/content/DIS/IS-Net/data_loader_cache.py:116: UserWarning: `nn.functional.upsample` is deprecated. Use `nn.functional.interpolate` instead.\n",
            "  im_tensor = F.upsample(im_tensor, size, mode=\"bilinear\")\n",
            "/content/DIS/IS-Net/data_loader_cache.py:130: UserWarning: To copy construct from a tensor, it is recommended to use sourceTensor.clone().detach() or sourceTensor.clone().detach().requires_grad_(True), rather than torch.tensor(sourceTensor).\n",
            "  gt_tensor = torch.unsqueeze(torch.tensor(gt_tensor, dtype=torch.float32),0)\n",
            "/content/DIS/IS-Net/data_loader_cache.py:131: UserWarning: `nn.functional.upsample` is deprecated. Use `nn.functional.interpolate` instead.\n",
            "  gt_tensor = F.upsample(gt_tensor, size, mode=\"bilinear\")\n",
            "  5%|▍         | 136/3000 [00:05<01:42, 27.88it/s]/content/DIS/IS-Net/data_loader_cache.py:116: UserWarning: `nn.functional.upsample` is deprecated. Use `nn.functional.interpolate` instead.\n",
            "  im_tensor = F.upsample(im_tensor, size, mode=\"bilinear\")\n",
            "/content/DIS/IS-Net/data_loader_cache.py:130: UserWarning: To copy construct from a tensor, it is recommended to use sourceTensor.clone().detach() or sourceTensor.clone().detach().requires_grad_(True), rather than torch.tensor(sourceTensor).\n",
            "  gt_tensor = torch.unsqueeze(torch.tensor(gt_tensor, dtype=torch.float32),0)\n",
            "/content/DIS/IS-Net/data_loader_cache.py:131: UserWarning: `nn.functional.upsample` is deprecated. Use `nn.functional.interpolate` instead.\n",
            "  gt_tensor = F.upsample(gt_tensor, size, mode=\"bilinear\")\n",
            "/content/DIS/IS-Net/data_loader_cache.py:116: UserWarning: `nn.functional.upsample` is deprecated. Use `nn.functional.interpolate` instead.\n",
            "  im_tensor = F.upsample(im_tensor, size, mode=\"bilinear\")\n",
            "/content/DIS/IS-Net/data_loader_cache.py:130: UserWarning: To copy construct from a tensor, it is recommended to use sourceTensor.clone().detach() or sourceTensor.clone().detach().requires_grad_(True), rather than torch.tensor(sourceTensor).\n",
            "  gt_tensor = torch.unsqueeze(torch.tensor(gt_tensor, dtype=torch.float32),0)\n",
            "/content/DIS/IS-Net/data_loader_cache.py:131: UserWarning: `nn.functional.upsample` is deprecated. Use `nn.functional.interpolate` instead.\n",
            "  gt_tensor = F.upsample(gt_tensor, size, mode=\"bilinear\")\n",
            "/content/DIS/IS-Net/data_loader_cache.py:116: UserWarning: `nn.functional.upsample` is deprecated. Use `nn.functional.interpolate` instead.\n",
            "  im_tensor = F.upsample(im_tensor, size, mode=\"bilinear\")\n",
            "/content/DIS/IS-Net/data_loader_cache.py:130: UserWarning: To copy construct from a tensor, it is recommended to use sourceTensor.clone().detach() or sourceTensor.clone().detach().requires_grad_(True), rather than torch.tensor(sourceTensor).\n",
            "  gt_tensor = torch.unsqueeze(torch.tensor(gt_tensor, dtype=torch.float32),0)\n",
            "/content/DIS/IS-Net/data_loader_cache.py:131: UserWarning: `nn.functional.upsample` is deprecated. Use `nn.functional.interpolate` instead.\n",
            "  gt_tensor = F.upsample(gt_tensor, size, mode=\"bilinear\")\n",
            "  5%|▍         | 139/3000 [00:05<01:41, 28.30it/s]/content/DIS/IS-Net/data_loader_cache.py:116: UserWarning: `nn.functional.upsample` is deprecated. Use `nn.functional.interpolate` instead.\n",
            "  im_tensor = F.upsample(im_tensor, size, mode=\"bilinear\")\n",
            "/content/DIS/IS-Net/data_loader_cache.py:130: UserWarning: To copy construct from a tensor, it is recommended to use sourceTensor.clone().detach() or sourceTensor.clone().detach().requires_grad_(True), rather than torch.tensor(sourceTensor).\n",
            "  gt_tensor = torch.unsqueeze(torch.tensor(gt_tensor, dtype=torch.float32),0)\n",
            "/content/DIS/IS-Net/data_loader_cache.py:131: UserWarning: `nn.functional.upsample` is deprecated. Use `nn.functional.interpolate` instead.\n",
            "  gt_tensor = F.upsample(gt_tensor, size, mode=\"bilinear\")\n",
            "/content/DIS/IS-Net/data_loader_cache.py:116: UserWarning: `nn.functional.upsample` is deprecated. Use `nn.functional.interpolate` instead.\n",
            "  im_tensor = F.upsample(im_tensor, size, mode=\"bilinear\")\n"
          ]
        },
        {
          "output_type": "stream",
          "name": "stdout",
          "text": [
            "im_path:  ../DIS5K/DIS-TR/im/9#Entertainment#6#Trampoline#4629462007_b18982b401_o.jpg\n",
            "im_path:  ../DIS5K/DIS-TR/im/4#Architecture#2#Bridge#36126558790_322ce0bcb3_o.jpg\n",
            "im_path:  ../DIS5K/DIS-TR/im/16#Music Instrument#4#Piano#5200111945_d2a54e1860_o.jpg\n",
            "im_path:  ../DIS5K/DIS-TR/im/15#Machine#3#PlowHarrow#29758935506_84606a6de1_o.jpg\n",
            "im_path:  ../DIS5K/DIS-TR/im/11#Furniture#12#IroningTable#24615876_19a2c386db_o.jpg\n",
            "im_path:  ../DIS5K/DIS-TR/im/11#Furniture#4#Chair#51097550083_c227cf71d9_o.jpg\n"
          ]
        },
        {
          "output_type": "stream",
          "name": "stderr",
          "text": [
            "/content/DIS/IS-Net/data_loader_cache.py:130: UserWarning: To copy construct from a tensor, it is recommended to use sourceTensor.clone().detach() or sourceTensor.clone().detach().requires_grad_(True), rather than torch.tensor(sourceTensor).\n",
            "  gt_tensor = torch.unsqueeze(torch.tensor(gt_tensor, dtype=torch.float32),0)\n",
            "/content/DIS/IS-Net/data_loader_cache.py:131: UserWarning: `nn.functional.upsample` is deprecated. Use `nn.functional.interpolate` instead.\n",
            "  gt_tensor = F.upsample(gt_tensor, size, mode=\"bilinear\")\n",
            "/content/DIS/IS-Net/data_loader_cache.py:116: UserWarning: `nn.functional.upsample` is deprecated. Use `nn.functional.interpolate` instead.\n",
            "  im_tensor = F.upsample(im_tensor, size, mode=\"bilinear\")\n",
            "/content/DIS/IS-Net/data_loader_cache.py:130: UserWarning: To copy construct from a tensor, it is recommended to use sourceTensor.clone().detach() or sourceTensor.clone().detach().requires_grad_(True), rather than torch.tensor(sourceTensor).\n",
            "  gt_tensor = torch.unsqueeze(torch.tensor(gt_tensor, dtype=torch.float32),0)\n",
            "/content/DIS/IS-Net/data_loader_cache.py:131: UserWarning: `nn.functional.upsample` is deprecated. Use `nn.functional.interpolate` instead.\n",
            "  gt_tensor = F.upsample(gt_tensor, size, mode=\"bilinear\")\n",
            "  5%|▍         | 142/3000 [00:05<01:39, 28.63it/s]/content/DIS/IS-Net/data_loader_cache.py:116: UserWarning: `nn.functional.upsample` is deprecated. Use `nn.functional.interpolate` instead.\n",
            "  im_tensor = F.upsample(im_tensor, size, mode=\"bilinear\")\n",
            "/content/DIS/IS-Net/data_loader_cache.py:130: UserWarning: To copy construct from a tensor, it is recommended to use sourceTensor.clone().detach() or sourceTensor.clone().detach().requires_grad_(True), rather than torch.tensor(sourceTensor).\n",
            "  gt_tensor = torch.unsqueeze(torch.tensor(gt_tensor, dtype=torch.float32),0)\n",
            "/content/DIS/IS-Net/data_loader_cache.py:131: UserWarning: `nn.functional.upsample` is deprecated. Use `nn.functional.interpolate` instead.\n",
            "  gt_tensor = F.upsample(gt_tensor, size, mode=\"bilinear\")\n",
            "/content/DIS/IS-Net/data_loader_cache.py:116: UserWarning: `nn.functional.upsample` is deprecated. Use `nn.functional.interpolate` instead.\n",
            "  im_tensor = F.upsample(im_tensor, size, mode=\"bilinear\")\n",
            "/content/DIS/IS-Net/data_loader_cache.py:130: UserWarning: To copy construct from a tensor, it is recommended to use sourceTensor.clone().detach() or sourceTensor.clone().detach().requires_grad_(True), rather than torch.tensor(sourceTensor).\n",
            "  gt_tensor = torch.unsqueeze(torch.tensor(gt_tensor, dtype=torch.float32),0)\n",
            "/content/DIS/IS-Net/data_loader_cache.py:131: UserWarning: `nn.functional.upsample` is deprecated. Use `nn.functional.interpolate` instead.\n",
            "  gt_tensor = F.upsample(gt_tensor, size, mode=\"bilinear\")\n",
            "/content/DIS/IS-Net/data_loader_cache.py:116: UserWarning: `nn.functional.upsample` is deprecated. Use `nn.functional.interpolate` instead.\n",
            "  im_tensor = F.upsample(im_tensor, size, mode=\"bilinear\")\n",
            "/content/DIS/IS-Net/data_loader_cache.py:130: UserWarning: To copy construct from a tensor, it is recommended to use sourceTensor.clone().detach() or sourceTensor.clone().detach().requires_grad_(True), rather than torch.tensor(sourceTensor).\n",
            "  gt_tensor = torch.unsqueeze(torch.tensor(gt_tensor, dtype=torch.float32),0)\n",
            "/content/DIS/IS-Net/data_loader_cache.py:131: UserWarning: `nn.functional.upsample` is deprecated. Use `nn.functional.interpolate` instead.\n",
            "  gt_tensor = F.upsample(gt_tensor, size, mode=\"bilinear\")\n",
            "  5%|▍         | 145/3000 [00:05<01:39, 28.79it/s]/content/DIS/IS-Net/data_loader_cache.py:116: UserWarning: `nn.functional.upsample` is deprecated. Use `nn.functional.interpolate` instead.\n",
            "  im_tensor = F.upsample(im_tensor, size, mode=\"bilinear\")\n",
            "/content/DIS/IS-Net/data_loader_cache.py:130: UserWarning: To copy construct from a tensor, it is recommended to use sourceTensor.clone().detach() or sourceTensor.clone().detach().requires_grad_(True), rather than torch.tensor(sourceTensor).\n",
            "  gt_tensor = torch.unsqueeze(torch.tensor(gt_tensor, dtype=torch.float32),0)\n",
            "/content/DIS/IS-Net/data_loader_cache.py:131: UserWarning: `nn.functional.upsample` is deprecated. Use `nn.functional.interpolate` instead.\n",
            "  gt_tensor = F.upsample(gt_tensor, size, mode=\"bilinear\")\n",
            "/content/DIS/IS-Net/data_loader_cache.py:116: UserWarning: `nn.functional.upsample` is deprecated. Use `nn.functional.interpolate` instead.\n",
            "  im_tensor = F.upsample(im_tensor, size, mode=\"bilinear\")\n"
          ]
        },
        {
          "output_type": "stream",
          "name": "stdout",
          "text": [
            "im_path:  ../DIS5K/DIS-TR/im/2#Aircraft#1#Airplane#6430536965_c7af690b2b_o.jpg\n",
            "im_path:  ../DIS5K/DIS-TR/im/4#Architecture#13#Sculpture#22435886198_6bc5c06cf2_o.jpg\n",
            "im_path:  ../DIS5K/DIS-TR/im/4#Architecture#5#GasStation#27247240889_faa80b5011_o.jpg\n",
            "im_path:  ../DIS5K/DIS-TR/im/6#Automobile#3#Car#50250773211_d54678a002_o.jpg\n",
            "im_path:  ../DIS5K/DIS-TR/im/17#Non-motor Vehicle#12#Wheel#5968804446_57bf37caf0_o.jpg\n",
            "im_path:  ../DIS5K/DIS-TR/im/11#Furniture#18#TableChair#2773299946_2a9221e3e2_o.jpg\n"
          ]
        },
        {
          "output_type": "stream",
          "name": "stderr",
          "text": [
            "/content/DIS/IS-Net/data_loader_cache.py:130: UserWarning: To copy construct from a tensor, it is recommended to use sourceTensor.clone().detach() or sourceTensor.clone().detach().requires_grad_(True), rather than torch.tensor(sourceTensor).\n",
            "  gt_tensor = torch.unsqueeze(torch.tensor(gt_tensor, dtype=torch.float32),0)\n",
            "/content/DIS/IS-Net/data_loader_cache.py:131: UserWarning: `nn.functional.upsample` is deprecated. Use `nn.functional.interpolate` instead.\n",
            "  gt_tensor = F.upsample(gt_tensor, size, mode=\"bilinear\")\n",
            "/content/DIS/IS-Net/data_loader_cache.py:116: UserWarning: `nn.functional.upsample` is deprecated. Use `nn.functional.interpolate` instead.\n",
            "  im_tensor = F.upsample(im_tensor, size, mode=\"bilinear\")\n",
            "/content/DIS/IS-Net/data_loader_cache.py:130: UserWarning: To copy construct from a tensor, it is recommended to use sourceTensor.clone().detach() or sourceTensor.clone().detach().requires_grad_(True), rather than torch.tensor(sourceTensor).\n",
            "  gt_tensor = torch.unsqueeze(torch.tensor(gt_tensor, dtype=torch.float32),0)\n",
            "/content/DIS/IS-Net/data_loader_cache.py:131: UserWarning: `nn.functional.upsample` is deprecated. Use `nn.functional.interpolate` instead.\n",
            "  gt_tensor = F.upsample(gt_tensor, size, mode=\"bilinear\")\n",
            "  5%|▍         | 148/3000 [00:05<01:42, 27.74it/s]/content/DIS/IS-Net/data_loader_cache.py:116: UserWarning: `nn.functional.upsample` is deprecated. Use `nn.functional.interpolate` instead.\n",
            "  im_tensor = F.upsample(im_tensor, size, mode=\"bilinear\")\n",
            "/content/DIS/IS-Net/data_loader_cache.py:130: UserWarning: To copy construct from a tensor, it is recommended to use sourceTensor.clone().detach() or sourceTensor.clone().detach().requires_grad_(True), rather than torch.tensor(sourceTensor).\n",
            "  gt_tensor = torch.unsqueeze(torch.tensor(gt_tensor, dtype=torch.float32),0)\n",
            "/content/DIS/IS-Net/data_loader_cache.py:131: UserWarning: `nn.functional.upsample` is deprecated. Use `nn.functional.interpolate` instead.\n",
            "  gt_tensor = F.upsample(gt_tensor, size, mode=\"bilinear\")\n",
            "/content/DIS/IS-Net/data_loader_cache.py:116: UserWarning: `nn.functional.upsample` is deprecated. Use `nn.functional.interpolate` instead.\n",
            "  im_tensor = F.upsample(im_tensor, size, mode=\"bilinear\")\n",
            "/content/DIS/IS-Net/data_loader_cache.py:130: UserWarning: To copy construct from a tensor, it is recommended to use sourceTensor.clone().detach() or sourceTensor.clone().detach().requires_grad_(True), rather than torch.tensor(sourceTensor).\n",
            "  gt_tensor = torch.unsqueeze(torch.tensor(gt_tensor, dtype=torch.float32),0)\n",
            "/content/DIS/IS-Net/data_loader_cache.py:131: UserWarning: `nn.functional.upsample` is deprecated. Use `nn.functional.interpolate` instead.\n",
            "  gt_tensor = F.upsample(gt_tensor, size, mode=\"bilinear\")\n",
            "/content/DIS/IS-Net/data_loader_cache.py:116: UserWarning: `nn.functional.upsample` is deprecated. Use `nn.functional.interpolate` instead.\n",
            "  im_tensor = F.upsample(im_tensor, size, mode=\"bilinear\")\n",
            "/content/DIS/IS-Net/data_loader_cache.py:130: UserWarning: To copy construct from a tensor, it is recommended to use sourceTensor.clone().detach() or sourceTensor.clone().detach().requires_grad_(True), rather than torch.tensor(sourceTensor).\n",
            "  gt_tensor = torch.unsqueeze(torch.tensor(gt_tensor, dtype=torch.float32),0)\n",
            "/content/DIS/IS-Net/data_loader_cache.py:131: UserWarning: `nn.functional.upsample` is deprecated. Use `nn.functional.interpolate` instead.\n",
            "  gt_tensor = F.upsample(gt_tensor, size, mode=\"bilinear\")\n",
            "  5%|▌         | 151/3000 [00:06<01:48, 26.17it/s]/content/DIS/IS-Net/data_loader_cache.py:116: UserWarning: `nn.functional.upsample` is deprecated. Use `nn.functional.interpolate` instead.\n",
            "  im_tensor = F.upsample(im_tensor, size, mode=\"bilinear\")\n"
          ]
        },
        {
          "output_type": "stream",
          "name": "stdout",
          "text": [
            "im_path:  ../DIS5K/DIS-TR/im/11#Furniture#14#LaundryRack#5355726091_515e1ceb50_o.jpg\n",
            "im_path:  ../DIS5K/DIS-TR/im/6#Automobile#12#Truck#6988445036_a5917b5442_o.jpg\n",
            "im_path:  ../DIS5K/DIS-TR/im/6#Automobile#5#Crane#27368528725_0f26b22a22_o.jpg\n",
            "im_path:  ../DIS5K/DIS-TR/im/9#Entertainment#3#OutdoorFitnessEquipment#4204402563_68e1ff2409_o.jpg\n",
            "im_path:  ../DIS5K/DIS-TR/im/17#Non-motor Vehicle#9#ShoppingCart#IMG_20210716_203929.jpg\n"
          ]
        },
        {
          "output_type": "stream",
          "name": "stderr",
          "text": [
            "/content/DIS/IS-Net/data_loader_cache.py:130: UserWarning: To copy construct from a tensor, it is recommended to use sourceTensor.clone().detach() or sourceTensor.clone().detach().requires_grad_(True), rather than torch.tensor(sourceTensor).\n",
            "  gt_tensor = torch.unsqueeze(torch.tensor(gt_tensor, dtype=torch.float32),0)\n",
            "/content/DIS/IS-Net/data_loader_cache.py:131: UserWarning: `nn.functional.upsample` is deprecated. Use `nn.functional.interpolate` instead.\n",
            "  gt_tensor = F.upsample(gt_tensor, size, mode=\"bilinear\")\n",
            "/content/DIS/IS-Net/data_loader_cache.py:116: UserWarning: `nn.functional.upsample` is deprecated. Use `nn.functional.interpolate` instead.\n",
            "  im_tensor = F.upsample(im_tensor, size, mode=\"bilinear\")\n",
            "/content/DIS/IS-Net/data_loader_cache.py:130: UserWarning: To copy construct from a tensor, it is recommended to use sourceTensor.clone().detach() or sourceTensor.clone().detach().requires_grad_(True), rather than torch.tensor(sourceTensor).\n",
            "  gt_tensor = torch.unsqueeze(torch.tensor(gt_tensor, dtype=torch.float32),0)\n",
            "/content/DIS/IS-Net/data_loader_cache.py:131: UserWarning: `nn.functional.upsample` is deprecated. Use `nn.functional.interpolate` instead.\n",
            "  gt_tensor = F.upsample(gt_tensor, size, mode=\"bilinear\")\n",
            "/content/DIS/IS-Net/data_loader_cache.py:116: UserWarning: `nn.functional.upsample` is deprecated. Use `nn.functional.interpolate` instead.\n",
            "  im_tensor = F.upsample(im_tensor, size, mode=\"bilinear\")\n",
            "/content/DIS/IS-Net/data_loader_cache.py:130: UserWarning: To copy construct from a tensor, it is recommended to use sourceTensor.clone().detach() or sourceTensor.clone().detach().requires_grad_(True), rather than torch.tensor(sourceTensor).\n",
            "  gt_tensor = torch.unsqueeze(torch.tensor(gt_tensor, dtype=torch.float32),0)\n",
            "/content/DIS/IS-Net/data_loader_cache.py:131: UserWarning: `nn.functional.upsample` is deprecated. Use `nn.functional.interpolate` instead.\n",
            "  gt_tensor = F.upsample(gt_tensor, size, mode=\"bilinear\")\n",
            "  5%|▌         | 154/3000 [00:06<01:51, 25.50it/s]/content/DIS/IS-Net/data_loader_cache.py:116: UserWarning: `nn.functional.upsample` is deprecated. Use `nn.functional.interpolate` instead.\n",
            "  im_tensor = F.upsample(im_tensor, size, mode=\"bilinear\")\n",
            "/content/DIS/IS-Net/data_loader_cache.py:130: UserWarning: To copy construct from a tensor, it is recommended to use sourceTensor.clone().detach() or sourceTensor.clone().detach().requires_grad_(True), rather than torch.tensor(sourceTensor).\n",
            "  gt_tensor = torch.unsqueeze(torch.tensor(gt_tensor, dtype=torch.float32),0)\n",
            "/content/DIS/IS-Net/data_loader_cache.py:131: UserWarning: `nn.functional.upsample` is deprecated. Use `nn.functional.interpolate` instead.\n",
            "  gt_tensor = F.upsample(gt_tensor, size, mode=\"bilinear\")\n",
            "/content/DIS/IS-Net/data_loader_cache.py:116: UserWarning: `nn.functional.upsample` is deprecated. Use `nn.functional.interpolate` instead.\n",
            "  im_tensor = F.upsample(im_tensor, size, mode=\"bilinear\")\n",
            "/content/DIS/IS-Net/data_loader_cache.py:130: UserWarning: To copy construct from a tensor, it is recommended to use sourceTensor.clone().detach() or sourceTensor.clone().detach().requires_grad_(True), rather than torch.tensor(sourceTensor).\n",
            "  gt_tensor = torch.unsqueeze(torch.tensor(gt_tensor, dtype=torch.float32),0)\n",
            "/content/DIS/IS-Net/data_loader_cache.py:131: UserWarning: `nn.functional.upsample` is deprecated. Use `nn.functional.interpolate` instead.\n",
            "  gt_tensor = F.upsample(gt_tensor, size, mode=\"bilinear\")\n",
            "/content/DIS/IS-Net/data_loader_cache.py:116: UserWarning: `nn.functional.upsample` is deprecated. Use `nn.functional.interpolate` instead.\n",
            "  im_tensor = F.upsample(im_tensor, size, mode=\"bilinear\")\n",
            "/content/DIS/IS-Net/data_loader_cache.py:130: UserWarning: To copy construct from a tensor, it is recommended to use sourceTensor.clone().detach() or sourceTensor.clone().detach().requires_grad_(True), rather than torch.tensor(sourceTensor).\n",
            "  gt_tensor = torch.unsqueeze(torch.tensor(gt_tensor, dtype=torch.float32),0)\n",
            "/content/DIS/IS-Net/data_loader_cache.py:131: UserWarning: `nn.functional.upsample` is deprecated. Use `nn.functional.interpolate` instead.\n",
            "  gt_tensor = F.upsample(gt_tensor, size, mode=\"bilinear\")\n",
            "  5%|▌         | 157/3000 [00:06<01:52, 25.33it/s]"
          ]
        },
        {
          "output_type": "stream",
          "name": "stdout",
          "text": [
            "im_path:  ../DIS5K/DIS-TR/im/21#Tool#19#Button#IMG_20210518_095344.jpg\n",
            "im_path:  ../DIS5K/DIS-TR/im/6#Automobile#7#Forklift#15247812934_5631f94053_o.jpg\n",
            "im_path:  ../DIS5K/DIS-TR/im/20#Sports#9#RockClimbing#8431155135_c5d3de4392_o.jpg\n",
            "im_path:  ../DIS5K/DIS-TR/im/21#Tool#17#Tripod#3241458269_8b4449e1ea_o.jpg\n",
            "im_path:  ../DIS5K/DIS-TR/im/7#Electrical#6#StreetLamp#23764111191_1f9cb1be86_o.jpg\n",
            "im_path:  ../DIS5K/DIS-TR/im/21#Tool#17#Tripod#11033347325_c77ec18254_o.jpg\n"
          ]
        },
        {
          "output_type": "stream",
          "name": "stderr",
          "text": [
            "/content/DIS/IS-Net/data_loader_cache.py:116: UserWarning: `nn.functional.upsample` is deprecated. Use `nn.functional.interpolate` instead.\n",
            "  im_tensor = F.upsample(im_tensor, size, mode=\"bilinear\")\n",
            "/content/DIS/IS-Net/data_loader_cache.py:130: UserWarning: To copy construct from a tensor, it is recommended to use sourceTensor.clone().detach() or sourceTensor.clone().detach().requires_grad_(True), rather than torch.tensor(sourceTensor).\n",
            "  gt_tensor = torch.unsqueeze(torch.tensor(gt_tensor, dtype=torch.float32),0)\n",
            "/content/DIS/IS-Net/data_loader_cache.py:131: UserWarning: `nn.functional.upsample` is deprecated. Use `nn.functional.interpolate` instead.\n",
            "  gt_tensor = F.upsample(gt_tensor, size, mode=\"bilinear\")\n",
            "/content/DIS/IS-Net/data_loader_cache.py:116: UserWarning: `nn.functional.upsample` is deprecated. Use `nn.functional.interpolate` instead.\n",
            "  im_tensor = F.upsample(im_tensor, size, mode=\"bilinear\")\n",
            "/content/DIS/IS-Net/data_loader_cache.py:130: UserWarning: To copy construct from a tensor, it is recommended to use sourceTensor.clone().detach() or sourceTensor.clone().detach().requires_grad_(True), rather than torch.tensor(sourceTensor).\n",
            "  gt_tensor = torch.unsqueeze(torch.tensor(gt_tensor, dtype=torch.float32),0)\n",
            "/content/DIS/IS-Net/data_loader_cache.py:131: UserWarning: `nn.functional.upsample` is deprecated. Use `nn.functional.interpolate` instead.\n",
            "  gt_tensor = F.upsample(gt_tensor, size, mode=\"bilinear\")\n",
            "/content/DIS/IS-Net/data_loader_cache.py:116: UserWarning: `nn.functional.upsample` is deprecated. Use `nn.functional.interpolate` instead.\n",
            "  im_tensor = F.upsample(im_tensor, size, mode=\"bilinear\")\n",
            "/content/DIS/IS-Net/data_loader_cache.py:130: UserWarning: To copy construct from a tensor, it is recommended to use sourceTensor.clone().detach() or sourceTensor.clone().detach().requires_grad_(True), rather than torch.tensor(sourceTensor).\n",
            "  gt_tensor = torch.unsqueeze(torch.tensor(gt_tensor, dtype=torch.float32),0)\n",
            "/content/DIS/IS-Net/data_loader_cache.py:131: UserWarning: `nn.functional.upsample` is deprecated. Use `nn.functional.interpolate` instead.\n",
            "  gt_tensor = F.upsample(gt_tensor, size, mode=\"bilinear\")\n",
            "  5%|▌         | 160/3000 [00:06<01:54, 24.77it/s]/content/DIS/IS-Net/data_loader_cache.py:116: UserWarning: `nn.functional.upsample` is deprecated. Use `nn.functional.interpolate` instead.\n",
            "  im_tensor = F.upsample(im_tensor, size, mode=\"bilinear\")\n",
            "/content/DIS/IS-Net/data_loader_cache.py:130: UserWarning: To copy construct from a tensor, it is recommended to use sourceTensor.clone().detach() or sourceTensor.clone().detach().requires_grad_(True), rather than torch.tensor(sourceTensor).\n",
            "  gt_tensor = torch.unsqueeze(torch.tensor(gt_tensor, dtype=torch.float32),0)\n",
            "/content/DIS/IS-Net/data_loader_cache.py:131: UserWarning: `nn.functional.upsample` is deprecated. Use `nn.functional.interpolate` instead.\n",
            "  gt_tensor = F.upsample(gt_tensor, size, mode=\"bilinear\")\n",
            "/content/DIS/IS-Net/data_loader_cache.py:116: UserWarning: `nn.functional.upsample` is deprecated. Use `nn.functional.interpolate` instead.\n",
            "  im_tensor = F.upsample(im_tensor, size, mode=\"bilinear\")\n",
            "/content/DIS/IS-Net/data_loader_cache.py:130: UserWarning: To copy construct from a tensor, it is recommended to use sourceTensor.clone().detach() or sourceTensor.clone().detach().requires_grad_(True), rather than torch.tensor(sourceTensor).\n",
            "  gt_tensor = torch.unsqueeze(torch.tensor(gt_tensor, dtype=torch.float32),0)\n",
            "/content/DIS/IS-Net/data_loader_cache.py:131: UserWarning: `nn.functional.upsample` is deprecated. Use `nn.functional.interpolate` instead.\n",
            "  gt_tensor = F.upsample(gt_tensor, size, mode=\"bilinear\")\n"
          ]
        },
        {
          "output_type": "stream",
          "name": "stdout",
          "text": [
            "im_path:  ../DIS5K/DIS-TR/im/7#Electrical#10#UtilityPole#48412382392_69c9451d4d_o.jpg\n",
            "im_path:  ../DIS5K/DIS-TR/im/9#Entertainment#3#OutdoorFitnessEquipment#2421442272_caa5efd7ff_o.jpg\n",
            "im_path:  ../DIS5K/DIS-TR/im/17#Non-motor Vehicle#2#Bicycle#235861501_cd763a4a2f_o.jpg\n",
            "im_path:  ../DIS5K/DIS-TR/im/3#Aquatic#5#Shrimp#17569616475_03b278f7e7_o.jpg\n",
            "im_path:  ../DIS5K/DIS-TR/im/16#Music Instrument#2#Harp#26643292765_aaa7932c90_o.jpg\n"
          ]
        },
        {
          "output_type": "stream",
          "name": "stderr",
          "text": [
            "/content/DIS/IS-Net/data_loader_cache.py:116: UserWarning: `nn.functional.upsample` is deprecated. Use `nn.functional.interpolate` instead.\n",
            "  im_tensor = F.upsample(im_tensor, size, mode=\"bilinear\")\n",
            "/content/DIS/IS-Net/data_loader_cache.py:130: UserWarning: To copy construct from a tensor, it is recommended to use sourceTensor.clone().detach() or sourceTensor.clone().detach().requires_grad_(True), rather than torch.tensor(sourceTensor).\n",
            "  gt_tensor = torch.unsqueeze(torch.tensor(gt_tensor, dtype=torch.float32),0)\n",
            "/content/DIS/IS-Net/data_loader_cache.py:131: UserWarning: `nn.functional.upsample` is deprecated. Use `nn.functional.interpolate` instead.\n",
            "  gt_tensor = F.upsample(gt_tensor, size, mode=\"bilinear\")\n",
            "  5%|▌         | 163/3000 [00:06<01:58, 23.95it/s]/content/DIS/IS-Net/data_loader_cache.py:116: UserWarning: `nn.functional.upsample` is deprecated. Use `nn.functional.interpolate` instead.\n",
            "  im_tensor = F.upsample(im_tensor, size, mode=\"bilinear\")\n",
            "/content/DIS/IS-Net/data_loader_cache.py:130: UserWarning: To copy construct from a tensor, it is recommended to use sourceTensor.clone().detach() or sourceTensor.clone().detach().requires_grad_(True), rather than torch.tensor(sourceTensor).\n",
            "  gt_tensor = torch.unsqueeze(torch.tensor(gt_tensor, dtype=torch.float32),0)\n",
            "/content/DIS/IS-Net/data_loader_cache.py:131: UserWarning: `nn.functional.upsample` is deprecated. Use `nn.functional.interpolate` instead.\n",
            "  gt_tensor = F.upsample(gt_tensor, size, mode=\"bilinear\")\n",
            "/content/DIS/IS-Net/data_loader_cache.py:116: UserWarning: `nn.functional.upsample` is deprecated. Use `nn.functional.interpolate` instead.\n",
            "  im_tensor = F.upsample(im_tensor, size, mode=\"bilinear\")\n",
            "/content/DIS/IS-Net/data_loader_cache.py:130: UserWarning: To copy construct from a tensor, it is recommended to use sourceTensor.clone().detach() or sourceTensor.clone().detach().requires_grad_(True), rather than torch.tensor(sourceTensor).\n",
            "  gt_tensor = torch.unsqueeze(torch.tensor(gt_tensor, dtype=torch.float32),0)\n",
            "/content/DIS/IS-Net/data_loader_cache.py:131: UserWarning: `nn.functional.upsample` is deprecated. Use `nn.functional.interpolate` instead.\n",
            "  gt_tensor = F.upsample(gt_tensor, size, mode=\"bilinear\")\n",
            "/content/DIS/IS-Net/data_loader_cache.py:116: UserWarning: `nn.functional.upsample` is deprecated. Use `nn.functional.interpolate` instead.\n",
            "  im_tensor = F.upsample(im_tensor, size, mode=\"bilinear\")\n",
            "/content/DIS/IS-Net/data_loader_cache.py:130: UserWarning: To copy construct from a tensor, it is recommended to use sourceTensor.clone().detach() or sourceTensor.clone().detach().requires_grad_(True), rather than torch.tensor(sourceTensor).\n",
            "  gt_tensor = torch.unsqueeze(torch.tensor(gt_tensor, dtype=torch.float32),0)\n",
            "/content/DIS/IS-Net/data_loader_cache.py:131: UserWarning: `nn.functional.upsample` is deprecated. Use `nn.functional.interpolate` instead.\n",
            "  gt_tensor = F.upsample(gt_tensor, size, mode=\"bilinear\")\n",
            "  6%|▌         | 166/3000 [00:06<01:53, 25.07it/s]/content/DIS/IS-Net/data_loader_cache.py:116: UserWarning: `nn.functional.upsample` is deprecated. Use `nn.functional.interpolate` instead.\n",
            "  im_tensor = F.upsample(im_tensor, size, mode=\"bilinear\")\n",
            "/content/DIS/IS-Net/data_loader_cache.py:130: UserWarning: To copy construct from a tensor, it is recommended to use sourceTensor.clone().detach() or sourceTensor.clone().detach().requires_grad_(True), rather than torch.tensor(sourceTensor).\n",
            "  gt_tensor = torch.unsqueeze(torch.tensor(gt_tensor, dtype=torch.float32),0)\n",
            "/content/DIS/IS-Net/data_loader_cache.py:131: UserWarning: `nn.functional.upsample` is deprecated. Use `nn.functional.interpolate` instead.\n",
            "  gt_tensor = F.upsample(gt_tensor, size, mode=\"bilinear\")\n",
            "/content/DIS/IS-Net/data_loader_cache.py:116: UserWarning: `nn.functional.upsample` is deprecated. Use `nn.functional.interpolate` instead.\n",
            "  im_tensor = F.upsample(im_tensor, size, mode=\"bilinear\")\n",
            "/content/DIS/IS-Net/data_loader_cache.py:130: UserWarning: To copy construct from a tensor, it is recommended to use sourceTensor.clone().detach() or sourceTensor.clone().detach().requires_grad_(True), rather than torch.tensor(sourceTensor).\n",
            "  gt_tensor = torch.unsqueeze(torch.tensor(gt_tensor, dtype=torch.float32),0)\n",
            "/content/DIS/IS-Net/data_loader_cache.py:131: UserWarning: `nn.functional.upsample` is deprecated. Use `nn.functional.interpolate` instead.\n",
            "  gt_tensor = F.upsample(gt_tensor, size, mode=\"bilinear\")\n",
            "/content/DIS/IS-Net/data_loader_cache.py:116: UserWarning: `nn.functional.upsample` is deprecated. Use `nn.functional.interpolate` instead.\n",
            "  im_tensor = F.upsample(im_tensor, size, mode=\"bilinear\")\n"
          ]
        },
        {
          "output_type": "stream",
          "name": "stdout",
          "text": [
            "im_path:  ../DIS5K/DIS-TR/im/21#Tool#12#Stationary#400423277_49d5c2cac4_o.jpg\n",
            "im_path:  ../DIS5K/DIS-TR/im/10#Frame#5#Rack#5938176086_de836f8d56_o.jpg\n",
            "im_path:  ../DIS5K/DIS-TR/im/17#Non-motor Vehicle#4#Cart#3891333700_5083c87380_o.jpg\n",
            "im_path:  ../DIS5K/DIS-TR/im/16#Music Instrument#6#Trumpet#30835634128_eb581221e4_o.jpg\n",
            "im_path:  ../DIS5K/DIS-TR/im/12#Graphics#2#OlympicLogo#8130692468_92d34e27dc_o.jpg\n",
            "im_path:  ../DIS5K/DIS-TR/im/4#Architecture#4#Fence#4882746396_7d70e51135_o.jpg\n"
          ]
        },
        {
          "output_type": "stream",
          "name": "stderr",
          "text": [
            "/content/DIS/IS-Net/data_loader_cache.py:130: UserWarning: To copy construct from a tensor, it is recommended to use sourceTensor.clone().detach() or sourceTensor.clone().detach().requires_grad_(True), rather than torch.tensor(sourceTensor).\n",
            "  gt_tensor = torch.unsqueeze(torch.tensor(gt_tensor, dtype=torch.float32),0)\n",
            "/content/DIS/IS-Net/data_loader_cache.py:131: UserWarning: `nn.functional.upsample` is deprecated. Use `nn.functional.interpolate` instead.\n",
            "  gt_tensor = F.upsample(gt_tensor, size, mode=\"bilinear\")\n",
            "\r  6%|▌         | 169/3000 [00:06<01:48, 26.13it/s]/content/DIS/IS-Net/data_loader_cache.py:116: UserWarning: `nn.functional.upsample` is deprecated. Use `nn.functional.interpolate` instead.\n",
            "  im_tensor = F.upsample(im_tensor, size, mode=\"bilinear\")\n",
            "/content/DIS/IS-Net/data_loader_cache.py:130: UserWarning: To copy construct from a tensor, it is recommended to use sourceTensor.clone().detach() or sourceTensor.clone().detach().requires_grad_(True), rather than torch.tensor(sourceTensor).\n",
            "  gt_tensor = torch.unsqueeze(torch.tensor(gt_tensor, dtype=torch.float32),0)\n",
            "/content/DIS/IS-Net/data_loader_cache.py:131: UserWarning: `nn.functional.upsample` is deprecated. Use `nn.functional.interpolate` instead.\n",
            "  gt_tensor = F.upsample(gt_tensor, size, mode=\"bilinear\")\n",
            "/content/DIS/IS-Net/data_loader_cache.py:116: UserWarning: `nn.functional.upsample` is deprecated. Use `nn.functional.interpolate` instead.\n",
            "  im_tensor = F.upsample(im_tensor, size, mode=\"bilinear\")\n",
            "/content/DIS/IS-Net/data_loader_cache.py:130: UserWarning: To copy construct from a tensor, it is recommended to use sourceTensor.clone().detach() or sourceTensor.clone().detach().requires_grad_(True), rather than torch.tensor(sourceTensor).\n",
            "  gt_tensor = torch.unsqueeze(torch.tensor(gt_tensor, dtype=torch.float32),0)\n",
            "/content/DIS/IS-Net/data_loader_cache.py:131: UserWarning: `nn.functional.upsample` is deprecated. Use `nn.functional.interpolate` instead.\n",
            "  gt_tensor = F.upsample(gt_tensor, size, mode=\"bilinear\")\n",
            "/content/DIS/IS-Net/data_loader_cache.py:116: UserWarning: `nn.functional.upsample` is deprecated. Use `nn.functional.interpolate` instead.\n",
            "  im_tensor = F.upsample(im_tensor, size, mode=\"bilinear\")\n",
            "/content/DIS/IS-Net/data_loader_cache.py:130: UserWarning: To copy construct from a tensor, it is recommended to use sourceTensor.clone().detach() or sourceTensor.clone().detach().requires_grad_(True), rather than torch.tensor(sourceTensor).\n",
            "  gt_tensor = torch.unsqueeze(torch.tensor(gt_tensor, dtype=torch.float32),0)\n",
            "/content/DIS/IS-Net/data_loader_cache.py:131: UserWarning: `nn.functional.upsample` is deprecated. Use `nn.functional.interpolate` instead.\n",
            "  gt_tensor = F.upsample(gt_tensor, size, mode=\"bilinear\")\n",
            "  6%|▌         | 172/3000 [00:06<01:45, 26.82it/s]/content/DIS/IS-Net/data_loader_cache.py:116: UserWarning: `nn.functional.upsample` is deprecated. Use `nn.functional.interpolate` instead.\n",
            "  im_tensor = F.upsample(im_tensor, size, mode=\"bilinear\")\n",
            "/content/DIS/IS-Net/data_loader_cache.py:130: UserWarning: To copy construct from a tensor, it is recommended to use sourceTensor.clone().detach() or sourceTensor.clone().detach().requires_grad_(True), rather than torch.tensor(sourceTensor).\n",
            "  gt_tensor = torch.unsqueeze(torch.tensor(gt_tensor, dtype=torch.float32),0)\n",
            "/content/DIS/IS-Net/data_loader_cache.py:131: UserWarning: `nn.functional.upsample` is deprecated. Use `nn.functional.interpolate` instead.\n",
            "  gt_tensor = F.upsample(gt_tensor, size, mode=\"bilinear\")\n",
            "/content/DIS/IS-Net/data_loader_cache.py:116: UserWarning: `nn.functional.upsample` is deprecated. Use `nn.functional.interpolate` instead.\n",
            "  im_tensor = F.upsample(im_tensor, size, mode=\"bilinear\")\n",
            "/content/DIS/IS-Net/data_loader_cache.py:130: UserWarning: To copy construct from a tensor, it is recommended to use sourceTensor.clone().detach() or sourceTensor.clone().detach().requires_grad_(True), rather than torch.tensor(sourceTensor).\n",
            "  gt_tensor = torch.unsqueeze(torch.tensor(gt_tensor, dtype=torch.float32),0)\n",
            "/content/DIS/IS-Net/data_loader_cache.py:131: UserWarning: `nn.functional.upsample` is deprecated. Use `nn.functional.interpolate` instead.\n",
            "  gt_tensor = F.upsample(gt_tensor, size, mode=\"bilinear\")\n",
            "  6%|▌         | 174/3000 [00:07<01:53, 24.79it/s]\n"
          ]
        },
        {
          "output_type": "stream",
          "name": "stdout",
          "text": [
            "im_path:  ../DIS5K/DIS-TR/im/1#Accessories#5#Jewelry#4619175138_a67fb5ab65_o.jpg\n",
            "im_path:  ../DIS5K/DIS-TR/im/8#Electronics#6#Microphone#32847449561_75b75912b0_o.jpg\n",
            "im_path:  ../DIS5K/DIS-TR/im/10#Frame#5#Rack#50192998807_35e5af2514_o.jpg\n",
            "im_path:  ../DIS5K/DIS-TR/im/11#Furniture#18#TableChair#2982739997_e8174c6c3e_o.jpg\n",
            "im_path:  ../DIS5K/DIS-TR/im/17#Non-motor Vehicle#7#Mower#5779003232_3bb3ae531a_o.jpg\n",
            "im_path:  ../DIS5K/DIS-TR/im/2#Aircraft#1#Airplane#2631761913_3ac67d0223_o.jpg\n"
          ]
        },
        {
          "output_type": "error",
          "ename": "KeyboardInterrupt",
          "evalue": "",
          "traceback": [
            "\u001b[0;31m---------------------------------------------------------------------------\u001b[0m",
            "\u001b[0;31mKeyboardInterrupt\u001b[0m                         Traceback (most recent call last)",
            "\u001b[0;32m<ipython-input-21-70d2572aeb2a>\u001b[0m in \u001b[0;36m<cell line: 0>\u001b[0;34m()\u001b[0m\n\u001b[1;32m     10\u001b[0m \u001b[0;34m\u001b[0m\u001b[0m\n\u001b[1;32m     11\u001b[0m \u001b[0;31m# Now call your main training/inference function.\u001b[0m\u001b[0;34m\u001b[0m\u001b[0;34m\u001b[0m\u001b[0m\n\u001b[0;32m---> 12\u001b[0;31m \u001b[0mtrain_valid_inference_main\u001b[0m\u001b[0;34m.\u001b[0m\u001b[0mmain\u001b[0m\u001b[0;34m(\u001b[0m\u001b[0mdevice\u001b[0m\u001b[0;34m,\u001b[0m\u001b[0mtrain_datasets\u001b[0m\u001b[0;34m,\u001b[0m \u001b[0mvalid_datasets\u001b[0m\u001b[0;34m,\u001b[0m \u001b[0mhypar\u001b[0m\u001b[0;34m=\u001b[0m\u001b[0mhypar\u001b[0m\u001b[0;34m)\u001b[0m\u001b[0;34m\u001b[0m\u001b[0;34m\u001b[0m\u001b[0m\n\u001b[0m",
            "\u001b[0;32m/content/DIS/IS-Net/train_valid_inference_main.py\u001b[0m in \u001b[0;36mmain\u001b[0;34m(device, train_datasets, valid_datasets, hypar)\u001b[0m\n\u001b[1;32m    532\u001b[0m         \u001b[0mtrain_nm_im_gt_list\u001b[0m \u001b[0;34m=\u001b[0m \u001b[0mget_im_gt_name_dict\u001b[0m\u001b[0;34m(\u001b[0m\u001b[0mtrain_datasets\u001b[0m\u001b[0;34m,\u001b[0m \u001b[0mflag\u001b[0m\u001b[0;34m=\u001b[0m\u001b[0;34m\"train\"\u001b[0m\u001b[0;34m)\u001b[0m\u001b[0;34m\u001b[0m\u001b[0;34m\u001b[0m\u001b[0m\n\u001b[1;32m    533\u001b[0m         \u001b[0;31m## build dataloader for training datasets\u001b[0m\u001b[0;34m\u001b[0m\u001b[0;34m\u001b[0m\u001b[0m\n\u001b[0;32m--> 534\u001b[0;31m         train_dataloaders, train_datasets = create_dataloaders(train_nm_im_gt_list,\n\u001b[0m\u001b[1;32m    535\u001b[0m                                                              \u001b[0mcache_size\u001b[0m \u001b[0;34m=\u001b[0m \u001b[0mhypar\u001b[0m\u001b[0;34m[\u001b[0m\u001b[0;34m\"cache_size\"\u001b[0m\u001b[0;34m]\u001b[0m\u001b[0;34m,\u001b[0m\u001b[0;34m\u001b[0m\u001b[0;34m\u001b[0m\u001b[0m\n\u001b[1;32m    536\u001b[0m                                                              \u001b[0mcache_boost\u001b[0m \u001b[0;34m=\u001b[0m \u001b[0mhypar\u001b[0m\u001b[0;34m[\u001b[0m\u001b[0;34m\"cache_boost_train\"\u001b[0m\u001b[0;34m]\u001b[0m\u001b[0;34m,\u001b[0m\u001b[0;34m\u001b[0m\u001b[0;34m\u001b[0m\u001b[0m\n",
            "\u001b[0;32m/content/DIS/IS-Net/data_loader_cache.py\u001b[0m in \u001b[0;36mcreate_dataloaders\u001b[0;34m(name_im_gt_list, cache_size, cache_boost, my_transforms, batch_size, shuffle)\u001b[0m\n\u001b[1;32m     90\u001b[0m \u001b[0;34m\u001b[0m\u001b[0m\n\u001b[1;32m     91\u001b[0m     \u001b[0;32mfor\u001b[0m \u001b[0mi\u001b[0m \u001b[0;32min\u001b[0m \u001b[0mrange\u001b[0m\u001b[0;34m(\u001b[0m\u001b[0;36m0\u001b[0m\u001b[0;34m,\u001b[0m\u001b[0mlen\u001b[0m\u001b[0;34m(\u001b[0m\u001b[0mname_im_gt_list\u001b[0m\u001b[0;34m)\u001b[0m\u001b[0;34m)\u001b[0m\u001b[0;34m:\u001b[0m\u001b[0;34m\u001b[0m\u001b[0;34m\u001b[0m\u001b[0m\n\u001b[0;32m---> 92\u001b[0;31m         gos_dataset = GOSDatasetCache([name_im_gt_list[i]],\n\u001b[0m\u001b[1;32m     93\u001b[0m                                       \u001b[0mcache_size\u001b[0m \u001b[0;34m=\u001b[0m \u001b[0mcache_size\u001b[0m\u001b[0;34m,\u001b[0m\u001b[0;34m\u001b[0m\u001b[0;34m\u001b[0m\u001b[0m\n\u001b[1;32m     94\u001b[0m                                       \u001b[0mcache_path\u001b[0m \u001b[0;34m=\u001b[0m \u001b[0mname_im_gt_list\u001b[0m\u001b[0;34m[\u001b[0m\u001b[0mi\u001b[0m\u001b[0;34m]\u001b[0m\u001b[0;34m[\u001b[0m\u001b[0;34m\"cache_dir\"\u001b[0m\u001b[0;34m]\u001b[0m\u001b[0;34m,\u001b[0m\u001b[0;34m\u001b[0m\u001b[0;34m\u001b[0m\u001b[0m\n",
            "\u001b[0;32m/content/DIS/IS-Net/data_loader_cache.py\u001b[0m in \u001b[0;36m__init__\u001b[0;34m(self, name_im_gt_list, cache_size, cache_path, cache_file_name, cache_boost, transform)\u001b[0m\n\u001b[1;32m    257\u001b[0m         \u001b[0mself\u001b[0m\u001b[0;34m.\u001b[0m\u001b[0mdataset\u001b[0m\u001b[0;34m[\u001b[0m\u001b[0;34m\"gts_pt_dir\"\u001b[0m\u001b[0;34m]\u001b[0m \u001b[0;34m=\u001b[0m \u001b[0;34m\"\"\u001b[0m\u001b[0;34m\u001b[0m\u001b[0;34m\u001b[0m\u001b[0m\n\u001b[1;32m    258\u001b[0m \u001b[0;34m\u001b[0m\u001b[0m\n\u001b[0;32m--> 259\u001b[0;31m         \u001b[0mself\u001b[0m\u001b[0;34m.\u001b[0m\u001b[0mdataset\u001b[0m \u001b[0;34m=\u001b[0m \u001b[0mself\u001b[0m\u001b[0;34m.\u001b[0m\u001b[0mmanage_cache\u001b[0m\u001b[0;34m(\u001b[0m\u001b[0mdataset_names\u001b[0m\u001b[0;34m)\u001b[0m\u001b[0;34m\u001b[0m\u001b[0;34m\u001b[0m\u001b[0m\n\u001b[0m\u001b[1;32m    260\u001b[0m \u001b[0;34m\u001b[0m\u001b[0m\n\u001b[1;32m    261\u001b[0m     \u001b[0;32mdef\u001b[0m \u001b[0mmanage_cache\u001b[0m\u001b[0;34m(\u001b[0m\u001b[0mself\u001b[0m\u001b[0;34m,\u001b[0m\u001b[0mdataset_names\u001b[0m\u001b[0;34m)\u001b[0m\u001b[0;34m:\u001b[0m\u001b[0;34m\u001b[0m\u001b[0;34m\u001b[0m\u001b[0m\n",
            "\u001b[0;32m/content/DIS/IS-Net/data_loader_cache.py\u001b[0m in \u001b[0;36mmanage_cache\u001b[0;34m(self, dataset_names)\u001b[0m\n\u001b[1;32m    264\u001b[0m         \u001b[0mcache_folder\u001b[0m \u001b[0;34m=\u001b[0m \u001b[0mos\u001b[0m\u001b[0;34m.\u001b[0m\u001b[0mpath\u001b[0m\u001b[0;34m.\u001b[0m\u001b[0mjoin\u001b[0m\u001b[0;34m(\u001b[0m\u001b[0mself\u001b[0m\u001b[0;34m.\u001b[0m\u001b[0mcache_path\u001b[0m\u001b[0;34m,\u001b[0m \u001b[0;34m\"_\"\u001b[0m\u001b[0;34m.\u001b[0m\u001b[0mjoin\u001b[0m\u001b[0;34m(\u001b[0m\u001b[0mdataset_names\u001b[0m\u001b[0;34m)\u001b[0m\u001b[0;34m+\u001b[0m\u001b[0;34m\"_\"\u001b[0m\u001b[0;34m+\u001b[0m\u001b[0;34m\"x\"\u001b[0m\u001b[0;34m.\u001b[0m\u001b[0mjoin\u001b[0m\u001b[0;34m(\u001b[0m\u001b[0;34m[\u001b[0m\u001b[0mstr\u001b[0m\u001b[0;34m(\u001b[0m\u001b[0mx\u001b[0m\u001b[0;34m)\u001b[0m \u001b[0;32mfor\u001b[0m \u001b[0mx\u001b[0m \u001b[0;32min\u001b[0m \u001b[0mself\u001b[0m\u001b[0;34m.\u001b[0m\u001b[0mcache_size\u001b[0m\u001b[0;34m]\u001b[0m\u001b[0;34m)\u001b[0m\u001b[0;34m)\u001b[0m\u001b[0;34m\u001b[0m\u001b[0;34m\u001b[0m\u001b[0m\n\u001b[1;32m    265\u001b[0m         \u001b[0;32mif\u001b[0m \u001b[0;32mnot\u001b[0m \u001b[0mos\u001b[0m\u001b[0;34m.\u001b[0m\u001b[0mpath\u001b[0m\u001b[0;34m.\u001b[0m\u001b[0mexists\u001b[0m\u001b[0;34m(\u001b[0m\u001b[0mcache_folder\u001b[0m\u001b[0;34m)\u001b[0m\u001b[0;34m:\u001b[0m \u001b[0;31m# check if the cache files are there, if not then cache\u001b[0m\u001b[0;34m\u001b[0m\u001b[0;34m\u001b[0m\u001b[0m\n\u001b[0;32m--> 266\u001b[0;31m             \u001b[0;32mreturn\u001b[0m \u001b[0mself\u001b[0m\u001b[0;34m.\u001b[0m\u001b[0mcache\u001b[0m\u001b[0;34m(\u001b[0m\u001b[0mcache_folder\u001b[0m\u001b[0;34m)\u001b[0m\u001b[0;34m\u001b[0m\u001b[0;34m\u001b[0m\u001b[0m\n\u001b[0m\u001b[1;32m    267\u001b[0m         \u001b[0;32mreturn\u001b[0m \u001b[0mself\u001b[0m\u001b[0;34m.\u001b[0m\u001b[0mload_cache\u001b[0m\u001b[0;34m(\u001b[0m\u001b[0mcache_folder\u001b[0m\u001b[0;34m)\u001b[0m\u001b[0;34m\u001b[0m\u001b[0;34m\u001b[0m\u001b[0m\n\u001b[1;32m    268\u001b[0m \u001b[0;34m\u001b[0m\u001b[0m\n",
            "\u001b[0;32m/content/DIS/IS-Net/data_loader_cache.py\u001b[0m in \u001b[0;36mcache\u001b[0;34m(self, cache_folder)\u001b[0m\n\u001b[1;32m    279\u001b[0m             \u001b[0mim_id\u001b[0m \u001b[0;34m=\u001b[0m \u001b[0mcached_dataset\u001b[0m\u001b[0;34m[\u001b[0m\u001b[0;34m\"im_name\"\u001b[0m\u001b[0;34m]\u001b[0m\u001b[0;34m[\u001b[0m\u001b[0mi\u001b[0m\u001b[0;34m]\u001b[0m\u001b[0;34m\u001b[0m\u001b[0;34m\u001b[0m\u001b[0m\n\u001b[1;32m    280\u001b[0m             \u001b[0mprint\u001b[0m\u001b[0;34m(\u001b[0m\u001b[0;34m\"im_path: \"\u001b[0m\u001b[0;34m,\u001b[0m \u001b[0mim_path\u001b[0m\u001b[0;34m)\u001b[0m\u001b[0;34m\u001b[0m\u001b[0;34m\u001b[0m\u001b[0m\n\u001b[0;32m--> 281\u001b[0;31m             \u001b[0mim\u001b[0m \u001b[0;34m=\u001b[0m \u001b[0mim_reader\u001b[0m\u001b[0;34m(\u001b[0m\u001b[0mim_path\u001b[0m\u001b[0;34m)\u001b[0m\u001b[0;34m\u001b[0m\u001b[0;34m\u001b[0m\u001b[0m\n\u001b[0m\u001b[1;32m    282\u001b[0m             \u001b[0mim\u001b[0m\u001b[0;34m,\u001b[0m \u001b[0mim_shp\u001b[0m \u001b[0;34m=\u001b[0m \u001b[0mim_preprocess\u001b[0m\u001b[0;34m(\u001b[0m\u001b[0mim\u001b[0m\u001b[0;34m,\u001b[0m\u001b[0mself\u001b[0m\u001b[0;34m.\u001b[0m\u001b[0mcache_size\u001b[0m\u001b[0;34m)\u001b[0m\u001b[0;34m\u001b[0m\u001b[0;34m\u001b[0m\u001b[0m\n\u001b[1;32m    283\u001b[0m             \u001b[0mim_cache_file\u001b[0m \u001b[0;34m=\u001b[0m \u001b[0mos\u001b[0m\u001b[0;34m.\u001b[0m\u001b[0mpath\u001b[0m\u001b[0;34m.\u001b[0m\u001b[0mjoin\u001b[0m\u001b[0;34m(\u001b[0m\u001b[0mcache_folder\u001b[0m\u001b[0;34m,\u001b[0m\u001b[0mself\u001b[0m\u001b[0;34m.\u001b[0m\u001b[0mdataset\u001b[0m\u001b[0;34m[\u001b[0m\u001b[0;34m\"data_name\"\u001b[0m\u001b[0;34m]\u001b[0m\u001b[0;34m[\u001b[0m\u001b[0mi\u001b[0m\u001b[0;34m]\u001b[0m\u001b[0;34m+\u001b[0m\u001b[0;34m\"_\"\u001b[0m\u001b[0;34m+\u001b[0m\u001b[0mim_id\u001b[0m \u001b[0;34m+\u001b[0m \u001b[0;34m\"_im.pt\"\u001b[0m\u001b[0;34m)\u001b[0m\u001b[0;34m\u001b[0m\u001b[0;34m\u001b[0m\u001b[0m\n",
            "\u001b[0;32m/content/DIS/IS-Net/data_loader_cache.py\u001b[0m in \u001b[0;36mim_reader\u001b[0;34m(im_path)\u001b[0m\n\u001b[1;32m    101\u001b[0m \u001b[0;34m\u001b[0m\u001b[0m\n\u001b[1;32m    102\u001b[0m \u001b[0;32mdef\u001b[0m \u001b[0mim_reader\u001b[0m\u001b[0;34m(\u001b[0m\u001b[0mim_path\u001b[0m\u001b[0;34m)\u001b[0m\u001b[0;34m:\u001b[0m\u001b[0;34m\u001b[0m\u001b[0;34m\u001b[0m\u001b[0m\n\u001b[0;32m--> 103\u001b[0;31m     \u001b[0;32mreturn\u001b[0m \u001b[0mio\u001b[0m\u001b[0;34m.\u001b[0m\u001b[0mimread\u001b[0m\u001b[0;34m(\u001b[0m\u001b[0mim_path\u001b[0m\u001b[0;34m)\u001b[0m\u001b[0;34m\u001b[0m\u001b[0;34m\u001b[0m\u001b[0m\n\u001b[0m\u001b[1;32m    104\u001b[0m \u001b[0;34m\u001b[0m\u001b[0m\n\u001b[1;32m    105\u001b[0m \u001b[0;32mdef\u001b[0m \u001b[0mim_preprocess\u001b[0m\u001b[0;34m(\u001b[0m\u001b[0mim\u001b[0m\u001b[0;34m,\u001b[0m\u001b[0msize\u001b[0m\u001b[0;34m)\u001b[0m\u001b[0;34m:\u001b[0m\u001b[0;34m\u001b[0m\u001b[0;34m\u001b[0m\u001b[0m\n",
            "\u001b[0;32m/usr/local/lib/python3.11/dist-packages/skimage/_shared/utils.py\u001b[0m in \u001b[0;36mfixed_func\u001b[0;34m(*args, **kwargs)\u001b[0m\n\u001b[1;32m    326\u001b[0m                     \u001b[0mkwargs\u001b[0m\u001b[0;34m[\u001b[0m\u001b[0mself\u001b[0m\u001b[0;34m.\u001b[0m\u001b[0mnew_name\u001b[0m\u001b[0;34m]\u001b[0m \u001b[0;34m=\u001b[0m \u001b[0mdeprecated_value\u001b[0m\u001b[0;34m\u001b[0m\u001b[0;34m\u001b[0m\u001b[0m\n\u001b[1;32m    327\u001b[0m \u001b[0;34m\u001b[0m\u001b[0m\n\u001b[0;32m--> 328\u001b[0;31m             \u001b[0;32mreturn\u001b[0m \u001b[0mfunc\u001b[0m\u001b[0;34m(\u001b[0m\u001b[0;34m*\u001b[0m\u001b[0margs\u001b[0m\u001b[0;34m,\u001b[0m \u001b[0;34m**\u001b[0m\u001b[0mkwargs\u001b[0m\u001b[0;34m)\u001b[0m\u001b[0;34m\u001b[0m\u001b[0;34m\u001b[0m\u001b[0m\n\u001b[0m\u001b[1;32m    329\u001b[0m \u001b[0;34m\u001b[0m\u001b[0m\n\u001b[1;32m    330\u001b[0m         \u001b[0;32mif\u001b[0m \u001b[0mself\u001b[0m\u001b[0;34m.\u001b[0m\u001b[0mmodify_docstring\u001b[0m \u001b[0;32mand\u001b[0m \u001b[0mfunc\u001b[0m\u001b[0;34m.\u001b[0m\u001b[0m__doc__\u001b[0m \u001b[0;32mis\u001b[0m \u001b[0;32mnot\u001b[0m \u001b[0;32mNone\u001b[0m\u001b[0;34m:\u001b[0m\u001b[0;34m\u001b[0m\u001b[0;34m\u001b[0m\u001b[0m\n",
            "\u001b[0;32m/usr/local/lib/python3.11/dist-packages/skimage/io/_io.py\u001b[0m in \u001b[0;36mimread\u001b[0;34m(fname, as_gray, plugin, **plugin_args)\u001b[0m\n\u001b[1;32m     80\u001b[0m \u001b[0;34m\u001b[0m\u001b[0m\n\u001b[1;32m     81\u001b[0m     \u001b[0;32mwith\u001b[0m \u001b[0mfile_or_url_context\u001b[0m\u001b[0;34m(\u001b[0m\u001b[0mfname\u001b[0m\u001b[0;34m)\u001b[0m \u001b[0;32mas\u001b[0m \u001b[0mfname\u001b[0m\u001b[0;34m,\u001b[0m \u001b[0m_hide_plugin_deprecation_warnings\u001b[0m\u001b[0;34m(\u001b[0m\u001b[0;34m)\u001b[0m\u001b[0;34m:\u001b[0m\u001b[0;34m\u001b[0m\u001b[0;34m\u001b[0m\u001b[0m\n\u001b[0;32m---> 82\u001b[0;31m         \u001b[0mimg\u001b[0m \u001b[0;34m=\u001b[0m \u001b[0mcall_plugin\u001b[0m\u001b[0;34m(\u001b[0m\u001b[0;34m'imread'\u001b[0m\u001b[0;34m,\u001b[0m \u001b[0mfname\u001b[0m\u001b[0;34m,\u001b[0m \u001b[0mplugin\u001b[0m\u001b[0;34m=\u001b[0m\u001b[0mplugin\u001b[0m\u001b[0;34m,\u001b[0m \u001b[0;34m**\u001b[0m\u001b[0mplugin_args\u001b[0m\u001b[0;34m)\u001b[0m\u001b[0;34m\u001b[0m\u001b[0;34m\u001b[0m\u001b[0m\n\u001b[0m\u001b[1;32m     83\u001b[0m \u001b[0;34m\u001b[0m\u001b[0m\n\u001b[1;32m     84\u001b[0m     \u001b[0;32mif\u001b[0m \u001b[0;32mnot\u001b[0m \u001b[0mhasattr\u001b[0m\u001b[0;34m(\u001b[0m\u001b[0mimg\u001b[0m\u001b[0;34m,\u001b[0m \u001b[0;34m'ndim'\u001b[0m\u001b[0;34m)\u001b[0m\u001b[0;34m:\u001b[0m\u001b[0;34m\u001b[0m\u001b[0;34m\u001b[0m\u001b[0m\n",
            "\u001b[0;32m/usr/local/lib/python3.11/dist-packages/skimage/_shared/utils.py\u001b[0m in \u001b[0;36mwrapped\u001b[0;34m(*args, **kwargs)\u001b[0m\n\u001b[1;32m    536\u001b[0m             \u001b[0mstacklevel\u001b[0m \u001b[0;34m=\u001b[0m \u001b[0;36m1\u001b[0m \u001b[0;34m+\u001b[0m \u001b[0mself\u001b[0m\u001b[0;34m.\u001b[0m\u001b[0mget_stack_length\u001b[0m\u001b[0;34m(\u001b[0m\u001b[0mfunc\u001b[0m\u001b[0;34m)\u001b[0m \u001b[0;34m-\u001b[0m \u001b[0mstack_rank\u001b[0m\u001b[0;34m\u001b[0m\u001b[0;34m\u001b[0m\u001b[0m\n\u001b[1;32m    537\u001b[0m             \u001b[0mwarnings\u001b[0m\u001b[0;34m.\u001b[0m\u001b[0mwarn\u001b[0m\u001b[0;34m(\u001b[0m\u001b[0mmessage\u001b[0m\u001b[0;34m,\u001b[0m \u001b[0mcategory\u001b[0m\u001b[0;34m=\u001b[0m\u001b[0mFutureWarning\u001b[0m\u001b[0;34m,\u001b[0m \u001b[0mstacklevel\u001b[0m\u001b[0;34m=\u001b[0m\u001b[0mstacklevel\u001b[0m\u001b[0;34m)\u001b[0m\u001b[0;34m\u001b[0m\u001b[0;34m\u001b[0m\u001b[0m\n\u001b[0;32m--> 538\u001b[0;31m             \u001b[0;32mreturn\u001b[0m \u001b[0mfunc\u001b[0m\u001b[0;34m(\u001b[0m\u001b[0;34m*\u001b[0m\u001b[0margs\u001b[0m\u001b[0;34m,\u001b[0m \u001b[0;34m**\u001b[0m\u001b[0mkwargs\u001b[0m\u001b[0;34m)\u001b[0m\u001b[0;34m\u001b[0m\u001b[0;34m\u001b[0m\u001b[0m\n\u001b[0m\u001b[1;32m    539\u001b[0m \u001b[0;34m\u001b[0m\u001b[0m\n\u001b[1;32m    540\u001b[0m         \u001b[0;31m# modify docstring to display deprecation warning\u001b[0m\u001b[0;34m\u001b[0m\u001b[0;34m\u001b[0m\u001b[0m\n",
            "\u001b[0;32m/usr/local/lib/python3.11/dist-packages/skimage/io/manage_plugins.py\u001b[0m in \u001b[0;36mcall_plugin\u001b[0;34m(kind, *args, **kwargs)\u001b[0m\n\u001b[1;32m    252\u001b[0m             \u001b[0;32mraise\u001b[0m \u001b[0mRuntimeError\u001b[0m\u001b[0;34m(\u001b[0m\u001b[0;34mf'Could not find the plugin \"{plugin}\" for {kind}.'\u001b[0m\u001b[0;34m)\u001b[0m\u001b[0;34m\u001b[0m\u001b[0;34m\u001b[0m\u001b[0m\n\u001b[1;32m    253\u001b[0m \u001b[0;34m\u001b[0m\u001b[0m\n\u001b[0;32m--> 254\u001b[0;31m     \u001b[0;32mreturn\u001b[0m \u001b[0mfunc\u001b[0m\u001b[0;34m(\u001b[0m\u001b[0;34m*\u001b[0m\u001b[0margs\u001b[0m\u001b[0;34m,\u001b[0m \u001b[0;34m**\u001b[0m\u001b[0mkwargs\u001b[0m\u001b[0;34m)\u001b[0m\u001b[0;34m\u001b[0m\u001b[0;34m\u001b[0m\u001b[0m\n\u001b[0m\u001b[1;32m    255\u001b[0m \u001b[0;34m\u001b[0m\u001b[0m\n\u001b[1;32m    256\u001b[0m \u001b[0;34m\u001b[0m\u001b[0m\n",
            "\u001b[0;32m/usr/local/lib/python3.11/dist-packages/skimage/io/_plugins/imageio_plugin.py\u001b[0m in \u001b[0;36mimread\u001b[0;34m(*args, **kwargs)\u001b[0m\n\u001b[1;32m      9\u001b[0m \u001b[0;34m@\u001b[0m\u001b[0mwraps\u001b[0m\u001b[0;34m(\u001b[0m\u001b[0mimageio_imread\u001b[0m\u001b[0;34m)\u001b[0m\u001b[0;34m\u001b[0m\u001b[0;34m\u001b[0m\u001b[0m\n\u001b[1;32m     10\u001b[0m \u001b[0;32mdef\u001b[0m \u001b[0mimread\u001b[0m\u001b[0;34m(\u001b[0m\u001b[0;34m*\u001b[0m\u001b[0margs\u001b[0m\u001b[0;34m,\u001b[0m \u001b[0;34m**\u001b[0m\u001b[0mkwargs\u001b[0m\u001b[0;34m)\u001b[0m\u001b[0;34m:\u001b[0m\u001b[0;34m\u001b[0m\u001b[0;34m\u001b[0m\u001b[0m\n\u001b[0;32m---> 11\u001b[0;31m     \u001b[0mout\u001b[0m \u001b[0;34m=\u001b[0m \u001b[0mnp\u001b[0m\u001b[0;34m.\u001b[0m\u001b[0masarray\u001b[0m\u001b[0;34m(\u001b[0m\u001b[0mimageio_imread\u001b[0m\u001b[0;34m(\u001b[0m\u001b[0;34m*\u001b[0m\u001b[0margs\u001b[0m\u001b[0;34m,\u001b[0m \u001b[0;34m**\u001b[0m\u001b[0mkwargs\u001b[0m\u001b[0;34m)\u001b[0m\u001b[0;34m)\u001b[0m\u001b[0;34m\u001b[0m\u001b[0;34m\u001b[0m\u001b[0m\n\u001b[0m\u001b[1;32m     12\u001b[0m     \u001b[0;32mif\u001b[0m \u001b[0;32mnot\u001b[0m \u001b[0mout\u001b[0m\u001b[0;34m.\u001b[0m\u001b[0mflags\u001b[0m\u001b[0;34m[\u001b[0m\u001b[0;34m'WRITEABLE'\u001b[0m\u001b[0;34m]\u001b[0m\u001b[0;34m:\u001b[0m\u001b[0;34m\u001b[0m\u001b[0;34m\u001b[0m\u001b[0m\n\u001b[1;32m     13\u001b[0m         \u001b[0mout\u001b[0m \u001b[0;34m=\u001b[0m \u001b[0mout\u001b[0m\u001b[0;34m.\u001b[0m\u001b[0mcopy\u001b[0m\u001b[0;34m(\u001b[0m\u001b[0;34m)\u001b[0m\u001b[0;34m\u001b[0m\u001b[0;34m\u001b[0m\u001b[0m\n",
            "\u001b[0;32m/usr/local/lib/python3.11/dist-packages/imageio/v3.py\u001b[0m in \u001b[0;36mimread\u001b[0;34m(uri, index, plugin, extension, format_hint, **kwargs)\u001b[0m\n\u001b[1;32m     52\u001b[0m \u001b[0;34m\u001b[0m\u001b[0m\n\u001b[1;32m     53\u001b[0m     \u001b[0;32mwith\u001b[0m \u001b[0mimopen\u001b[0m\u001b[0;34m(\u001b[0m\u001b[0muri\u001b[0m\u001b[0;34m,\u001b[0m \u001b[0;34m\"r\"\u001b[0m\u001b[0;34m,\u001b[0m \u001b[0;34m**\u001b[0m\u001b[0mplugin_kwargs\u001b[0m\u001b[0;34m)\u001b[0m \u001b[0;32mas\u001b[0m \u001b[0mimg_file\u001b[0m\u001b[0;34m:\u001b[0m\u001b[0;34m\u001b[0m\u001b[0;34m\u001b[0m\u001b[0m\n\u001b[0;32m---> 54\u001b[0;31m         \u001b[0;32mreturn\u001b[0m \u001b[0mnp\u001b[0m\u001b[0;34m.\u001b[0m\u001b[0masarray\u001b[0m\u001b[0;34m(\u001b[0m\u001b[0mimg_file\u001b[0m\u001b[0;34m.\u001b[0m\u001b[0mread\u001b[0m\u001b[0;34m(\u001b[0m\u001b[0;34m**\u001b[0m\u001b[0mcall_kwargs\u001b[0m\u001b[0;34m)\u001b[0m\u001b[0;34m)\u001b[0m\u001b[0;34m\u001b[0m\u001b[0;34m\u001b[0m\u001b[0m\n\u001b[0m\u001b[1;32m     55\u001b[0m \u001b[0;34m\u001b[0m\u001b[0m\n\u001b[1;32m     56\u001b[0m \u001b[0;34m\u001b[0m\u001b[0m\n",
            "\u001b[0;32m/usr/local/lib/python3.11/dist-packages/imageio/plugins/pillow.py\u001b[0m in \u001b[0;36mread\u001b[0;34m(self, index, mode, rotate, apply_gamma, writeable_output, pilmode, exifrotate, as_gray)\u001b[0m\n\u001b[1;32m    250\u001b[0m             \u001b[0;31m# will raise IO error if index >= number of frames in image\u001b[0m\u001b[0;34m\u001b[0m\u001b[0;34m\u001b[0m\u001b[0m\n\u001b[1;32m    251\u001b[0m             \u001b[0mself\u001b[0m\u001b[0;34m.\u001b[0m\u001b[0m_image\u001b[0m\u001b[0;34m.\u001b[0m\u001b[0mseek\u001b[0m\u001b[0;34m(\u001b[0m\u001b[0mindex\u001b[0m\u001b[0;34m)\u001b[0m\u001b[0;34m\u001b[0m\u001b[0;34m\u001b[0m\u001b[0m\n\u001b[0;32m--> 252\u001b[0;31m             image = self._apply_transforms(\n\u001b[0m\u001b[1;32m    253\u001b[0m                 \u001b[0mself\u001b[0m\u001b[0;34m.\u001b[0m\u001b[0m_image\u001b[0m\u001b[0;34m,\u001b[0m \u001b[0mmode\u001b[0m\u001b[0;34m,\u001b[0m \u001b[0mrotate\u001b[0m\u001b[0;34m,\u001b[0m \u001b[0mapply_gamma\u001b[0m\u001b[0;34m,\u001b[0m \u001b[0mwriteable_output\u001b[0m\u001b[0;34m\u001b[0m\u001b[0;34m\u001b[0m\u001b[0m\n\u001b[1;32m    254\u001b[0m             )\n",
            "\u001b[0;32m/usr/local/lib/python3.11/dist-packages/imageio/plugins/pillow.py\u001b[0m in \u001b[0;36m_apply_transforms\u001b[0;34m(self, image, mode, rotate, apply_gamma, writeable_output)\u001b[0m\n\u001b[1;32m    331\u001b[0m                 \u001b[0mimage\u001b[0m \u001b[0;34m=\u001b[0m \u001b[0mimage\u001b[0m\u001b[0;34m.\u001b[0m\u001b[0mconvert\u001b[0m\u001b[0;34m(\u001b[0m\u001b[0mdesired_mode\u001b[0m\u001b[0;34m)\u001b[0m\u001b[0;34m\u001b[0m\u001b[0;34m\u001b[0m\u001b[0m\n\u001b[1;32m    332\u001b[0m \u001b[0;34m\u001b[0m\u001b[0m\n\u001b[0;32m--> 333\u001b[0;31m         \u001b[0mimage\u001b[0m \u001b[0;34m=\u001b[0m \u001b[0mnp\u001b[0m\u001b[0;34m.\u001b[0m\u001b[0masarray\u001b[0m\u001b[0;34m(\u001b[0m\u001b[0mimage\u001b[0m\u001b[0;34m)\u001b[0m\u001b[0;34m\u001b[0m\u001b[0;34m\u001b[0m\u001b[0m\n\u001b[0m\u001b[1;32m    334\u001b[0m \u001b[0;34m\u001b[0m\u001b[0m\n\u001b[1;32m    335\u001b[0m         \u001b[0mmeta\u001b[0m \u001b[0;34m=\u001b[0m \u001b[0mself\u001b[0m\u001b[0;34m.\u001b[0m\u001b[0mmetadata\u001b[0m\u001b[0;34m(\u001b[0m\u001b[0mindex\u001b[0m\u001b[0;34m=\u001b[0m\u001b[0mself\u001b[0m\u001b[0;34m.\u001b[0m\u001b[0m_image\u001b[0m\u001b[0;34m.\u001b[0m\u001b[0mtell\u001b[0m\u001b[0;34m(\u001b[0m\u001b[0;34m)\u001b[0m\u001b[0;34m,\u001b[0m \u001b[0mexclude_applied\u001b[0m\u001b[0;34m=\u001b[0m\u001b[0;32mFalse\u001b[0m\u001b[0;34m)\u001b[0m\u001b[0;34m\u001b[0m\u001b[0;34m\u001b[0m\u001b[0m\n",
            "\u001b[0;32m/usr/local/lib/python3.11/dist-packages/PIL/Image.py\u001b[0m in \u001b[0;36m__array_interface__\u001b[0;34m(self)\u001b[0m\n\u001b[1;32m    745\u001b[0m             \u001b[0mnew\u001b[0m\u001b[0;34m[\u001b[0m\u001b[0;34m\"data\"\u001b[0m\u001b[0;34m]\u001b[0m \u001b[0;34m=\u001b[0m \u001b[0mself\u001b[0m\u001b[0;34m.\u001b[0m\u001b[0mtobytes\u001b[0m\u001b[0;34m(\u001b[0m\u001b[0;34m\"raw\"\u001b[0m\u001b[0;34m,\u001b[0m \u001b[0;34m\"L\"\u001b[0m\u001b[0;34m)\u001b[0m\u001b[0;34m\u001b[0m\u001b[0;34m\u001b[0m\u001b[0m\n\u001b[1;32m    746\u001b[0m         \u001b[0;32melse\u001b[0m\u001b[0;34m:\u001b[0m\u001b[0;34m\u001b[0m\u001b[0;34m\u001b[0m\u001b[0m\n\u001b[0;32m--> 747\u001b[0;31m             \u001b[0mnew\u001b[0m\u001b[0;34m[\u001b[0m\u001b[0;34m\"data\"\u001b[0m\u001b[0;34m]\u001b[0m \u001b[0;34m=\u001b[0m \u001b[0mself\u001b[0m\u001b[0;34m.\u001b[0m\u001b[0mtobytes\u001b[0m\u001b[0;34m(\u001b[0m\u001b[0;34m)\u001b[0m\u001b[0;34m\u001b[0m\u001b[0;34m\u001b[0m\u001b[0m\n\u001b[0m\u001b[1;32m    748\u001b[0m         \u001b[0mnew\u001b[0m\u001b[0;34m[\u001b[0m\u001b[0;34m\"shape\"\u001b[0m\u001b[0;34m]\u001b[0m\u001b[0;34m,\u001b[0m \u001b[0mnew\u001b[0m\u001b[0;34m[\u001b[0m\u001b[0;34m\"typestr\"\u001b[0m\u001b[0;34m]\u001b[0m \u001b[0;34m=\u001b[0m \u001b[0m_conv_type_shape\u001b[0m\u001b[0;34m(\u001b[0m\u001b[0mself\u001b[0m\u001b[0;34m)\u001b[0m\u001b[0;34m\u001b[0m\u001b[0;34m\u001b[0m\u001b[0m\n\u001b[1;32m    749\u001b[0m         \u001b[0;32mreturn\u001b[0m \u001b[0mnew\u001b[0m\u001b[0;34m\u001b[0m\u001b[0;34m\u001b[0m\u001b[0m\n",
            "\u001b[0;32m/usr/local/lib/python3.11/dist-packages/PIL/Image.py\u001b[0m in \u001b[0;36mtobytes\u001b[0;34m(self, encoder_name, *args)\u001b[0m\n\u001b[1;32m    794\u001b[0m             \u001b[0mencoder_args\u001b[0m \u001b[0;34m=\u001b[0m \u001b[0mself\u001b[0m\u001b[0;34m.\u001b[0m\u001b[0mmode\u001b[0m\u001b[0;34m\u001b[0m\u001b[0;34m\u001b[0m\u001b[0m\n\u001b[1;32m    795\u001b[0m \u001b[0;34m\u001b[0m\u001b[0m\n\u001b[0;32m--> 796\u001b[0;31m         \u001b[0mself\u001b[0m\u001b[0;34m.\u001b[0m\u001b[0mload\u001b[0m\u001b[0;34m(\u001b[0m\u001b[0;34m)\u001b[0m\u001b[0;34m\u001b[0m\u001b[0;34m\u001b[0m\u001b[0m\n\u001b[0m\u001b[1;32m    797\u001b[0m \u001b[0;34m\u001b[0m\u001b[0m\n\u001b[1;32m    798\u001b[0m         \u001b[0;32mif\u001b[0m \u001b[0mself\u001b[0m\u001b[0;34m.\u001b[0m\u001b[0mwidth\u001b[0m \u001b[0;34m==\u001b[0m \u001b[0;36m0\u001b[0m \u001b[0;32mor\u001b[0m \u001b[0mself\u001b[0m\u001b[0;34m.\u001b[0m\u001b[0mheight\u001b[0m \u001b[0;34m==\u001b[0m \u001b[0;36m0\u001b[0m\u001b[0;34m:\u001b[0m\u001b[0;34m\u001b[0m\u001b[0;34m\u001b[0m\u001b[0m\n",
            "\u001b[0;32m/usr/local/lib/python3.11/dist-packages/PIL/ImageFile.py\u001b[0m in \u001b[0;36mload\u001b[0;34m(self)\u001b[0m\n\u001b[1;32m    298\u001b[0m \u001b[0;34m\u001b[0m\u001b[0m\n\u001b[1;32m    299\u001b[0m                             \u001b[0mb\u001b[0m \u001b[0;34m=\u001b[0m \u001b[0mb\u001b[0m \u001b[0;34m+\u001b[0m \u001b[0ms\u001b[0m\u001b[0;34m\u001b[0m\u001b[0;34m\u001b[0m\u001b[0m\n\u001b[0;32m--> 300\u001b[0;31m                             \u001b[0mn\u001b[0m\u001b[0;34m,\u001b[0m \u001b[0merr_code\u001b[0m \u001b[0;34m=\u001b[0m \u001b[0mdecoder\u001b[0m\u001b[0;34m.\u001b[0m\u001b[0mdecode\u001b[0m\u001b[0;34m(\u001b[0m\u001b[0mb\u001b[0m\u001b[0;34m)\u001b[0m\u001b[0;34m\u001b[0m\u001b[0;34m\u001b[0m\u001b[0m\n\u001b[0m\u001b[1;32m    301\u001b[0m                             \u001b[0;32mif\u001b[0m \u001b[0mn\u001b[0m \u001b[0;34m<\u001b[0m \u001b[0;36m0\u001b[0m\u001b[0;34m:\u001b[0m\u001b[0;34m\u001b[0m\u001b[0;34m\u001b[0m\u001b[0m\n\u001b[1;32m    302\u001b[0m                                 \u001b[0;32mbreak\u001b[0m\u001b[0;34m\u001b[0m\u001b[0;34m\u001b[0m\u001b[0m\n",
            "\u001b[0;31mKeyboardInterrupt\u001b[0m: "
          ]
        }
      ],
      "source": [
        "#!rm -r ../DIS5K-Cache/ # clean cache if cache not build correctly\n",
        "#path to save checkpoint\n",
        "save_path = \"/content/drive/MyDrive/isnet_classic_data\"\n",
        "# Specify the filename (relative to save_path) for the pretrained model if no pretrained then \"\"\n",
        "restore_filename = \"isnet_classic.pth\"\n",
        "#4 channels (RGB+depth)\n",
        "input_channels = 3\n",
        "# Get the configured hyperparameters and datasets.\n",
        "hypar, train_datasets, valid_datasets = configure_datasets_and_hypar(restore_filename, save_path, input_channels, mode=\"train\")\n",
        "\n",
        "# Now call your main training/inference function.\n",
        "train_valid_inference_main.main(device,train_datasets, valid_datasets, hypar=hypar)\n"
      ]
    },
    {
      "cell_type": "markdown",
      "metadata": {
        "id": "rvUIyECzKyTB"
      },
      "source": [
        "#inference and export models"
      ]
    },
    {
      "cell_type": "code",
      "execution_count": 30,
      "metadata": {
        "id": "ipbZVFV9JV8c"
      },
      "outputs": [],
      "source": [
        "import os\n",
        "import torch\n",
        "import torch.nn as nn\n",
        "import torch.nn.functional as F\n",
        "from transformers import AutoModelForDepthEstimation\n",
        "from models import ISNetDIS  # Your custom ISNet model\n",
        "\n",
        "# =============================================================================\n",
        "# Fused Model Definition: combines Depth-Anything and ISNet.\n",
        "# =============================================================================\n",
        "class FusedModel(nn.Module):\n",
        "    def __init__(self, depth_model, isnet_model):\n",
        "        \"\"\"\n",
        "        depth_model: a torch.nn.Module that takes (B,3,H,W) and outputs a depth map (B,1,H_d,W_d)\n",
        "        isnet_model: a torch.nn.Module that expects a 4-channel input (B,4,H,W)\n",
        "        \"\"\"\n",
        "        super(FusedModel, self).__init__()\n",
        "        self.depth_model = depth_model\n",
        "        self.isnet_model = isnet_model\n",
        "\n",
        "    def forward(self, x):\n",
        "        \"\"\"\n",
        "        x: Input RGB image tensor of shape (B, 3, H, W)\n",
        "        Returns: Segmentation mask tensor (B,1,H,W)\n",
        "        \"\"\"\n",
        "        # 1. Compute depth. (Assumes depth_model outputs a tuple/list where the first element is the depth)\n",
        "        depth_out = self.depth_model(x)[0].unsqueeze(0)\n",
        "\n",
        "        # 2. Resize depth to match the input size if necessary.\n",
        "        if depth_out.shape[2:] != x.shape[2:]:\n",
        "            depth_out = F.interpolate(depth_out, size=x.shape[2:], mode='bilinear', align_corners=False)\n",
        "\n",
        "        # 3. Normalize the depth per sample.\n",
        "        d_min = torch.amin(depth_out, dim=[2, 3], keepdim=True)\n",
        "        d_max = torch.amax(depth_out, dim=[2, 3], keepdim=True)\n",
        "        depth_norm = (depth_out - d_min) / (d_max - d_min + 1e-8)  # (B,1,H,W)\n",
        "\n",
        "        # 4. Fuse RGB and normalized depth into a 4-channel tensor.\n",
        "        fused_input = torch.cat([x, depth_norm], dim=1)  # (B,4,H,W)\n",
        "\n",
        "        # 4.1 Normalize the 4-channel input with mean=[0.5, 0.5, 0.5, 0.5] and std=[1.0, 1.0, 1.0, 1.0]\n",
        "        mean = torch.tensor([0.5, 0.5, 0.5, 0.5], device=fused_input.device).view(1, 4, 1, 1)\n",
        "        std = torch.tensor([1.0, 1.0, 1.0, 1.0], device=fused_input.device).view(1, 4, 1, 1)\n",
        "        fused_input = (fused_input - mean) / std\n",
        "\n",
        "        # 5. Pass fused input through ISNet.\n",
        "        seg_outputs = self.isnet_model(fused_input)\n",
        "\n",
        "        # Assume the segmentation result is the first element in the list.\n",
        "        ds_val = seg_outputs[0][0]  # (B, 1, H_seg, W_seg)\n",
        "        if ds_val.shape[2:] != x.shape[2:]:\n",
        "            seg_mask = F.interpolate(ds_val, size=x.shape[2:], mode='bilinear', align_corners=False)\n",
        "        else:\n",
        "            seg_mask = ds_val\n",
        "\n",
        "        # Apply sigmoid to obtain mask values in [0,1]\n",
        "        seg_mask = torch.sigmoid(seg_mask)\n",
        "        return seg_mask\n",
        "\n",
        "# =============================================================================\n",
        "# Function to export the fused model to ONNX.\n",
        "# =============================================================================\n",
        "def export_fused_model(onnx_filename=\"fused_model.onnx\"):\n",
        "    device = 'cuda' if torch.cuda.is_available() else 'cpu'\n",
        "    device=\"cpu\"\n",
        "    target_size = (1024, 1024)  # fixed input resolution\n",
        "\n",
        "    # ---------------------------\n",
        "    # Load Depth Model from Hugging Face.\n",
        "    # ---------------------------\n",
        "    print(\"Loading depth model...\")\n",
        "    depth_model = AutoModelForDepthEstimation.from_pretrained(\"depth-anything/Depth-Anything-V2-small-hf\")\n",
        "    depth_model.to(device)\n",
        "    depth_model.eval()\n",
        "\n",
        "    # ---------------------------\n",
        "    # Load the ISNet Model.\n",
        "    # ---------------------------\n",
        "    print(\"Loading ISNet model...\")\n",
        "    hypar = {}\n",
        "    hypar[\"model_path\"] = \"/content/drive/MyDrive/isnet_depth_save\"  # adjust path as needed\n",
        "    hypar[\"restore_model\"] = \"isnet_depth.pth\"\n",
        "    #hypar[\"restore_model\"] = \"/content/drive/MyDrive/data_train/results_depth/gpu_itr_30500_traLoss_0.3603_traTarLoss_0.0372_valLoss_1.1503_valTarLoss_0.1655_maxF1_0.8762_mae_0.0493_time_0.02835.pth\"\n",
        "    hypar[\"model_digit\"] = \"full\"  # \"full\" or \"half\"\n",
        "\n",
        "    # Initialize ISNetDIS with 4 channels (RGB + Depth)\n",
        "    isnet_model = ISNetDIS(in_ch=4)\n",
        "    model_file = os.path.join(hypar[\"model_path\"], hypar[\"restore_model\"])\n",
        "    state_dict = torch.load(model_file, map_location=device)\n",
        "    isnet_model.load_state_dict(state_dict)\n",
        "    isnet_model.to(device)\n",
        "    isnet_model.eval()\n",
        "\n",
        "    # ---------------------------\n",
        "    # Create and Export the Fused Model.\n",
        "    # ---------------------------\n",
        "    print(\"Creating fused model...\")\n",
        "    fused_model = FusedModel(depth_model, isnet_model)\n",
        "    fused_model.to(device)\n",
        "    fused_model.eval()\n",
        "\n",
        "    # Create a dummy input tensor of shape (1,3,1024,1024).\n",
        "    dummy_input = torch.randn(1, 3, target_size[0], target_size[1], device=device)\n",
        "\n",
        "    print(\"Exporting fused model to ONNX...\")\n",
        "    torch.onnx.export(\n",
        "        fused_model,\n",
        "        dummy_input,\n",
        "        onnx_filename,\n",
        "        input_names=[\"input_image\"],\n",
        "        output_names=[\"segmentation_mask\"],\n",
        "        dynamic_axes={\n",
        "            \"input_image\": {0: \"batch_size\"},\n",
        "            \"segmentation_mask\": {0: \"batch_size\"}\n",
        "        },\n",
        "        opset_version=14,\n",
        "        do_constant_folding=True\n",
        "    )\n",
        "    print(f\"Fused model successfully exported to {onnx_filename}\")\n",
        "\n",
        "\n",
        "\n",
        "# =============================================================================\n",
        "# Simple ISNet Model Definition: works directly on 3-channel RGB input.\n",
        "# =============================================================================\n",
        "class SimpleISNetModel(nn.Module):\n",
        "    def __init__(self, isnet_model):\n",
        "        \"\"\"\n",
        "        isnet_model: a torch.nn.Module that takes (B,3,H,W) and outputs a segmentation mask.\n",
        "        \"\"\"\n",
        "        super(SimpleISNetModel, self).__init__()\n",
        "        self.isnet_model = isnet_model\n",
        "\n",
        "        # Register normalization parameters as buffers.\n",
        "        self.register_buffer(\"mean\", torch.tensor([0.5, 0.5, 0.5]).view(1, 3, 1, 1))\n",
        "        self.register_buffer(\"std\", torch.tensor([1.0, 1.0, 1.0]).view(1, 3, 1, 1))\n",
        "\n",
        "    def forward(self, x):\n",
        "        \"\"\"\n",
        "        x: Input RGB image tensor of shape (B, 3, H, W)\n",
        "        Returns: Segmentation mask tensor of shape (B, 1, H, W) with values in [0, 1]\n",
        "        \"\"\"\n",
        "        # Normalize the RGB input.\n",
        "        x_norm = (x - self.mean) / self.std\n",
        "\n",
        "        # Forward pass through ISNet.\n",
        "        # Assumes that the ISNet model returns a list where the first element is the segmentation output.\n",
        "        seg_outputs = self.isnet_model(x_norm)\n",
        "        seg_mask = seg_outputs[0][0]  # Expected shape: (B, 1, H_seg, W_seg)\n",
        "\n",
        "        # If the segmentation mask is not the same spatial size as the input, interpolate it.\n",
        "        if seg_mask.shape[2:] != x.shape[2:]:\n",
        "            seg_mask = F.interpolate(seg_mask, size=x.shape[2:], mode='bilinear', align_corners=False)\n",
        "\n",
        "        # Apply sigmoid to bring values to the range [0, 1].\n",
        "        seg_mask = torch.sigmoid(seg_mask)\n",
        "        return seg_mask\n",
        "\n",
        "# =============================================================================\n",
        "# Function to export the simple ISNet model to ONNX.\n",
        "# =============================================================================\n",
        "def export_simple_model(onnx_filename=\"simple_isnet.onnx\"):\n",
        "    device = 'cuda' if torch.cuda.is_available() else 'cpu'\n",
        "    device = \"cpu\"  # Force CPU if desired; remove this line to use GPU when available.\n",
        "    target_size = (1024, 1024)  # fixed input resolution\n",
        "\n",
        "    # ---------------------------\n",
        "    # Load the ISNet Model.\n",
        "    # ---------------------------\n",
        "    print(\"Loading ISNet model...\")\n",
        "    hypar = {}\n",
        "    hypar[\"model_path\"] = \"/content/drive/MyDrive/isnet_classic_save\"  # adjust path as needed\n",
        "    hypar[\"restore_model\"] = \"isnet_classic.pth\"\n",
        "    hypar[\"model_digit\"] = \"full\"  # \"full\" or \"half\"\n",
        "\n",
        "    # Initialize ISNetDIS with 3 channels (RGB only)\n",
        "    isnet_model = ISNetDIS(in_ch=3)\n",
        "    model_file = os.path.join(hypar[\"model_path\"], hypar[\"restore_model\"])\n",
        "    state_dict = torch.load(model_file, map_location=device)\n",
        "    isnet_model.load_state_dict(state_dict)\n",
        "    isnet_model.to(device)\n",
        "    isnet_model.eval()\n",
        "\n",
        "    # ---------------------------\n",
        "    # Create and Export the Simple ISNet Model.\n",
        "    # ---------------------------\n",
        "    print(\"Creating simple ISNet model...\")\n",
        "    simple_model = SimpleISNetModel(isnet_model)\n",
        "    simple_model.to(device)\n",
        "    simple_model.eval()\n",
        "\n",
        "    # Create a dummy input tensor of shape (1, 3, 1024, 1024).\n",
        "    dummy_input = torch.randn(1, 3, target_size[0], target_size[1], device=device)\n",
        "\n",
        "    print(\"Exporting simple ISNet model to ONNX...\")\n",
        "    torch.onnx.export(\n",
        "        simple_model,\n",
        "        dummy_input,\n",
        "        onnx_filename,\n",
        "        input_names=[\"input_image\"],\n",
        "        output_names=[\"segmentation_mask\"],\n",
        "        dynamic_axes={\n",
        "            \"input_image\": {0: \"batch_size\"},\n",
        "            \"segmentation_mask\": {0: \"batch_size\"}\n",
        "        },\n",
        "        opset_version=14,\n",
        "        do_constant_folding=True\n",
        "    )\n",
        "    print(f\"Simple ISNet model successfully exported to {onnx_filename}\")\n",
        "\n",
        "\n",
        "\n",
        "# =============================================================================\n",
        "# Test the ONNX model and display the result with matplotlib.\n",
        "# =============================================================================\n",
        "def test_onnx_model(onnx_filename=\"fused_model.onnx\", image_source=\"\"):\n",
        "    import onnxruntime as ort\n",
        "    import numpy as np\n",
        "    import torchvision.transforms as transforms\n",
        "    import matplotlib.pyplot as plt\n",
        "    from PIL import Image\n",
        "    from io import BytesIO\n",
        "    import requests\n",
        "\n",
        "    # Check if image_source is a local file path.\n",
        "    if os.path.exists(image_source):\n",
        "        print(\"Loading local image...\")\n",
        "        image = Image.open(image_source).convert(\"RGB\")\n",
        "    else:\n",
        "        print(\"Downloading image from URL...\")\n",
        "        response = requests.get(image_source)\n",
        "        image = Image.open(BytesIO(response.content)).convert(\"RGB\")\n",
        "    image = image.resize((1024, 1024))\n",
        "\n",
        "    # Convert to tensor in [0,1] range.\n",
        "    to_tensor = transforms.ToTensor()\n",
        "    image_tensor = to_tensor(image)  # shape: (3,1024,1024)\n",
        "\n",
        "    # Add batch dimension and convert to numpy (float32).\n",
        "    input_np = image_tensor.unsqueeze(0).numpy().astype(np.float32)\n",
        "\n",
        "    # Load the ONNX model.\n",
        "    print(\"Loading ONNX model...\")\n",
        "    session = ort.InferenceSession(onnx_filename)\n",
        "    input_name = session.get_inputs()[0].name\n",
        "\n",
        "    # Run inference.\n",
        "    print(\"Running inference...\")\n",
        "    outputs = session.run(None, {input_name: input_np})\n",
        "    # Expected output shape: (1,1,1024,1024)\n",
        "    segmentation_mask = outputs[0][0, 0, :, :]\n",
        "\n",
        "    # Plot the input image and segmentation mask.\n",
        "    print(\"Displaying results...\")\n",
        "    fig, ax = plt.subplots(1, 2, figsize=(15, 7))\n",
        "    ax[0].imshow(image)\n",
        "    ax[0].set_title(\"Input Image\")\n",
        "    ax[0].axis(\"off\")\n",
        "\n",
        "    ax[1].imshow(segmentation_mask, cmap=\"gray\")\n",
        "    ax[1].set_title(\"Segmentation Mask\")\n",
        "    ax[1].axis(\"off\")\n",
        "    plt.tight_layout()\n",
        "    plt.show()\n"
      ]
    },
    {
      "cell_type": "markdown",
      "metadata": {
        "id": "iqCQVHF_MQ4-"
      },
      "source": [
        "##export isnet_depth together with a depth model to onnx"
      ]
    },
    {
      "cell_type": "code",
      "execution_count": 29,
      "metadata": {
        "colab": {
          "base_uri": "https://localhost:8080/",
          "height": 385
        },
        "id": "jxAsBdldMMR7",
        "outputId": "23c86c52-21df-4509-969f-1c438dcc910b"
      },
      "outputs": [
        {
          "output_type": "stream",
          "name": "stdout",
          "text": [
            "Loading depth model...\n",
            "Loading ISNet model...\n"
          ]
        },
        {
          "output_type": "stream",
          "name": "stderr",
          "text": [
            "<ipython-input-26-5364c0ef2cdc>:89: FutureWarning: You are using `torch.load` with `weights_only=False` (the current default value), which uses the default pickle module implicitly. It is possible to construct malicious pickle data which will execute arbitrary code during unpickling (See https://github.com/pytorch/pytorch/blob/main/SECURITY.md#untrusted-models for more details). In a future release, the default value for `weights_only` will be flipped to `True`. This limits the functions that could be executed during unpickling. Arbitrary objects will no longer be allowed to be loaded via this mode unless they are explicitly allowlisted by the user via `torch.serialization.add_safe_globals`. We recommend you start setting `weights_only=True` for any use case where you don't have full control of the loaded file. Please open an issue on GitHub for any issues related to this experimental feature.\n",
            "  state_dict = torch.load(model_file, map_location=device)\n"
          ]
        },
        {
          "output_type": "error",
          "ename": "FileNotFoundError",
          "evalue": "[Errno 2] No such file or directory: '/content/drive/MyDrive/isnet_depth_data/isnet_depth.pth'",
          "traceback": [
            "\u001b[0;31m---------------------------------------------------------------------------\u001b[0m",
            "\u001b[0;31mFileNotFoundError\u001b[0m                         Traceback (most recent call last)",
            "\u001b[0;32m<ipython-input-29-544f39b0cda3>\u001b[0m in \u001b[0;36m<cell line: 0>\u001b[0;34m()\u001b[0m\n\u001b[0;32m----> 1\u001b[0;31m \u001b[0mexport_fused_model\u001b[0m\u001b[0;34m(\u001b[0m\u001b[0monnx_filename\u001b[0m\u001b[0;34m=\u001b[0m\u001b[0;34m\"fused_model.onnx\"\u001b[0m\u001b[0;34m)\u001b[0m\u001b[0;34m\u001b[0m\u001b[0;34m\u001b[0m\u001b[0m\n\u001b[0m",
            "\u001b[0;32m<ipython-input-26-5364c0ef2cdc>\u001b[0m in \u001b[0;36mexport_fused_model\u001b[0;34m(onnx_filename)\u001b[0m\n\u001b[1;32m     87\u001b[0m     \u001b[0misnet_model\u001b[0m \u001b[0;34m=\u001b[0m \u001b[0mISNetDIS\u001b[0m\u001b[0;34m(\u001b[0m\u001b[0min_ch\u001b[0m\u001b[0;34m=\u001b[0m\u001b[0;36m4\u001b[0m\u001b[0;34m)\u001b[0m\u001b[0;34m\u001b[0m\u001b[0;34m\u001b[0m\u001b[0m\n\u001b[1;32m     88\u001b[0m     \u001b[0mmodel_file\u001b[0m \u001b[0;34m=\u001b[0m \u001b[0mos\u001b[0m\u001b[0;34m.\u001b[0m\u001b[0mpath\u001b[0m\u001b[0;34m.\u001b[0m\u001b[0mjoin\u001b[0m\u001b[0;34m(\u001b[0m\u001b[0mhypar\u001b[0m\u001b[0;34m[\u001b[0m\u001b[0;34m\"model_path\"\u001b[0m\u001b[0;34m]\u001b[0m\u001b[0;34m,\u001b[0m \u001b[0mhypar\u001b[0m\u001b[0;34m[\u001b[0m\u001b[0;34m\"restore_model\"\u001b[0m\u001b[0;34m]\u001b[0m\u001b[0;34m)\u001b[0m\u001b[0;34m\u001b[0m\u001b[0;34m\u001b[0m\u001b[0m\n\u001b[0;32m---> 89\u001b[0;31m     \u001b[0mstate_dict\u001b[0m \u001b[0;34m=\u001b[0m \u001b[0mtorch\u001b[0m\u001b[0;34m.\u001b[0m\u001b[0mload\u001b[0m\u001b[0;34m(\u001b[0m\u001b[0mmodel_file\u001b[0m\u001b[0;34m,\u001b[0m \u001b[0mmap_location\u001b[0m\u001b[0;34m=\u001b[0m\u001b[0mdevice\u001b[0m\u001b[0;34m)\u001b[0m\u001b[0;34m\u001b[0m\u001b[0;34m\u001b[0m\u001b[0m\n\u001b[0m\u001b[1;32m     90\u001b[0m     \u001b[0misnet_model\u001b[0m\u001b[0;34m.\u001b[0m\u001b[0mload_state_dict\u001b[0m\u001b[0;34m(\u001b[0m\u001b[0mstate_dict\u001b[0m\u001b[0;34m)\u001b[0m\u001b[0;34m\u001b[0m\u001b[0;34m\u001b[0m\u001b[0m\n\u001b[1;32m     91\u001b[0m     \u001b[0misnet_model\u001b[0m\u001b[0;34m.\u001b[0m\u001b[0mto\u001b[0m\u001b[0;34m(\u001b[0m\u001b[0mdevice\u001b[0m\u001b[0;34m)\u001b[0m\u001b[0;34m\u001b[0m\u001b[0;34m\u001b[0m\u001b[0m\n",
            "\u001b[0;32m/usr/local/lib/python3.11/dist-packages/torch/serialization.py\u001b[0m in \u001b[0;36mload\u001b[0;34m(f, map_location, pickle_module, weights_only, mmap, **pickle_load_args)\u001b[0m\n\u001b[1;32m   1317\u001b[0m         \u001b[0mpickle_load_args\u001b[0m\u001b[0;34m[\u001b[0m\u001b[0;34m\"encoding\"\u001b[0m\u001b[0;34m]\u001b[0m \u001b[0;34m=\u001b[0m \u001b[0;34m\"utf-8\"\u001b[0m\u001b[0;34m\u001b[0m\u001b[0;34m\u001b[0m\u001b[0m\n\u001b[1;32m   1318\u001b[0m \u001b[0;34m\u001b[0m\u001b[0m\n\u001b[0;32m-> 1319\u001b[0;31m     \u001b[0;32mwith\u001b[0m \u001b[0m_open_file_like\u001b[0m\u001b[0;34m(\u001b[0m\u001b[0mf\u001b[0m\u001b[0;34m,\u001b[0m \u001b[0;34m\"rb\"\u001b[0m\u001b[0;34m)\u001b[0m \u001b[0;32mas\u001b[0m \u001b[0mopened_file\u001b[0m\u001b[0;34m:\u001b[0m\u001b[0;34m\u001b[0m\u001b[0;34m\u001b[0m\u001b[0m\n\u001b[0m\u001b[1;32m   1320\u001b[0m         \u001b[0;32mif\u001b[0m \u001b[0m_is_zipfile\u001b[0m\u001b[0;34m(\u001b[0m\u001b[0mopened_file\u001b[0m\u001b[0;34m)\u001b[0m\u001b[0;34m:\u001b[0m\u001b[0;34m\u001b[0m\u001b[0;34m\u001b[0m\u001b[0m\n\u001b[1;32m   1321\u001b[0m             \u001b[0;31m# The zipfile reader is going to advance the current file position.\u001b[0m\u001b[0;34m\u001b[0m\u001b[0;34m\u001b[0m\u001b[0m\n",
            "\u001b[0;32m/usr/local/lib/python3.11/dist-packages/torch/serialization.py\u001b[0m in \u001b[0;36m_open_file_like\u001b[0;34m(name_or_buffer, mode)\u001b[0m\n\u001b[1;32m    657\u001b[0m \u001b[0;32mdef\u001b[0m \u001b[0m_open_file_like\u001b[0m\u001b[0;34m(\u001b[0m\u001b[0mname_or_buffer\u001b[0m\u001b[0;34m,\u001b[0m \u001b[0mmode\u001b[0m\u001b[0;34m)\u001b[0m\u001b[0;34m:\u001b[0m\u001b[0;34m\u001b[0m\u001b[0;34m\u001b[0m\u001b[0m\n\u001b[1;32m    658\u001b[0m     \u001b[0;32mif\u001b[0m \u001b[0m_is_path\u001b[0m\u001b[0;34m(\u001b[0m\u001b[0mname_or_buffer\u001b[0m\u001b[0;34m)\u001b[0m\u001b[0;34m:\u001b[0m\u001b[0;34m\u001b[0m\u001b[0;34m\u001b[0m\u001b[0m\n\u001b[0;32m--> 659\u001b[0;31m         \u001b[0;32mreturn\u001b[0m \u001b[0m_open_file\u001b[0m\u001b[0;34m(\u001b[0m\u001b[0mname_or_buffer\u001b[0m\u001b[0;34m,\u001b[0m \u001b[0mmode\u001b[0m\u001b[0;34m)\u001b[0m\u001b[0;34m\u001b[0m\u001b[0;34m\u001b[0m\u001b[0m\n\u001b[0m\u001b[1;32m    660\u001b[0m     \u001b[0;32melse\u001b[0m\u001b[0;34m:\u001b[0m\u001b[0;34m\u001b[0m\u001b[0;34m\u001b[0m\u001b[0m\n\u001b[1;32m    661\u001b[0m         \u001b[0;32mif\u001b[0m \u001b[0;34m\"w\"\u001b[0m \u001b[0;32min\u001b[0m \u001b[0mmode\u001b[0m\u001b[0;34m:\u001b[0m\u001b[0;34m\u001b[0m\u001b[0;34m\u001b[0m\u001b[0m\n",
            "\u001b[0;32m/usr/local/lib/python3.11/dist-packages/torch/serialization.py\u001b[0m in \u001b[0;36m__init__\u001b[0;34m(self, name, mode)\u001b[0m\n\u001b[1;32m    638\u001b[0m \u001b[0;32mclass\u001b[0m \u001b[0m_open_file\u001b[0m\u001b[0;34m(\u001b[0m\u001b[0m_opener\u001b[0m\u001b[0;34m)\u001b[0m\u001b[0;34m:\u001b[0m\u001b[0;34m\u001b[0m\u001b[0;34m\u001b[0m\u001b[0m\n\u001b[1;32m    639\u001b[0m     \u001b[0;32mdef\u001b[0m \u001b[0m__init__\u001b[0m\u001b[0;34m(\u001b[0m\u001b[0mself\u001b[0m\u001b[0;34m,\u001b[0m \u001b[0mname\u001b[0m\u001b[0;34m,\u001b[0m \u001b[0mmode\u001b[0m\u001b[0;34m)\u001b[0m\u001b[0;34m:\u001b[0m\u001b[0;34m\u001b[0m\u001b[0;34m\u001b[0m\u001b[0m\n\u001b[0;32m--> 640\u001b[0;31m         \u001b[0msuper\u001b[0m\u001b[0;34m(\u001b[0m\u001b[0;34m)\u001b[0m\u001b[0;34m.\u001b[0m\u001b[0m__init__\u001b[0m\u001b[0;34m(\u001b[0m\u001b[0mopen\u001b[0m\u001b[0;34m(\u001b[0m\u001b[0mname\u001b[0m\u001b[0;34m,\u001b[0m \u001b[0mmode\u001b[0m\u001b[0;34m)\u001b[0m\u001b[0;34m)\u001b[0m\u001b[0;34m\u001b[0m\u001b[0;34m\u001b[0m\u001b[0m\n\u001b[0m\u001b[1;32m    641\u001b[0m \u001b[0;34m\u001b[0m\u001b[0m\n\u001b[1;32m    642\u001b[0m     \u001b[0;32mdef\u001b[0m \u001b[0m__exit__\u001b[0m\u001b[0;34m(\u001b[0m\u001b[0mself\u001b[0m\u001b[0;34m,\u001b[0m \u001b[0;34m*\u001b[0m\u001b[0margs\u001b[0m\u001b[0;34m)\u001b[0m\u001b[0;34m:\u001b[0m\u001b[0;34m\u001b[0m\u001b[0;34m\u001b[0m\u001b[0m\n",
            "\u001b[0;31mFileNotFoundError\u001b[0m: [Errno 2] No such file or directory: '/content/drive/MyDrive/isnet_depth_data/isnet_depth.pth'"
          ]
        }
      ],
      "source": [
        "export_fused_model(onnx_filename=\"fused_model.onnx\")"
      ]
    },
    {
      "cell_type": "code",
      "source": [
        "/content/drive/MyDrive/isnet_depth_save/isnet_depth.pth"
      ],
      "metadata": {
        "id": "sH9NSaHfr2Q0"
      },
      "execution_count": null,
      "outputs": []
    },
    {
      "cell_type": "markdown",
      "metadata": {
        "id": "l6l5TNcRMo22"
      },
      "source": [
        "##export simple isnet to onnx"
      ]
    },
    {
      "cell_type": "code",
      "execution_count": null,
      "metadata": {
        "id": "b-mGOWnRMmjl"
      },
      "outputs": [],
      "source": [
        "export_simple_model(onnx_filename=\"simple_isnet.onnx\")"
      ]
    },
    {
      "cell_type": "markdown",
      "metadata": {
        "id": "plIUlb1JNp7g"
      },
      "source": [
        "##inference isnet depth"
      ]
    },
    {
      "cell_type": "code",
      "execution_count": null,
      "metadata": {
        "id": "zUgCU7sDNbfS"
      },
      "outputs": [],
      "source": [
        "image_path = \"/content/DIS/DIS5K/DIS-TE2/im/3#Aquatic#1#Lobster#244421747_5345a28183_o.jpg\"\n",
        "test_onnx_model(onnx_filename=\"fused_model.onnx\", image_source=image_path)\n"
      ]
    },
    {
      "cell_type": "markdown",
      "metadata": {
        "id": "NaxFEG3aNxPs"
      },
      "source": [
        "##inference simple isnet"
      ]
    },
    {
      "cell_type": "code",
      "execution_count": null,
      "metadata": {
        "id": "ZEADctUoNagv"
      },
      "outputs": [],
      "source": [
        "image_path = \"/content/DIS/DIS5K/DIS-TE2/im/3#Aquatic#1#Lobster#244421747_5345a28183_o.jpg\"\n",
        "test_onnx_model(onnx_filename=\"simple_isnet.onnx\", image_source=image_path)\n"
      ]
    }
  ],
  "metadata": {
    "colab": {
      "collapsed_sections": [
        "wJg1wSNzNBRZ"
      ],
      "machine_shape": "hm",
      "provenance": []
    },
    "kernelspec": {
      "display_name": "Python 3",
      "name": "python3"
    },
    "language_info": {
      "name": "python"
    }
  },
  "nbformat": 4,
  "nbformat_minor": 0
}